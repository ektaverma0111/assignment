{
  "nbformat": 4,
  "nbformat_minor": 0,
  "metadata": {
    "colab": {
      "provenance": []
    },
    "kernelspec": {
      "name": "python3",
      "display_name": "Python 3"
    },
    "language_info": {
      "name": "python"
    }
  },
  "cells": [
    {
      "cell_type": "markdown",
      "source": [
        "1 = What are data structures, and why are they important ?\n",
        "\n",
        "  Ans = Data structures are organized ways to store, manage, and retrieve data\n",
        "        efficiently in computer science and programming. They define the relationship between data and the operations that can be performed on them.\n",
        "      \n",
        "  Data Structures Are Important:\n",
        "          \n",
        "  Efficiency: Choosing the right structure optimizes time and memory use.\n",
        "\n",
        "  Scalability: Helps handle large amounts of data with minimal performance degradation.\n",
        "\n",
        "  Ease of Use: Simplifies implementation of algorithms (e.g., searching, sorting, and traversing).\n",
        "\n",
        "  Foundation for Algorithms: Most algorithms are built around or depend on data structures.\n",
        "\n",
        "  In essence, effective use of data structures leads to faster, cleaner, and more maintainable code."
      ],
      "metadata": {
        "id": "S4gHdet-EBxQ"
      }
    },
    {
      "cell_type": "markdown",
      "source": [
        "2 = Explain the difference between mutable and immutable data types with\n",
        "   examples ?\n",
        "\n",
        "   Ans = Mutable objects can be changed after creation. You can modify, add, or remove elements without creating a new object.\n",
        "\n",
        "  Examples in Python:\n",
        "\n",
        "  1. List\n",
        "   my_list = [1, 2, 3]\n",
        "   my_list.append(4)  # List is changed\n",
        "   print(my_list)  # Output: [1, 2, 3, 4]\n",
        "\n",
        "    2. Dictionary\n",
        "   my_dict = {\"name\": \"Alice\"}\n",
        "   my_dict[\"age\"] = 25  # Dictionary is modified\n",
        "   print(my_dict)  # Output: {'name': 'Alice', 'age': 25}\n",
        "\n",
        "   Immutable objects cannot be changed after creation. Any modification results in a new object being created.   \n",
        "\n",
        "   Examples in Python:\n",
        "\n",
        "    1. String\n",
        "   name = \"Alice\"\n",
        "   name = name + \" Smith\"  # New string created\n",
        "     print(name)  # Output: Alice Smith\n",
        "    \n",
        "    2. Tuple\n",
        "     my_tuple = (1, 2, 3)\n",
        "     # my_tuple[0] = 10  # This would raise a TypeError    "
      ],
      "metadata": {
        "id": "dJ_m5he5FUWQ"
      }
    },
    {
      "cell_type": "markdown",
      "source": [
        "3= What are the main differences between lists and tuples in Python ?\n",
        "\n",
        "  Ans = The main differences between lists and tuples in Python are based on mutability, performance, and intended use:\n",
        "\n",
        "  1. Mutability\n",
        "\n",
        "  List: Mutable — You can change, add, or remove elements.\n",
        "\n",
        "   Tuple:Immutable — Once created, elements cannot be changed.\n",
        "      \n",
        "  2. Syntax\n",
        "\n",
        "   List: Uses square brackets: [1, 2, 3]\n",
        "\n",
        "   Tuple: Uses parentheses: (1, 2, 3)\n",
        "      \n",
        "  3. Performance\n",
        "\n",
        "   Tuples are slightly faster than lists because they are immutable.\n",
        "\n",
        "   This makes them better for read-only or constant data.\n",
        "      \n",
        "   4. Use as Dictionary Keys\n",
        "\n",
        "   List: Not hashable, can't be used as a dictionary key.\n",
        "\n",
        "   Tuple:Hashable (if it contains only immutable elements), can be used as a key."
      ],
      "metadata": {
        "id": "p9_yZ62OHATX"
      }
    },
    {
      "cell_type": "markdown",
      "source": [
        "4 = Describe how dictionaries store data ?\n",
        "\n",
        "  Ans = In Python, dictionaries store data as key-value pairs, using a highly efficient structure called a hash table.\n",
        "\n",
        "  How Dictionaries Work Internally\n",
        "\n",
        "  1. Key-Value Pair Structure\n",
        "\n",
        "  Each item in a dictionary is a pair: key: value.\n",
        "    \n",
        "  2. Hashing the Key\n",
        "\n",
        "  When you insert a key, Python uses the built-in hash() function to compute a hash value for the key.\n",
        "\n",
        "  This hash is used to determine where in memory (which slot) the value should be stored.\n",
        "\n",
        "  3. Indexing in a Hash Table\n",
        "\n",
        "  The hash value is mapped to an index in an underlying array (the hash table).\n",
        "\n",
        "  The key-value pair is stored at that index.\n",
        "\n",
        "  4. Handling Collisions\n",
        "\n",
        "  Sometimes two keys produce the same hash (a collision).\n",
        "\n",
        "  Python handles collisions using a technique like open addressing (probing for another empty slot) or chaining (linking entries in the same slot).\n",
        "\n",
        "  5. Retrieving Values\n",
        "\n",
        "  To retrieve a value, Python:\n",
        "\n",
        "  Hashes the key again.\n",
        "\n",
        "  Locates the index in the hash table.\n",
        "\n",
        "  Fetches the associated value.    "
      ],
      "metadata": {
        "id": "4m9BfXpuH-HP"
      }
    },
    {
      "cell_type": "markdown",
      "source": [
        "5 = Why might you use a set instead of a list in Python ?\n",
        "\n",
        "  Ans = We might use a set instead of a list when you need unique elements, faster membership testing, to perform set operations like union or intersection, or if you don't care about the order of elements. However, if you need to maintain the order of elements or allow duplicates, then a list would be the better choice."
      ],
      "metadata": {
        "id": "2POxrCNdJEnP"
      }
    },
    {
      "cell_type": "markdown",
      "source": [
        "6 = What is a string in Python, and how is it different from a list ?\n",
        "\n",
        "  Ans =  A string in Python is a sequence of characters used to represent textual data. Strings are enclosed in either single quotes ('...') or double quotes (\"...\") and are immutable, meaning their contents cannot be changed after creation.\n",
        "\n",
        "  A list in Python, on the other hand, is a sequence of elements that can include any data type (e.g., numbers, strings, other lists). Lists are mutable, so their contents can be modified after creation (elements can be added, removed, or changed)."
      ],
      "metadata": {
        "id": "BshSSWU_J0pF"
      }
    },
    {
      "cell_type": "markdown",
      "source": [
        "7 =  How do tuples ensure data integrity in Python ?\n",
        "\n",
        "  Ans = Tuples ensure data integrity in Python primarily through their immutability. This means that once a tuple is created, the data it contains cannot be modified, preventing accidental changes or corruption of the data."
      ],
      "metadata": {
        "id": "w8eIxiueKffV"
      }
    },
    {
      "cell_type": "markdown",
      "source": [
        "8 = What is a hash table, and how does it relate to dictionaries in Python ?\n",
        "\n",
        "  Ans =  A hash table (or hash map) is a data structure that stores key-value pairs, where each key is hashed to compute a corresponding index in an internal array, and the value is stored at that index. The hash function ensures that each key is mapped to a unique index, making data retrieval fast and efficient.\n",
        "\n",
        "  In Python, dictionaries are implemented using hash tables, meaning that when you create a dictionary, Python internally uses a hash table to store the key-value pairs."
      ],
      "metadata": {
        "id": "f2BGjYl0KmTd"
      }
    },
    {
      "cell_type": "markdown",
      "source": [
        "9 = Can lists contain different data types in Python ?\n",
        "\n",
        "  Ans =  Yes, lists in Python can contain different data types. One of the great features of Python lists is their ability to store a heterogeneous collection of elements, meaning the list can hold integers, strings, floats, objects, or even other lists—all in a single list."
      ],
      "metadata": {
        "id": "h77dr9MsLCPV"
      }
    },
    {
      "cell_type": "markdown",
      "source": [
        "10 =  Explain why strings are immutable in Python ?\n",
        "\n",
        "  Ans = Strings are immutable in Python to:\n",
        "\n",
        "  Optimize memory usage by enabling string interning and reusing memory.\n",
        "\n",
        "  Make strings hashable, so they can be used as dictionary keys or set elements.\n",
        "\n",
        "  Ensure predictable behavior by preventing accidental or unexpected modifications.\n",
        "\n",
        "  Improve security by preventing the alteration of sensitive data.\n",
        "\n",
        "  Allow for performance optimizations like memory sharing and efficient string concatenation."
      ],
      "metadata": {
        "id": "zKKXJFtXLwsM"
      }
    },
    {
      "cell_type": "markdown",
      "source": [
        "11 = What advantages do dictionaries offer over lists for certain tasks ?\n",
        "\n",
        "  Ans = Advantages of Dictionaries Over Lists:\n",
        "  \n",
        "  Fast lookups by key (O(1) time complexity).\n",
        "\n",
        "  Key-value mapping makes it easier to represent relationships between data.\n",
        "\n",
        "  Dynamic key access allows easy addition, update, and removal of key-value pairs.\n",
        "\n",
        "  Suitable for managing nested or hierarchical data.\n",
        "\n",
        "  Supports efficient key-based operations (checking if keys exist, iterating over keys/values).\n",
        "\n",
        "  Guaranteed uniqueness of keys.\n",
        "\n",
        "  Faster deletion of specific items compared to lists."
      ],
      "metadata": {
        "id": "wRTpuwzdMJb8"
      }
    },
    {
      "cell_type": "markdown",
      "source": [
        "12 = Describe a scenario where using a tuple would be preferable over a list ?\n",
        "\n",
        "  Ans = Imagine you're working on a system that needs to store coordinates (latitude, longitude) of various locations. These coordinates are fixed once they are defined, meaning they should not be changed during the program's execution. In such a scenario, using a tuple would be preferable over a list."
      ],
      "metadata": {
        "id": "Ss9CZSUmMf2s"
      }
    },
    {
      "cell_type": "markdown",
      "source": [
        "13 = How do sets handle duplicate values in Python ?\n",
        "\n",
        "  Ans = In Python, sets are designed to store unique elements, and they automatically handle duplicates by removing them. When you try to add a duplicate value to a set, the set will simply ignore it, ensuring that each element only appears once."
      ],
      "metadata": {
        "id": "QoQNDVh0M6Or"
      }
    },
    {
      "cell_type": "markdown",
      "source": [
        "14 =  How does the “in” keyword work differently for lists and dictionaries ?\n",
        "\n",
        "  Ans = The \"in\" keyword in Python is used to check if a specified element exists in a collection (like a list or dictionary). However, it works differently for lists and dictionaries due to the underlying structures of each data type.\n",
        "\n",
        "  In a list, the \"in\" keyword checks if an element exists in the list by comparing each element in the list sequentially (i.e., using linear search).\n",
        "\n",
        "  In a dictionary, the \"in\" keyword checks if a key exists in the dictionary, not the value. Since dictionaries are implemented using hash tables, this operation is typically much faster than with lists."
      ],
      "metadata": {
        "id": "33aG-OfgNIA7"
      }
    },
    {
      "cell_type": "markdown",
      "source": [
        "15 =  Can you modify the elements of a tuple? Explain why or why not ?\n",
        "\n",
        "  Ans = No, you cannot modify the elements of a tuple in Python once it has been created. This is because tuples are immutable objects.\n",
        "\n",
        "  When an object is immutable, it means that its state cannot be changed after it is created."
      ],
      "metadata": {
        "id": "TZEvEsBSNh_z"
      }
    },
    {
      "cell_type": "markdown",
      "source": [
        "16 = What is a nested dictionary, and give an example of its use case ?\n",
        "\n",
        "  Ans = A nested dictionary in Python refers to a dictionary that contains other dictionaries as its values. In other words, the values in a dictionary can themselves be dictionaries, allowing you to create a hierarchical, multi-level structure.\n",
        "\n",
        "  This structure is useful when you need to store and organize complex data that involves multiple levels or categories.\n",
        "\n",
        "  Example = Imagine you're working with a database of employees in a company, and you need to store information such as their name, department, and contact details. The contact details can be further broken down into phone number and email address."
      ],
      "metadata": {
        "id": "Qda80vmVObwy"
      }
    },
    {
      "cell_type": "markdown",
      "source": [
        "17 = Describe the time complexity of accessing elements in a dictionary ?\n",
        "\n",
        "Ans = In Python, dictionaries are implemented using hash tables, which allow for very efficient access to elements based on their keys. The time complexity for accessing elements in a dictionary is typically O(1) (constant time) for most cases, though there are some caveats to keep in mind"
      ],
      "metadata": {
        "id": "6YtNQzj7O4MS"
      }
    },
    {
      "cell_type": "markdown",
      "source": [
        "18 = In what situations are lists preferred over dictionaries ?\n",
        "\n",
        "  Ans = While both lists and dictionaries are commonly used data structures in Python, they have distinct characteristics that make them more suitable for different situations. Below are scenarios where lists are generally preferred over dictionaries:\n",
        "\n",
        "  1. When the Data Is Ordered and Indexed Numerically\n",
        "  2. When You Need to Store a Sequence of Items (Without Key-Value Pairs)\n",
        "  3. When You Need to Perform Operations on a Sequence (Iterating, Slicing, etc.)\n",
        "  4. When You Don't Need Unique Elements\n",
        "  5. When You Need to Access Elements by Index (Not Key)\n",
        "  6. When the Size of the Data is Small and Simple\n",
        "  7. When You Need to Preserve the Order of Elements"
      ],
      "metadata": {
        "id": "gWlfrEcXPPlT"
      }
    },
    {
      "cell_type": "markdown",
      "source": [
        "19 = Why are dictionaries considered unordered, and how does that affect data retrieval ?\n",
        "\n",
        "  Ans = Historically, dictionaries in Python were considered unordered collections because the order of the keys in a dictionary wasn't guaranteed. This behavior was due to the underlying data structure used to implement dictionaries, which is based on hash tables."
      ],
      "metadata": {
        "id": "NBr569ELQGHy"
      }
    },
    {
      "cell_type": "markdown",
      "source": [
        "20 = Explain the difference between a list and a dictionary in terms of data retrieval ?\n",
        "\n",
        "  Ans = In Python, both lists and dictionaries are widely used data structures, but they handle data retrieval very differently. Here's a theoretical breakdown of how data retrieval differs between the two.\n",
        "\n",
        "  Lists are ideal for situations where you need to access elements by their index or when the order of elements is significant. However, searching for a value or retrieving an element by its value is slower because the list is sequential.\n",
        "\n",
        "  Dictionaries are more efficient for key-based retrieval. They provide O(1) average time complexity for access, making them suitable for cases where you need to associate values with unique keys and retrieve data quickly."
      ],
      "metadata": {
        "id": "2ur12HU6QXvi"
      }
    },
    {
      "cell_type": "markdown",
      "source": [
        "# PRACTICAL QUESTIONS"
      ],
      "metadata": {
        "id": "XquWegtcR-D6"
      }
    },
    {
      "cell_type": "code",
      "source": [
        "# 1 Write a code to create a string with your name and print it?\n",
        "my_name = \"Ekta Verma\"\n",
        "print(my_name)"
      ],
      "metadata": {
        "colab": {
          "base_uri": "https://localhost:8080/"
        },
        "id": "C7ovK5fMSXTB",
        "outputId": "fa98d6dc-042b-40d3-cf05-2076294c8a89"
      },
      "execution_count": 1,
      "outputs": [
        {
          "output_type": "stream",
          "name": "stdout",
          "text": [
            "Ekta Verma\n"
          ]
        }
      ]
    },
    {
      "cell_type": "code",
      "source": [
        "# 2 Write a code to find the length of the string \"Hello World\" ?\n",
        "my_string = \"Hello World\"\n",
        "print(len(my_string))"
      ],
      "metadata": {
        "colab": {
          "base_uri": "https://localhost:8080/"
        },
        "id": "B5Ewf9wPRCep",
        "outputId": "a4be4601-b1a2-4786-c00e-96115c14a9c8"
      },
      "execution_count": null,
      "outputs": [
        {
          "output_type": "stream",
          "name": "stdout",
          "text": [
            "11\n"
          ]
        }
      ]
    },
    {
      "cell_type": "code",
      "source": [
        "# 3 Write a code to slice the first 3 characters from the string \"Python Programming ?\n",
        "text = \"Python Programming\"\n",
        "sliced_text = text[:3]\n",
        "print(sliced_text)"
      ],
      "metadata": {
        "colab": {
          "base_uri": "https://localhost:8080/"
        },
        "id": "ydmxjG6BUHDY",
        "outputId": "dfa8737d-fb67-4149-a94a-671835afa939"
      },
      "execution_count": null,
      "outputs": [
        {
          "output_type": "stream",
          "name": "stdout",
          "text": [
            "Pyt\n"
          ]
        }
      ]
    },
    {
      "cell_type": "code",
      "source": [
        "# 4 Write a code to convert the string \"hello\" to uppercase ?\n",
        "text = \"hello\"\n",
        "uppercase_text = text.upper()\n",
        "print(uppercase_text)\n"
      ],
      "metadata": {
        "colab": {
          "base_uri": "https://localhost:8080/"
        },
        "id": "VuD1-v3RUdjn",
        "outputId": "be99023c-03a9-464b-e1d7-9134af63a0ad"
      },
      "execution_count": null,
      "outputs": [
        {
          "output_type": "stream",
          "name": "stdout",
          "text": [
            "HELLO\n"
          ]
        }
      ]
    },
    {
      "cell_type": "code",
      "source": [
        "# 5 Write a code to replace the word \"apple\" with \"orange\" in the string \"I like apple\" ?\n",
        "text = \"I like apple\"\n",
        "new_text = text.replace(\"apple\", \"orange\")\n",
        "print(new_text)"
      ],
      "metadata": {
        "colab": {
          "base_uri": "https://localhost:8080/"
        },
        "id": "t7dGQDQcU0_X",
        "outputId": "9f539643-7818-4fc3-8843-d9d55c3ea9be"
      },
      "execution_count": null,
      "outputs": [
        {
          "output_type": "stream",
          "name": "stdout",
          "text": [
            "I like orange\n"
          ]
        }
      ]
    },
    {
      "cell_type": "code",
      "source": [
        "# 6 Write a code to create a list with numbers 1 to 5 and print it ?\n",
        "numbers = [1, 2, 3, 4, 5]\n",
        "print(numbers)"
      ],
      "metadata": {
        "id": "bOaey5d-U_Cv",
        "colab": {
          "base_uri": "https://localhost:8080/"
        },
        "outputId": "fd785ec5-605d-4dbf-c9ae-2ca2029f7006"
      },
      "execution_count": null,
      "outputs": [
        {
          "output_type": "stream",
          "name": "stdout",
          "text": [
            "[1, 2, 3, 4, 5]\n"
          ]
        }
      ]
    },
    {
      "cell_type": "code",
      "source": [
        "# 7 Write a code to append the number 10 to the list [1, 2, 3, 4] ?\n",
        "numbers = [1, 2, 3, 4]\n",
        "numbers.append(10)\n",
        "print(numbers)"
      ],
      "metadata": {
        "colab": {
          "base_uri": "https://localhost:8080/"
        },
        "id": "wYCZUB__V7sY",
        "outputId": "d9c129f7-13be-4755-dd25-4451bac2535f"
      },
      "execution_count": null,
      "outputs": [
        {
          "output_type": "stream",
          "name": "stdout",
          "text": [
            "[1, 2, 3, 4, 10]\n"
          ]
        }
      ]
    },
    {
      "cell_type": "code",
      "source": [
        "# 8 Write a code to remove the number 3 from the list [1, 2, 3, 4, 5] ?\n",
        "numbers = [1, 2, 3, 4, 5]\n",
        "numbers.remove(3)\n",
        "print(numbers)"
      ],
      "metadata": {
        "colab": {
          "base_uri": "https://localhost:8080/"
        },
        "id": "Q8QgodvNWKPO",
        "outputId": "64cf86b6-6162-441c-ad41-f7f7ead75592"
      },
      "execution_count": null,
      "outputs": [
        {
          "output_type": "stream",
          "name": "stdout",
          "text": [
            "[1, 2, 4, 5]\n"
          ]
        }
      ]
    },
    {
      "cell_type": "code",
      "source": [
        "# 9 Write a code to access the second element in the list ['a', 'b', 'c', 'd'] ?\n",
        "letters = ['a', 'b', 'c', 'd']\n",
        "second_element = letters[1]\n",
        "print(second_element)"
      ],
      "metadata": {
        "colab": {
          "base_uri": "https://localhost:8080/"
        },
        "id": "YUxDPpdeWViO",
        "outputId": "4225705f-1291-4a18-abf1-f529787a7190"
      },
      "execution_count": null,
      "outputs": [
        {
          "output_type": "stream",
          "name": "stdout",
          "text": [
            "b\n"
          ]
        }
      ]
    },
    {
      "cell_type": "code",
      "source": [
        "# 10 Write a code to reverse the list [10, 20, 30, 40, 50] ?\n",
        "numbers = [10, 20, 30, 40, 50]\n",
        "numbers.reverse()\n",
        "print(numbers)"
      ],
      "metadata": {
        "colab": {
          "base_uri": "https://localhost:8080/"
        },
        "id": "gG5bmFU8WdbG",
        "outputId": "a56256c0-e386-4d20-9765-aaba977fd530"
      },
      "execution_count": null,
      "outputs": [
        {
          "output_type": "stream",
          "name": "stdout",
          "text": [
            "[50, 40, 30, 20, 10]\n"
          ]
        }
      ]
    },
    {
      "cell_type": "code",
      "source": [
        "# 11  Write a code to create a tuple with the elements 100, 200, 300 and print it ?\n",
        "my_tuple = (100, 200, 300)\n",
        "print(my_tuple)"
      ],
      "metadata": {
        "colab": {
          "base_uri": "https://localhost:8080/"
        },
        "id": "jxw5-8UDWnIG",
        "outputId": "01046af2-71ef-47f3-f40a-9cb14cae6fe6"
      },
      "execution_count": null,
      "outputs": [
        {
          "output_type": "stream",
          "name": "stdout",
          "text": [
            "(100, 200, 300)\n"
          ]
        }
      ]
    },
    {
      "cell_type": "code",
      "source": [
        "# 12  Write a code to access the second-to-last element of the tuple ('red', 'green', 'blue', 'yellow') ?\n",
        "my_tuple = ('red', 'green', 'blue', 'yellow')\n",
        "second_to_last = my_tuple[-2]\n",
        "print(second_to_last)"
      ],
      "metadata": {
        "colab": {
          "base_uri": "https://localhost:8080/"
        },
        "id": "B2ZPPAMxa4Ik",
        "outputId": "d217f00a-ef62-4478-c1c1-da4117345ff5"
      },
      "execution_count": null,
      "outputs": [
        {
          "output_type": "stream",
          "name": "stdout",
          "text": [
            "blue\n"
          ]
        }
      ]
    },
    {
      "cell_type": "code",
      "source": [
        "# 13 Write a code to find the minimum number in the tuple (10, 20, 5, 15) ?\n",
        "my_tuple = (10, 20, 5, 15)\n",
        "minimum_value = min(my_tuple)\n",
        "print(minimum_value)"
      ],
      "metadata": {
        "colab": {
          "base_uri": "https://localhost:8080/"
        },
        "id": "mbt7e1YibAyj",
        "outputId": "e1940f61-9e6c-40af-b44e-36c04dd71c30"
      },
      "execution_count": null,
      "outputs": [
        {
          "output_type": "stream",
          "name": "stdout",
          "text": [
            "5\n"
          ]
        }
      ]
    },
    {
      "cell_type": "code",
      "source": [
        "# 14 Write a code to find the index of the element \"cat\" in the tuple ('dog', 'cat', 'rabbit') ?\n",
        "my_tuple = ('dog', 'cat', 'rabbit')\n",
        "index_of_cat = my_tuple.index('cat')\n",
        "print(index_of_cat)"
      ],
      "metadata": {
        "colab": {
          "base_uri": "https://localhost:8080/"
        },
        "id": "yWXK3S78bJSL",
        "outputId": "43176859-2f44-4181-8e52-7571e4ef840a"
      },
      "execution_count": null,
      "outputs": [
        {
          "output_type": "stream",
          "name": "stdout",
          "text": [
            "1\n"
          ]
        }
      ]
    },
    {
      "cell_type": "code",
      "source": [
        "# 15 Write a code to create a tuple containing three different fruits and check if \"kiwi\" is in it ?\n",
        "fruits = ('apple', 'banana', 'cherry')\n",
        "is_kiwi_in_tuple = 'kiwi' in fruits\n",
        "print(is_kiwi_in_tuple)"
      ],
      "metadata": {
        "colab": {
          "base_uri": "https://localhost:8080/"
        },
        "id": "Y7SXRDyVbRHj",
        "outputId": "33952fc9-7ef4-4d0b-cfed-784cd55ae610"
      },
      "execution_count": null,
      "outputs": [
        {
          "output_type": "stream",
          "name": "stdout",
          "text": [
            "False\n"
          ]
        }
      ]
    },
    {
      "cell_type": "code",
      "source": [
        "# 16  Write a code to create a set with the elements 'a', 'b', 'c' and print it ?\n",
        "my_set = {'a', 'b', 'c'}\n",
        "print(my_set)"
      ],
      "metadata": {
        "colab": {
          "base_uri": "https://localhost:8080/"
        },
        "id": "12Qe6cS7bYrb",
        "outputId": "82923991-949f-40ba-93fa-5e8c1b137f5a"
      },
      "execution_count": null,
      "outputs": [
        {
          "output_type": "stream",
          "name": "stdout",
          "text": [
            "{'c', 'b', 'a'}\n"
          ]
        }
      ]
    },
    {
      "cell_type": "code",
      "source": [
        "# 17 Write a code to clear all elements from the set {1, 2, 3, 4, 5} ?\n",
        "my_set = {1, 2, 3, 4, 5}\n",
        "my_set.clear()\n",
        "print(my_set)"
      ],
      "metadata": {
        "colab": {
          "base_uri": "https://localhost:8080/"
        },
        "id": "kriQTB5jbegj",
        "outputId": "e68bb610-33f0-401c-9a35-ad8da6927ef6"
      },
      "execution_count": null,
      "outputs": [
        {
          "output_type": "stream",
          "name": "stdout",
          "text": [
            "set()\n"
          ]
        }
      ]
    },
    {
      "cell_type": "code",
      "source": [
        "# 18 Write a code to remove the element 4 from the set {1, 2, 3, 4} ?\n",
        "my_set = {1, 2, 3, 4}\n",
        "my_set.remove(4)\n",
        "print(my_set)\n"
      ],
      "metadata": {
        "colab": {
          "base_uri": "https://localhost:8080/"
        },
        "id": "3E4MKiAwbkjr",
        "outputId": "fed5813f-a544-4d8d-cb2c-51edc67f7666"
      },
      "execution_count": null,
      "outputs": [
        {
          "output_type": "stream",
          "name": "stdout",
          "text": [
            "{1, 2, 3}\n"
          ]
        }
      ]
    },
    {
      "cell_type": "code",
      "source": [
        "# 19  Write a code to find the union of two sets {1, 2, 3} and {3, 4, 5} ?\n",
        "set1 = {1, 2, 3}\n",
        "set2 = {3, 4, 5}\n",
        "union_set = set1.union(set2)\n",
        "print(union_set)"
      ],
      "metadata": {
        "colab": {
          "base_uri": "https://localhost:8080/"
        },
        "id": "di1Cs1xObrw7",
        "outputId": "d1540101-13a1-41c8-b6a8-6e2a4e4daa5d"
      },
      "execution_count": null,
      "outputs": [
        {
          "output_type": "stream",
          "name": "stdout",
          "text": [
            "{1, 2, 3, 4, 5}\n"
          ]
        }
      ]
    },
    {
      "cell_type": "code",
      "source": [
        "# 20 Write a code to find the intersection of two sets {1, 2, 3} and {2, 3, 4} ?\n",
        "set1 = {1, 2, 3}\n",
        "set2 = {2, 3, 4}\n",
        "intersection_set = set1.intersection(set2)\n",
        "print(intersection_set)"
      ],
      "metadata": {
        "colab": {
          "base_uri": "https://localhost:8080/"
        },
        "id": "KY4xHGbUby2r",
        "outputId": "1b37e643-e7ce-4e98-e7f4-fcf0b98f1920"
      },
      "execution_count": null,
      "outputs": [
        {
          "output_type": "stream",
          "name": "stdout",
          "text": [
            "{2, 3}\n"
          ]
        }
      ]
    },
    {
      "cell_type": "code",
      "source": [
        "# 21 Write a code to create a dictionary with the keys \"name\", \"age\", and \"city\", and print iT ?\n",
        "my_dict = {\n",
        "    \"name\": \"John\",\n",
        "    \"age\": 30,\n",
        "    \"city\": \"New York\"\n",
        "}\n",
        "\n",
        "print(my_dict)"
      ],
      "metadata": {
        "colab": {
          "base_uri": "https://localhost:8080/"
        },
        "id": "O4bBI5ipb6Dr",
        "outputId": "0fc0d8af-a4f2-4fc3-8d98-163a91887ca1"
      },
      "execution_count": null,
      "outputs": [
        {
          "output_type": "stream",
          "name": "stdout",
          "text": [
            "{'name': 'John', 'age': 30, 'city': 'New York'}\n"
          ]
        }
      ]
    },
    {
      "cell_type": "code",
      "source": [
        "# 22 Write a code to add a new key-value pair \"country\": \"USA\" to the dictionary {'name': 'John', 'age': 25} ?\n",
        "my_dict = {'name': 'John', 'age': 25}\n",
        "my_dict[\"country\"] = \"USA\"\n",
        "print(my_dict)"
      ],
      "metadata": {
        "colab": {
          "base_uri": "https://localhost:8080/"
        },
        "id": "l3hXIJg2cBVL",
        "outputId": "1b1850e7-d2eb-419b-bd09-40c10b3987b8"
      },
      "execution_count": null,
      "outputs": [
        {
          "output_type": "stream",
          "name": "stdout",
          "text": [
            "{'name': 'John', 'age': 25, 'country': 'USA'}\n"
          ]
        }
      ]
    },
    {
      "cell_type": "code",
      "source": [
        "# 23 Write a code to access the value associated with the key \"name\" in the dictionary {'name': 'Alice', 'age': 30}?\n",
        "my_dict = {'name': 'Alice', 'age': 30}\n",
        "name_value = my_dict['name']\n",
        "print(name_value)"
      ],
      "metadata": {
        "colab": {
          "base_uri": "https://localhost:8080/"
        },
        "id": "mHLB4zq4cOqz",
        "outputId": "cbf260ee-6d4f-4acb-928c-33336ec80b3a"
      },
      "execution_count": null,
      "outputs": [
        {
          "output_type": "stream",
          "name": "stdout",
          "text": [
            "Alice\n"
          ]
        }
      ]
    },
    {
      "cell_type": "code",
      "source": [
        "# 24 Write a code to remove the key \"age\" from the dictionary {'name': 'Bob', 'age': 22, 'city': 'New York'} ?\n",
        "my_dict = {'name': 'Bob', 'age': 22, 'city': 'New York'}\n",
        "del my_dict['age']\n",
        "print(my_dict)"
      ],
      "metadata": {
        "colab": {
          "base_uri": "https://localhost:8080/"
        },
        "id": "ht7aBp8ycZwT",
        "outputId": "512f9108-2399-41f9-d742-3836647351c0"
      },
      "execution_count": null,
      "outputs": [
        {
          "output_type": "stream",
          "name": "stdout",
          "text": [
            "{'name': 'Bob', 'city': 'New York'}\n"
          ]
        }
      ]
    },
    {
      "cell_type": "code",
      "source": [
        "# 25 Write a code to check if the key \"city\" exists in the dictionary {'name': 'Alice', 'city': 'Paris'} ?\n",
        "my_dict = {'name': 'Alice', 'city': 'Paris'}\n",
        "\n",
        "# Check if 'city' is a key in the dictionary\n",
        "if 'city' in my_dict:\n",
        "    print(\"The key 'city' exists in the dictionary.\")\n",
        "else:\n",
        "    print(\"The key 'city' does not exist in the dictionary.\")"
      ],
      "metadata": {
        "colab": {
          "base_uri": "https://localhost:8080/"
        },
        "id": "Dhk03OScchvC",
        "outputId": "e35347b3-ff6c-455e-fc01-4305293c95fa"
      },
      "execution_count": null,
      "outputs": [
        {
          "output_type": "stream",
          "name": "stdout",
          "text": [
            "The key 'city' exists in the dictionary.\n"
          ]
        }
      ]
    },
    {
      "cell_type": "code",
      "source": [
        "# 26 Write a code to create a list, a tuple, and a dictionary, and print them all ?\n",
        "# Creating a list\n",
        "my_list = [1, 2, 3, 4, 5]\n",
        "\n",
        "# Creating a tuple\n",
        "my_tuple = ('apple', 'banana', 'cherry')\n",
        "\n",
        "# Creating a dictionary\n",
        "my_dict = {'name': 'John', 'age': 30, 'city': 'New York'}\n",
        "\n",
        "# Printing the list, tuple, and dictionary\n",
        "print(\"List:\", my_list)\n",
        "print(\"Tuple:\", my_tuple)\n",
        "print(\"Dictionary:\", my_dict)"
      ],
      "metadata": {
        "colab": {
          "base_uri": "https://localhost:8080/"
        },
        "id": "LOT_E_v2cqGK",
        "outputId": "7c40b8b4-8065-4d7d-9520-7d6e0801de83"
      },
      "execution_count": null,
      "outputs": [
        {
          "output_type": "stream",
          "name": "stdout",
          "text": [
            "List: [1, 2, 3, 4, 5]\n",
            "Tuple: ('apple', 'banana', 'cherry')\n",
            "Dictionary: {'name': 'John', 'age': 30, 'city': 'New York'}\n"
          ]
        }
      ]
    },
    {
      "cell_type": "code",
      "source": [
        "# 27 Write a code to create a list of 5 random numbers between 1 and 100, sort it in ascending order, and print the result (replaced) ?\n",
        "import random\n",
        "\n",
        "# Create a list of 5 random numbers between 1 and 100\n",
        "random_numbers = [random.randint(1, 100) for _ in range(5)]\n",
        "\n",
        "# Sort the list in ascending order\n",
        "random_numbers.sort()\n",
        "\n",
        "# Print the sorted list\n",
        "print(\"Sorted random numbers:\", random_numbers)\n"
      ],
      "metadata": {
        "colab": {
          "base_uri": "https://localhost:8080/"
        },
        "id": "FeF9nkT5jFH3",
        "outputId": "ff9c47d7-d875-48e5-fe1e-b69cfebb93ff"
      },
      "execution_count": null,
      "outputs": [
        {
          "output_type": "stream",
          "name": "stdout",
          "text": [
            "Sorted random numbers: [5, 9, 9, 33, 53]\n"
          ]
        }
      ]
    },
    {
      "cell_type": "code",
      "source": [
        "# 28 Write a code to create a list with strings and print the element at the third index. ?\n",
        "words = [\"cat\", \"dog\", \"bird\", \"fish\", \"lion\"]\n",
        "print(\"Element at index 3:\", words[3])"
      ],
      "metadata": {
        "colab": {
          "base_uri": "https://localhost:8080/"
        },
        "id": "Gm069Hlkjo5v",
        "outputId": "a365e702-70d1-4331-80ab-8970decfa342"
      },
      "execution_count": null,
      "outputs": [
        {
          "output_type": "stream",
          "name": "stdout",
          "text": [
            "Element at index 3: fish\n"
          ]
        }
      ]
    },
    {
      "cell_type": "code",
      "source": [
        "# 29 Write a code to combine two dictionaries into one and print the result ?\n",
        "dict1 = {'a': 1, 'b': 2}\n",
        "dict2 = {'c': 3, 'd': 4}\n",
        "combined_dict = {**dict1, **dict2}\n",
        "print(\"Combined Dictionary:\", combined_dict)"
      ],
      "metadata": {
        "colab": {
          "base_uri": "https://localhost:8080/"
        },
        "id": "ddbLWOgWj1dv",
        "outputId": "7fb3e0a3-5a29-466c-902a-65b34c8285c6"
      },
      "execution_count": null,
      "outputs": [
        {
          "output_type": "stream",
          "name": "stdout",
          "text": [
            "Combined Dictionary: {'a': 1, 'b': 2, 'c': 3, 'd': 4}\n"
          ]
        }
      ]
    },
    {
      "cell_type": "code",
      "source": [
        "# 30 Write a code to convert a list of strings into a set. ?\n",
        "string_list = [\"apple\", \"banana\", \"cherry\", \"apple\", \"banana\"]\n",
        "string_set = set(string_list)\n",
        "print(\"Set:\", string_set)"
      ],
      "metadata": {
        "colab": {
          "base_uri": "https://localhost:8080/"
        },
        "id": "bjYalbY9j_i2",
        "outputId": "b52ee4d6-1912-4606-87ff-72755f4cb4cc"
      },
      "execution_count": null,
      "outputs": [
        {
          "output_type": "stream",
          "name": "stdout",
          "text": [
            "Set: {'cherry', 'banana', 'apple'}\n"
          ]
        }
      ]
    }
  ]
}