{
  "cells": [
    {
      "cell_type": "code",
      "execution_count": null,
      "metadata": {
        "id": "rMWnwOpHLM4s"
      },
      "outputs": [],
      "source": []
    },
    {
      "cell_type": "markdown",
      "metadata": {
        "id": "Mu9tv7yVLWmN"
      },
      "source": [
        "# Assignment Python Basic Questions"
      ]
    },
    {
      "cell_type": "markdown",
      "metadata": {
        "id": "tWqxNMKpLovh"
      },
      "source": [
        "1. What is Python, and why is it popular ?\n",
        "\n",
        "   - Python is a high-level, interpreted programming language known for its simplicity, readability, and versatility.\n",
        "  \n",
        "      PYTHON IS SO  POPULAR BECAUSE OF ITS MANY CHARACTERISTICS:-\n",
        "  \n",
        "      Easy to Learn and Use - Python has a clear and straightforward syntax, making it ideal for beginners.\n",
        "  \n",
        "      Wide Range of Applications- It's used in web development, data science, machine learning, automation, scripting, game development, and more.\n",
        "\n",
        "      Large Standard Library- Python comes with a comprehensive standard library, reducing the need for external packages for many tasks.\n",
        "\n",
        "      Strong Community Support- There is extensive documentation, a vibrant user community, and thousands of third-party packages.\n",
        "\n",
        "      Cross-Platform- Python works on Windows, macOS, and Linux without major changes to the code.\n",
        "\n",
        "      Integration Capabilities- It integrates easily with other languages like C/C++, Java, and with web services and databases.\n",
        "\n",
        "  2. What is an interpreter in Python?\n",
        "\n",
        "\n",
        "     - An interpreter in Python is a program that reads and executes Python code line by line, converting it into machine code that your computer can understand and run. The interpreter reads this line and immediately prints the output without needing to compile the whole file.\n",
        "\n",
        "  3. What are pre-defined keywords in Python ?\n",
        "\n",
        "\n",
        "     - Pre-defined keywords in Python are reserved words that have special meaning in the language. These keywords are part of Python's syntax and cannot be used as variable names, function names, or identifiers.They help define the structure and rules of the Python language — such as flow control, data types, and logical operations.\n",
        "\n",
        "    Examples of Python Keywords:\n",
        "\n",
        "    •\tControl flow: if, else, elif, for, while, break, continue, pass\n",
        "\n",
        "    •\tFunction and class definition: def, return, lambda, class\n",
        "\n",
        "    •\tLogical operations: and, or, not, in, is\n",
        "\n",
        "    •\tError handling: try, except, finally, raise\n",
        "\n",
        "    •\tOthers: True, False, None, import, from, with, as, global, nonlocal, assert, yield.\n",
        "\n",
        "  4. Can keywords be used as variable names ?\n",
        "        \n",
        "        - No, keywords cannot be used as variable names in Python.\n",
        "\n",
        "    These words are reserved because they have predefined meanings and uses in the language's syntax. Using a keyword as a variable name will result in a syntax error.\n",
        "\n",
        "  5. What is mutability in Python ?\n",
        "      \n",
        "      - Mutability in Python refers to whether an object can be changed after it is created.\n",
        "        Two Types of Objects:\tMutable Objects – Can be changed in place.\n",
        "\n",
        "        Examples: list, dict, set, bytearray\n",
        "\n",
        "        Immutable Objects – Cannot be changed after creation.\n",
        "\n",
        "        Examples: int, float, str, tuple, bool, frozenset\n",
        "\n",
        "\n",
        "  6. Why are lists mutable, but tuples are immutable ?\n",
        "\n",
        "\n",
        "     - Lists are mutable and tuples are immutable in Python because they are designed for different use cases, and this design decision impacts performance, safety, and intended behavior.\n",
        "\n",
        "    Lists Are Mutable\n",
        "    \n",
        "    •\tPurpose: Lists are meant to store sequences of items that may change over time — such as appending, removing, or modifying elements.\n",
        "    \n",
        "    •\tDesign: They allow in-place changes to improve flexibility.\n",
        "\n",
        "    Tuples Are Immutable:\n",
        "\n",
        "    •\tPurpose: Tuples are used for fixed collections of items, such as coordinates, RGB values, or function arguments where you want to prevent accidental changes.\n",
        "    \n",
        "    •\tDesign: Their immutability makes them hash able, so they can be used as keys in dictionaries or elements in sets.\n",
        "    \n",
        "    •\tPerformance: Tuples are slightly faster and more memory-efficient than lists due to their fixed size.\n",
        "\n",
        "  7. What is the difference between “==” and “is” operators in Python ?\n",
        "\n",
        "     - In Python, == and is are both comparison operators, but they check different things:\n",
        "    \n",
        "    == (Equality Operator):\n",
        "    \n",
        "    •\tChecks if the values are the same, even if the objects are different.\n",
        "    \n",
        "    •\tCompares contents.\n",
        "\n",
        "    \n",
        "    is (Identity Operator):\n",
        "\n",
        "    •\tChecks if two variables point to the exact same object in memory.\n",
        "\n",
        "    •\tCompares object identity.\n",
        "\n",
        "  8. What are logical operators in Python ?\n",
        "\n",
        "     - Logical operators in Python are used to combine or modify boolean expressions (conditions). They return True or False based on the logic of the expressions involved.\n",
        "\n",
        "        The 3 Main Logical Operators:\n",
        "        1.\tand – Returns True only if both operands are true.\n",
        "        2.\tor – Returns True if at least one operand is true.\n",
        "        3.\tnot – Reverses the truth value of the operand.\n",
        "\n",
        "  9. What is type casting in Python ?\n",
        "\n",
        "        - Type casting in Python is the process of converting one data type into another — for example, turning a string into an integer, or a float into a string.\n",
        "\n",
        "        Python supports both implicit and explicit type casting.\n",
        "\n",
        "          1 = Explicit Type Casting (Manual)\n",
        "    \n",
        "       You tell Python what type you want to convert to, using built-in functions like:\n",
        "\n",
        "        •\tint() – converts to integer\n",
        "\n",
        "        •\tfloat() – converts to float\n",
        "\n",
        "        •\tstr() – converts to string\n",
        "\n",
        "        •\tbool() – converts to Boolean\n",
        "\n",
        "            2 = Implicit Type Casting (Automatic)\n",
        "\n",
        "        Python automatically converts a smaller or compatible data type to a larger one when needed.\n",
        "\n",
        "  10. What is the difference between implicit and explicit type casting ?\n",
        "    \n",
        "        - The difference between implicit and explicit type casting in Python lies in who performs the conversion and when it happens:\n",
        "\n",
        "            Implicit Type Casting (Automatic)\n",
        "\n",
        "          •\tPython does it automatically when combining different but compatible types.\n",
        "\n",
        "          •\tSafe conversions only — e.g., int to float.\n",
        "\n",
        "          •\tNo data loss is expected.\n",
        "\n",
        "          Explicit Type Casting (Manual)\n",
        "  \n",
        "          •\tYou do it yourself, using functions like int(), float(), str(), etc.\n",
        "  \n",
        "          •\tNeeded when converting between incompatible types.\n",
        "  \n",
        "          •\tRisk of data loss or error if the conversion is not valid.\n",
        "\n",
        "  11. What is the purpose of conditional statements in Python ?\n",
        "        - The purpose of conditional statements in Python is to allow your program to make decisions and execute certain blocks of code only when specific conditions are met.\n",
        "        \n",
        "        They control the flow of the program based on whether an expression evaluates to True or False\n",
        "\n",
        "  12. How does the elif statement work ?\n",
        "        \n",
        "        - The elif (short for \"else if\") statement in Python is used to check multiple conditions in sequence when the initial if condition is False.\n",
        "            It allows you to handle more than two possible outcomes in a clean and readable way\n",
        "\n",
        "         It Works:\n",
        "    \n",
        "        •\tPython evaluates conditions top to bottom.\n",
        "    \n",
        "        •\tAs soon as one condition is True, that block runs, and the rest are skipped.\n",
        "    \n",
        "        •\tIf no if or elif condition is True, the optional else block runs.\n",
        "\n",
        "  13. What is the difference between for and while loops\n",
        "        \n",
        "        - The difference between for and while loops in Python lies in how and when they repeat a block of code:\n",
        "    \n",
        "   \n",
        "        for Loop – Loop with a fixed number of iterations\n",
        "\n",
        "        •\tUsed to iterate over a sequence (like a list, string, or range).\n",
        "\n",
        "        •\tBest when the number of repetitions is known or based on a finite set.\n",
        "            while Loop – Loop based on a condition\n",
        "\n",
        "        •\tRepeats as long as a condition is True.\n",
        "\n",
        "        •\tBest when the number of iterations is unknown and depends on logic.\n",
        "\n",
        "  14. Describe a scenario where a while loop is more suitable than a for loop ?\n",
        "    \n",
        "        - A while loop is more suitable than a for loop when you don’t know in advance how many times the loop should run — instead, it should continue until a certain condition is met.\n",
        "    \n",
        "    \n",
        "    Example Scenario: User Login\n",
        "    \n",
        "    Suppose you're prompting a user to enter the correct password, and you want to keep asking until they get it right. You don’t know how many attempts they’ll need — so a while loop is perfect here.\n",
        "\n",
        "\n",
        "\n"
      ]
    },
    {
      "cell_type": "code",
      "execution_count": null,
      "metadata": {
        "id": "AMULfxALUctN"
      },
      "outputs": [],
      "source": [
        "# Practical Questions"
      ]
    },
    {
      "cell_type": "markdown",
      "metadata": {
        "id": "jHDyt02oXFdH"
      },
      "source": [
        "1. Write a Python program to print \"Hello World!\""
      ]
    },
    {
      "cell_type": "code",
      "execution_count": null,
      "metadata": {
        "id": "bUddJd60VBXh"
      },
      "outputs": [],
      "source": [
        "print(\"Hello World\")"
      ]
    },
    {
      "cell_type": "markdown",
      "metadata": {
        "id": "xGn57bE4XO3m"
      },
      "source": [
        "2. Write a Python program that displays your name and age."
      ]
    },
    {
      "cell_type": "code",
      "execution_count": null,
      "metadata": {
        "colab": {
          "base_uri": "https://localhost:8080/"
        },
        "id": "wyiDRHNRVKC2",
        "outputId": "845bea74-6788-472a-edf4-630376995662"
      },
      "outputs": [
        {
          "name": "stdout",
          "output_type": "stream",
          "text": [
            "My name is EKTA\n",
            "I am 28 years old\n"
          ]
        }
      ],
      "source": [
        "# Define variables\n",
        "name = \"EKTA\"\n",
        "age = 28\n",
        "\n",
        "# Display output\n",
        "print(\"My name is\", name)\n",
        "print(\"I am\", age, \"years old\")"
      ]
    },
    {
      "cell_type": "markdown",
      "metadata": {
        "id": "PdUmjRDLYn4S"
      },
      "source": [
        "3. write code to print all the pre-defined keywords in python using the keyword library."
      ]
    },
    {
      "cell_type": "code",
      "execution_count": null,
      "metadata": {
        "colab": {
          "base_uri": "https://localhost:8080/"
        },
        "id": "L0-4RqSIYEsh",
        "outputId": "4038a2f0-3cda-4c88-dd91-d39f38750937"
      },
      "outputs": [
        {
          "name": "stdout",
          "output_type": "stream",
          "text": [
            "Python Keywords:\n",
            "False\n",
            "None\n",
            "True\n",
            "and\n",
            "as\n",
            "assert\n",
            "async\n",
            "await\n",
            "break\n",
            "class\n",
            "continue\n",
            "def\n",
            "del\n",
            "elif\n",
            "else\n",
            "except\n",
            "finally\n",
            "for\n",
            "from\n",
            "global\n",
            "if\n",
            "import\n",
            "in\n",
            "is\n",
            "lambda\n",
            "nonlocal\n",
            "not\n",
            "or\n",
            "pass\n",
            "raise\n",
            "return\n",
            "try\n",
            "while\n",
            "with\n",
            "yield\n"
          ]
        }
      ],
      "source": [
        "keywords_list = keyword.kwlist\n",
        "\n",
        "print(\"Python Keywords:\")\n",
        "for kw in keywords_list:\n",
        "    print(kw)\n"
      ]
    },
    {
      "cell_type": "markdown",
      "metadata": {
        "id": "UdFa9u_SkkE3"
      },
      "source": [
        "4. Write a program that checks if a given word is a python keyword."
      ]
    },
    {
      "cell_type": "code",
      "execution_count": null,
      "metadata": {
        "colab": {
          "base_uri": "https://localhost:8080/"
        },
        "id": "_Ma_r5r0mUYE",
        "outputId": "c92d0bd6-9882-4eb8-a448-6ad338f859ac"
      },
      "outputs": [
        {
          "name": "stdout",
          "output_type": "stream",
          "text": [
            "forfor\n",
            "'for' is a Python keyword.\n"
          ]
        }
      ],
      "source": [
        "# Input from the user\n",
        "word = input(\"for\")\n",
        "\n",
        "# Check if it's a Python keyword\n",
        "if keyword.iskeyword(word):\n",
        "    print(f\"'{word}' is a Python keyword.\")\n",
        "else:\n",
        "    print(f\"'{word}' is NOT a Python keyword.\")"
      ]
    },
    {
      "cell_type": "markdown",
      "metadata": {
        "id": "wMNBpSmZo0kT"
      },
      "source": [
        "5. Create a list and tuple in pyhton, and demonestrate how attempting to change an element works differently for each."
      ]
    },
    {
      "cell_type": "code",
      "execution_count": null,
      "metadata": {
        "colab": {
          "base_uri": "https://localhost:8080/"
        },
        "id": "j4pfUMv4oVvg",
        "outputId": "fbb33e65-7015-467d-c3aa-8b95ec54722b"
      },
      "outputs": [
        {
          "name": "stdout",
          "output_type": "stream",
          "text": [
            "Original list: [10, 20, 30]\n",
            "Original tuple: (10, 20, 30)\n",
            "Modified list: [10, 200, 30]\n",
            "Error when trying to modify tuple: 'tuple' object does not support item assignment\n"
          ]
        }
      ],
      "source": [
        "# Create a list and a tuple\n",
        "my_list = [10, 20, 30]\n",
        "my_tuple = (10, 20, 30)\n",
        "\n",
        "# Print original list and tuple\n",
        "print(\"Original list:\", my_list)\n",
        "print(\"Original tuple:\", my_tuple)\n",
        "\n",
        "# Modify the list\n",
        "my_list[1] = 200\n",
        "print(\"Modified list:\", my_list)\n",
        "\n",
        "# Try modifying the tuple\n",
        "try:\n",
        "    my_tuple[1] = 200\n",
        "except TypeError as e:\n",
        "    print(\"Error when trying to modify tuple:\", e)\n"
      ]
    },
    {
      "cell_type": "markdown",
      "metadata": {
        "id": "45mej-C3p61F"
      },
      "source": [
        "6. write a function to demonestrate the behaviour of mutable and unmutable arguments."
      ]
    },
    {
      "cell_type": "code",
      "execution_count": null,
      "metadata": {
        "colab": {
          "base_uri": "https://localhost:8080/"
        },
        "id": "5dI1STe6pSB6",
        "outputId": "799fdbfa-70f2-4cf3-dece-47914beb3958"
      },
      "outputs": [
        {
          "name": "stdout",
          "output_type": "stream",
          "text": [
            "Before function call:\n",
            "x = 5\n",
            "y = [1, 2, 3]\n",
            "\n",
            "Inside function before change:\n",
            "a = 5\n",
            "b = [1, 2, 3]\n",
            "\n",
            "Inside function after change:\n",
            "a = 15\n",
            "b = [1, 2, 3, 4]\n",
            "\n",
            "After function call:\n",
            "x = 5\n",
            "y = [1, 2, 3, 4]\n"
          ]
        }
      ],
      "source": [
        "\n",
        "x = 5              # Immutable\n",
        "y = [1, 2, 3]      # Mutable\n",
        "\n",
        "print(\"Before function call:\")\n",
        "print(\"x =\", x)\n",
        "print(\"y =\", y)\n",
        "\n",
        "modify_values(x, y)\n",
        "\n",
        "print(\"\\nAfter function call:\")\n",
        "print(\"x =\", x)\n",
        "print(\"y =\", y)"
      ]
    },
    {
      "cell_type": "markdown",
      "metadata": {
        "id": "SMb2GlSnp2lg"
      },
      "source": [
        "7. write a program that performs basic arithmetic operations on two user-input numbers."
      ]
    },
    {
      "cell_type": "code",
      "execution_count": null,
      "metadata": {
        "colab": {
          "base_uri": "https://localhost:8080/"
        },
        "id": "UfYissF1r99s",
        "outputId": "fec3e7e8-706d-44f0-8eec-01d45c50df7a"
      },
      "outputs": [
        {
          "name": "stdout",
          "output_type": "stream",
          "text": [
            "96.596.5\n",
            "36.636.6\n",
            "\n",
            "Results:\n",
            "Addition: 96.5 + 36.6 = 133.1\n",
            "Subtraction: 96.5 - 36.6 = 59.9\n",
            "Multiplication: 96.5 * 36.6 = 3531.9\n",
            "Division: 96.5 / 36.6 = 2.6366120218579234\n"
          ]
        }
      ],
      "source": [
        "# Get user input\n",
        "num1 = float(input(\"96.5\"))\n",
        "num2 = float(input(\"36.6\"))\n",
        "\n",
        "# Perform arithmetic operations\n",
        "addition = num1 + num2\n",
        "subtraction = num1 - num2\n",
        "multiplication = num1 * num2\n",
        "\n",
        "# Check for division by zero\n",
        "if num2 != 0:\n",
        "    division = num1 / num2\n",
        "else:\n",
        "    division = \"Undefined (division by zero)\"\n",
        "\n",
        "# Display the results\n",
        "print(\"\\nResults:\")\n",
        "print(f\"Addition: {num1} + {num2} = {addition}\")\n",
        "print(f\"Subtraction: {num1} - {num2} = {subtraction}\")\n",
        "print(f\"Multiplication: {num1} * {num2} = {multiplication}\")\n",
        "print(f\"Division: {num1} / {num2} = {division}\")\n"
      ]
    },
    {
      "cell_type": "markdown",
      "metadata": {
        "id": "bMiIvxPksuyf"
      },
      "source": [
        "8. write a program to demonestrate the use of logical operators."
      ]
    },
    {
      "cell_type": "code",
      "execution_count": null,
      "metadata": {
        "colab": {
          "base_uri": "https://localhost:8080/"
        },
        "id": "6XEYMXWHseID",
        "outputId": "9774e62a-78a3-41e5-f000-b37fb22ea6bf"
      },
      "outputs": [
        {
          "name": "stdout",
          "output_type": "stream",
          "text": [
            "2323\n",
            "-12-12\n",
            "\n",
            "Logical Operator Demonstration:\n",
            "Both numbers are not positive\n",
            "At least one number is positive (a > 0 or b > 0)\n",
            "a <= 0 is False\n",
            "b <= 0 is True\n"
          ]
        }
      ],
      "source": [
        "# Get user input\n",
        "a = int(input(\"23\"))\n",
        "b = int(input(\"-12\"))\n",
        "\n",
        "# Logical operations\n",
        "print(\"\\nLogical Operator Demonstration:\")\n",
        "\n",
        "# AND operator\n",
        "if a > 0 and b > 0:\n",
        "    print(\"Both numbers are positive (a > 0 and b > 0)\")\n",
        "else:\n",
        "    print(\"Both numbers are not positive\")\n",
        "\n",
        "# OR operator\n",
        "if a > 0 or b > 0:\n",
        "    print(\"At least one number is positive (a > 0 or b > 0)\")\n",
        "else:\n",
        "    print(\"Neither number is positive\")\n",
        "\n",
        "# NOT operator\n",
        "print(\"a <= 0 is\", not (a > 0))\n",
        "print(\"b <= 0 is\", not (b > 0))\n"
      ]
    },
    {
      "cell_type": "markdown",
      "metadata": {
        "id": "jQ8QnWM-tZBB"
      },
      "source": [
        "9. Write a python program to convert user input from string to integar,float,and boolean types."
      ]
    },
    {
      "cell_type": "code",
      "execution_count": null,
      "metadata": {
        "colab": {
          "base_uri": "https://localhost:8080/"
        },
        "id": "xPPFpu-wuJU5",
        "outputId": "f2ca4d33-551f-4e66-aa21-f4e6021d391c"
      },
      "outputs": [
        {
          "name": "stdout",
          "output_type": "stream",
          "text": [
            "2323\n",
            "Integer conversion: 23\n",
            "Float conversion: 23.0\n",
            "Boolean conversion: True\n"
          ]
        }
      ],
      "source": [
        "user_input = input(\"23\")\n",
        "\n",
        "try:\n",
        "    int_value = int(user_input)\n",
        "    print(\"Integer conversion:\", int_value)\n",
        "except ValueError:\n",
        "    print(\"Cannot convert to integer.\")\n",
        "\n",
        "try:\n",
        "    float_value = float(user_input)\n",
        "    print(\"Float conversion:\", float_value)\n",
        "except ValueError:\n",
        "    print(\"Cannot convert to float.\")\n",
        "\n",
        "bool_value = bool(user_input)\n",
        "print(\"Boolean conversion:\", bool_value)\n"
      ]
    },
    {
      "cell_type": "markdown",
      "metadata": {
        "id": "eCNx3yyxuoTL"
      },
      "source": [
        "10. Write code to demonestrate type casting with list elements."
      ]
    },
    {
      "cell_type": "code",
      "execution_count": null,
      "metadata": {
        "colab": {
          "base_uri": "https://localhost:8080/"
        },
        "id": "5cQUb-89uOnd",
        "outputId": "6b02146f-c7dc-4221-a55a-c39ea0e36199"
      },
      "outputs": [
        {
          "name": "stdout",
          "output_type": "stream",
          "text": [
            "List after converting to integers: [10, 20, 30, 40]\n",
            "List after converting to floats: [10.0, 20.0, 30.0, 40.0]\n",
            "List after converting back to strings: ['10', '20', '30', '40']\n"
          ]
        }
      ],
      "source": [
        "str_list = [\"10\", \"20\", \"30\", \"40\"]\n",
        "\n",
        "int_list = [int(x) for x in str_list]\n",
        "print(\"List after converting to integers:\", int_list)\n",
        "\n",
        "float_list = [float(x) for x in str_list]\n",
        "print(\"List after converting to floats:\", float_list)\n",
        "\n",
        "str_from_int = [str(x) for x in int_list]\n",
        "print(\"List after converting back to strings:\", str_from_int)\n"
      ]
    },
    {
      "cell_type": "markdown",
      "metadata": {
        "id": "ZE3bR1EnvMv4"
      },
      "source": [
        "11. write a program that checks if a number is positive,negative, or zero."
      ]
    },
    {
      "cell_type": "code",
      "execution_count": null,
      "metadata": {
        "colab": {
          "base_uri": "https://localhost:8080/"
        },
        "id": "RTqdOAIgvX9b",
        "outputId": "deb70ac9-e2a5-4c8e-e1b2-fe7e5ae3f91a"
      },
      "outputs": [
        {
          "name": "stdout",
          "output_type": "stream",
          "text": [
            "-1235.565-1235.565\n",
            "The number is negative.\n"
          ]
        }
      ],
      "source": [
        "num = float(input(\"-1235.565\"))\n",
        "\n",
        "# Check the number type\n",
        "if num > 0:\n",
        "    print(\"The number is positive.\")\n",
        "elif num < 0:\n",
        "    print(\"The number is negative.\")\n",
        "else:\n",
        "    print(\"The number is zero.\")\n"
      ]
    },
    {
      "cell_type": "markdown",
      "metadata": {
        "id": "ZCk8LIX1vzWy"
      },
      "source": [
        "12. Write a for loop to print number from 1 to 10."
      ]
    },
    {
      "cell_type": "code",
      "execution_count": null,
      "metadata": {
        "colab": {
          "base_uri": "https://localhost:8080/"
        },
        "id": "jO_KEz3cvqv-",
        "outputId": "9a458c39-7f2c-4e81-fb07-6543da547947"
      },
      "outputs": [
        {
          "name": "stdout",
          "output_type": "stream",
          "text": [
            "1\n",
            "2\n",
            "3\n",
            "4\n",
            "5\n",
            "6\n",
            "7\n",
            "8\n",
            "9\n",
            "10\n"
          ]
        }
      ],
      "source": [
        "# For loop to print numbers from 1 to 10\n",
        "for i in range(1, 11):\n",
        "    print(i)"
      ]
    },
    {
      "cell_type": "markdown",
      "metadata": {
        "id": "IzWSzvQq-1ql"
      },
      "source": [
        "13. Write a Python program to find the sum of all even numbers between 1 and 50."
      ]
    },
    {
      "cell_type": "code",
      "execution_count": null,
      "metadata": {
        "colab": {
          "base_uri": "https://localhost:8080/"
        },
        "id": "ZpC_YKWL_N31",
        "outputId": "6ef2a90a-5d77-4747-9301-059d8ac8ac25"
      },
      "outputs": [
        {
          "name": "stdout",
          "output_type": "stream",
          "text": [
            "Sum of even numbers from 1 to 50 is: 650\n"
          ]
        }
      ],
      "source": [
        "even_sum = 0\n",
        "\n",
        "for num in range(1, 51):\n",
        "    if num % 2 == 0:\n",
        "        even_sum += num\n",
        "\n",
        "print(\"Sum of even numbers from 1 to 50 is:\", even_sum)"
      ]
    },
    {
      "cell_type": "markdown",
      "metadata": {
        "id": "U8kjREVd_xpt"
      },
      "source": [
        "14. Write a program to reverse a string using a while loop."
      ]
    },
    {
      "cell_type": "code",
      "source": [
        "# Program to reverse a string using a while loop\n",
        "\n",
        "# Input string\n",
        "input_str = input(\"Ekta Verma\")\n",
        "\n",
        "# Initialize variables\n",
        "reversed_str = \"\"\n",
        "index = len(input_str) - 1\n",
        "\n",
        "# Use while loop to reverse the string\n",
        "while index >= 0:\n",
        "    reversed_str += input_str[index]\n",
        "    index -= 1\n",
        "\n",
        "# Output the reversed string\n",
        "print(\"Reversed string:\", reversed_str)\n"
      ],
      "metadata": {
        "colab": {
          "base_uri": "https://localhost:8080/"
        },
        "id": "yk4yfk8khGTc",
        "outputId": "a87f3820-d4a7-45c7-b34c-2da0e8d5211c"
      },
      "execution_count": 2,
      "outputs": [
        {
          "output_type": "stream",
          "name": "stdout",
          "text": [
            "Ekta Vermaekta verma\n",
            "Reversed string: amrev atke\n"
          ]
        }
      ]
    },
    {
      "cell_type": "markdown",
      "metadata": {
        "id": "hddbJyn4C1Ob"
      },
      "source": [
        "15. Write a Python program to calculate the factorial of a number provided by the user a while loop."
      ]
    },
    {
      "cell_type": "code",
      "execution_count": 1,
      "metadata": {
        "colab": {
          "base_uri": "https://localhost:8080/"
        },
        "id": "NDbxffCZDY8j",
        "outputId": "389376fc-e868-4d0c-87f3-680cd20f66a8"
      },
      "outputs": [
        {
          "output_type": "stream",
          "name": "stdout",
          "text": [
            "55\n",
            "Factorial of 5 is 120\n"
          ]
        }
      ],
      "source": [
        "num = int(input(\"5\"))\n",
        "\n",
        "if num < 0:\n",
        "    print(\"Factorial is not defined for negative numbers.\")\n",
        "else:\n",
        "    factorial = 1\n",
        "    i = 1\n",
        "\n",
        "    # Calculate factorial using while loop\n",
        "    while i <= num:\n",
        "        factorial *= i\n",
        "        i += 1\n",
        "\n",
        "    # Display the result\n",
        "    print(f\"Factorial of {num} is {factorial}\")\n"
      ]
    },
    {
      "cell_type": "markdown",
      "metadata": {
        "id": "OPtlD0lIvyje"
      },
      "source": []
    },
    {
      "cell_type": "code",
      "execution_count": null,
      "metadata": {
        "id": "e_ni38Yygwi1"
      },
      "outputs": [],
      "source": []
    }
  ],
  "metadata": {
    "colab": {
      "provenance": []
    },
    "kernelspec": {
      "display_name": "Python 3 (ipykernel)",
      "language": "python",
      "name": "python3"
    },
    "language_info": {
      "codemirror_mode": {
        "name": "ipython",
        "version": 3
      },
      "file_extension": ".py",
      "mimetype": "text/x-python",
      "name": "python",
      "nbconvert_exporter": "python",
      "pygments_lexer": "ipython3",
      "version": "3.12.7"
    }
  },
  "nbformat": 4,
  "nbformat_minor": 0
}