{
 "cells": [
  {
   "cell_type": "markdown",
   "metadata": {
    "id": "hfqbq8zgj-ae"
   },
   "source": [
    "#THEORY QUESTIONS"
   ]
  },
  {
   "cell_type": "markdown",
   "metadata": {
    "id": "C_Vlyu_-j7ge"
   },
   "source": [
    "#1 = What is Object-Oriented Programming (OOP)?\n",
    "\n",
    "Ans = Object-Oriented Programming (OOP) is a programming paradigm based on the concept of \"objects\", which can contain both data (often called attributes or properties) and code (often called methods or functions). The primary goal of OOP is to organize software design around these objects, rather than actions or logic."
   ]
  },
  {
   "cell_type": "markdown",
   "metadata": {
    "id": "7GSXfB7dj5cn"
   },
   "source": [
    "#2 = What is a class in OOP?\n",
    "\n",
    "Ans = In Object-Oriented Programming (OOP), a class is a blueprint or template for creating objects. It defines a set of attributes (also called properties or fields) and methods (functions) that describe the behavior and state of the objects created from it.\n",
    "A class defines the structure and behavior of objects.\n",
    "An object is a specific instance created from a class.\n",
    "Classes make it easier to structure and reuse code, especially in large applications."
   ]
  },
  {
   "cell_type": "markdown",
   "metadata": {
    "id": "Z8CU2Lggj3F-"
   },
   "source": [
    "#3 = What is an object in OOP ?\n",
    "\n",
    "Ans = In Object-Oriented Programming (OOP), an object is a fundamental unit that represents a specific instance of a class. It is an encapsulated entity that combines data and behavior. Objects are used to model real-world entities or abstract concepts within a program. They interact with one another by sending messages (typically in the form of method calls).\n",
    "\n",
    "Objects are created based on a class, which acts as a blueprint. While the class defines the structure and behavior, the object is the actual entity in memory that can perform actions and hold data.\n"
   ]
  },
  {
   "cell_type": "markdown",
   "metadata": {
    "id": "6ayXkDBMmMpl",
    "jp-MarkdownHeadingCollapsed": true
   },
   "source": [
    "#4 = What is the difference between abstraction and encapsulation?\n",
    "\n",
    "Ans = Abstraction and Encapsulation are two fundamental concepts in Object-Oriented Programming (OOP), and while they are closely related, they serve different purposes.\n",
    "\n",
    "Abstraction (Focuses on what to expose)\n",
    "\n",
    "Definition:\n",
    "Abstraction is the process of hiding complex implementation details and showing only the essential features of an object.\n",
    "\n",
    "Purpose:To reduce complexity and allow the programmer to focus on interactions at a higher level.\n",
    "\n",
    "Key Points:\n",
    "\n",
    "Deals with the idea and behavior of an object.\n",
    "\n",
    "Hides internal logic and shows only relevant functionalities.\n",
    "\n",
    "Achieved using abstract classes, interfaces, or access modifiers (depending on the programming language).\n",
    "\n",
    "Promotes design that is independent of implementation.\n",
    "\n",
    "Encapsulation (Focuses on how to protect data)\n",
    "\n",
    "Definition:\n",
    "Encapsulation is the mechanism of bundling data (attributes) and the methods that operate on that data into a single unit (the object), and restricting direct access to some of the object’s components.\n",
    "\n",
    "Purpose:\n",
    "To protect an object's internal state from unauthorized access and modification.\n",
    "\n",
    "Key Points:\n",
    "\n",
    "Deals with data hiding and access control.\n",
    "\n",
    "Uses access specifiers like private, protected, and public.\n",
    "\n",
    "Ensures controlled interaction through well-defined interfaces (getters/setters).\n",
    "\n",
    "Helps in maintaining integrity and security of data."
   ]
  },
  {
   "cell_type": "markdown",
   "metadata": {
    "id": "NuuQNHHwmtRm"
   },
   "source": [
    "#5 = What are dunder methods in Python ?\n",
    "\n",
    "Ans = Dunder methods in Python (short for \"double underscore methods\") are special methods that have names starting and ending with double underscores, like __init__, __str__, or __add__.\n",
    "\n",
    "Dunder methods, also known as magic methods or special methods, are predefined methods in Python that enable the customization of the behavior of objects. These methods are not meant to be called directly by the programmer but are invoked implicitly by Python in specific situations.\n",
    "\n",
    "Dunder methods provide a standardized way to customize object behavior and integrate smoothly with Python's built-in functions and operators.\n",
    "\n",
    "Dunder methods are special, system-defined methods in Python.They define how objects respond to built-in behavior (like printing, adding, comparing).They make Python objects more flexible, expressive, and Pythonic."
   ]
  },
  {
   "cell_type": "markdown",
   "metadata": {
    "id": "yJiNc5_LnZal"
   },
   "source": [
    "#6 = Explain the concept of inheritance in OOPH ?\n",
    "\n",
    "Ans = Inheritance in Object-Oriented Programming (OOP). Inheritance is a core concept in Object-Oriented Programming that allows one class (called the child class or subclass) to acquire the properties and behaviors (attributes and methods) of another class (called the parent class or superclass).\n",
    "\n",
    "Inheritance is the mechanism by which a new class is derived from an existing class. The derived class inherits all non-private features of the base class and can also introduce its own unique features or override inherited ones.\n",
    "\n",
    "Inheritance enables a class to use the functionality of another class.It supports hierarchical classification, method overriding, and code reuse.\n",
    "It models \"is-a\" relationships between objects in a system."
   ]
  },
  {
   "cell_type": "markdown",
   "metadata": {
    "id": "duQz0V_Hny6d"
   },
   "source": [
    "#7 = What is polymorphism in OOP ?\n",
    "\n",
    "Ans = Polymorphism is a fundamental principle of OOP that allows objects of different classes to be treated through the same interface while exhibiting different behaviors based on their actual class.\n",
    "Polymorphism refers to the ability of a single function, method, or operator to operate in multiple forms depending on the context. It allows the same operation or method name to perform differently on different classes or data types.\n",
    "\n",
    "Polymorphism means \"many forms.\"\n",
    "It enables a single interface to support different underlying behaviors.\n",
    "It supports dynamic and flexible program structures by allowing interchangeable use of different objects through a common interface."
   ]
  },
  {
   "cell_type": "markdown",
   "metadata": {
    "id": "Y0qfJ0fUycKn"
   },
   "source": [
    "#8 = How is encapsulation achieved in Python ?\n",
    "\n",
    "Ans = Encapsulation in Python is achieved by restricting direct access to some parts of an object and exposing only controlled interfaces. This is done using naming conventions and method definitions to control the visibility and accessibility of data within a class.\n",
    "\n",
    "Purpose of Encapsulation in Python:\n",
    "\n",
    "To protect the internal state of objects.\n",
    "\n",
    "To enforce control over how attributes are read or modified.\n",
    "\n",
    "To hide implementation details from external code.\n",
    "\n",
    "To ensure data integrity by restricting unintended or invalid changes.\n",
    "\n",
    "Encapsulation in Python is achieved by: Using naming conventions to indicate access level. Using getters and setters to control access to data.Using properties for elegant, controlled attribute access.\n",
    "\n"
   ]
  },
  {
   "cell_type": "markdown",
   "metadata": {
    "id": "3fBlWntczvbn"
   },
   "source": []
  },
  {
   "cell_type": "markdown",
   "metadata": {
    "id": "izOAkIsYzw-W"
   },
   "source": [
    "#9 = What is a constructor in Python ?\n",
    "\n",
    "Ans = In Python, a constructor is a special method used to initialize a newly created object. It is automatically called when a new instance of a class is created. A constructor is a method with the name __init__. It defines the initial state of an object by assigning values to its attributes at the moment of its creation. It ensures that the object starts in a valid, usable state.The constructor in Python is the __init__ method. It is used to initialize object properties when an object is created.It plays a critical role in ensuring the object is set up properly before use."
   ]
  },
  {
   "cell_type": "markdown",
   "metadata": {
    "id": "r6SLnsWp0cLP"
   },
   "source": [
    "#10 = What are class and static methods in Python ?\n",
    "\n",
    "Ans = In Python, both class methods and static methods are special types of methods defined inside a class. They are used for different purposes and behave differently from regular instance methods.\n",
    "\n",
    "1. Class Methods\n",
    "\n",
    "Definition:\n",
    "\n",
    "A class method is a method that is bound to the class and not the instance of the class. It has access to the class itself but not to instance-specific data.\n",
    "\n",
    "Characteristics:\n",
    "\n",
    "Declared using the @classmethod decorator.\n",
    "\n",
    "Takes cls (the class itself) as the first parameter instead of self.\n",
    "\n",
    "Can be used to access or modify class-level attributes.\n",
    "\n",
    "Useful for creating alternative constructors or for behaviors that affect the class as a whole.\n",
    "\n",
    "Purpose:\n",
    "\n",
    "Work with class-level data.\n",
    "\n",
    "Define utility functions that need to know which class they are part of.\n",
    "\n",
    "Provide different ways to instantiate class objects.\n",
    "\n",
    "2. Static Methods\n",
    "\n",
    "Definition:\n",
    "\n",
    "A static method is a method that does not access the class or instance. It behaves like a regular function but belongs to the class’s namespace.\n",
    "\n",
    "Characteristics:\n",
    "\n",
    "Declared using the @staticmethod decorator.\n",
    "\n",
    "Does not take self or cls as the first argument.\n",
    "\n",
    "Cannot access or modify class or instance attributes.\n",
    "\n",
    "Used for utility operations that are logically related to the class but don’t require class or instance context.\n",
    "\n",
    "Purpose:\n",
    "\n",
    "Encapsulate helper or utility functions inside the class.\n",
    "\n",
    "Organize functions that conceptually belong to the class but don’t need object or class-level data."
   ]
  },
  {
   "cell_type": "markdown",
   "metadata": {
    "id": "fXpZYAPq098f"
   },
   "source": [
    "#11 = What is method overloading in Python ?\n",
    "\n",
    "Ans = Method overloading refers to the ability to define multiple methods with the same name but with different parameters (in number or type), allowing them to perform different tasks depending on how they are called.\n",
    "\n",
    "In classical object-oriented programming, method overloading allows a class to have multiple methods with the same name but different signatures (i.e., different parameter lists). The method executed is determined by the number or type of arguments passed during the call.\n",
    "\n",
    "Method Overloading in Python:\n",
    "\n",
    "Python does not support method overloading in the traditional sense found in statically-typed languages like Java or C++. In Python:\n",
    "\n",
    "If multiple methods with the same name are defined in a class, only the last one is retained, and earlier definitions are overwritten.\n",
    "\n",
    "However, Python achieves similar behavior using:\n",
    "\n",
    "Default arguments\n",
    "\n",
    "Variable-length arguments (*args, **kwargs)\n",
    "\n",
    "Manual argument inspection inside a single method\n",
    "\n",
    "Method overloading allows the same method name to operate differently depending on the arguments.Python does not support it directly, but similar behavior can be achieved using default and variable arguments.It supports the principle of polymorphism, where one method name can represent multiple behaviors."
   ]
  },
  {
   "cell_type": "markdown",
   "metadata": {
    "id": "sA_naZMF1Y7u"
   },
   "source": [
    "#12 = What is method overriding in OOP ?\n",
    "\n",
    "Ans = Method overriding is a core concept in OOP that allows a subclass to provide a specific implementation of a method that is already defined in its superclass. This enables the subclass to alter or extend the behavior of the inherited method.\n",
    "\n",
    "Method overriding occurs when a subclass defines a method with the same name, return type, and parameters as a method in its superclass. At runtime, the method of the subclass is invoked instead of the one in the superclass, allowing for dynamic (runtime) polymorphism.\n",
    "\n",
    "Purpose of Method Overriding: To enable runtime polymorphism.To allow a subclass to provide specific behavior while using a common interface.To follow the Liskov Substitution Principle (a subtype should be substitutable for its supertype).\n",
    "\n",
    "Method overriding allows a subclass to redefine a method of its superclass.It is used to achieve polymorphic behavior at runtime.It is fundamental for designing flexible and extensible object-oriented systems."
   ]
  },
  {
   "cell_type": "markdown",
   "metadata": {
    "id": "fhwXOEEP1ysO"
   },
   "source": [
    "#13 = What is a property decorator in Python ?\n",
    "\n",
    "Ans = In Python, the property decorator (@property) is used to define methods that behave like attributes. It provides a way to encapsulate access to an attribute while maintaining clean, attribute-like syntax.\n",
    "\n",
    "The @property decorator is a built-in mechanism in Python that allows a method to be accessed like an attribute (without parentheses), enabling controlled read access to private data. It is commonly used as part of encapsulation, to hide internal data and expose only a controlled interface.\n",
    "\n",
    "Purpose: To hide internal implementation details.To allow validation or computation when an attribute is accessed or modified.To provide read-only, write-only, or fully controlled access to class attributes.\n",
    "\n",
    "The @property decorator turns a method into a managed attribute.It supports getter/setter/deleter functionality using method decorators.It is a key part of achieving encapsulation in a Pythonic and elegant way."
   ]
  },
  {
   "cell_type": "markdown",
   "metadata": {
    "id": "qsTLm9LW2ItW"
   },
   "source": [
    "#14 =  Why is polymorphism important in OOP ?\n",
    "\n",
    " Ans =  Polymorphism is a fundamental principle in Object-Oriented Programming that enables a single interface to represent multiple forms. It plays a critical role in achieving flexibility, extensibility, and reusability in software design.\n",
    "\n",
    "1. = Supports Code Generalization: Polymorphism allows developers to write general-purpose code that works with objects of different types, as long as they share a common interface or superclass.\n",
    "This reduces code duplication and increases reusability.\n",
    "\n",
    "2. Enables Runtime Flexibility:Through dynamic method dispatch, the program determines the appropriate method implementation at runtime based on the actual object's type, not the reference type.\n",
    "This leads to more adaptive and flexible software behavior.\n",
    "\n",
    "3. Promotes Interface-Based Programming:Polymorphism encourages designing programs based on abstract interfaces rather than concrete implementations.\n",
    "This allows different classes to implement the same interface in their own way.\n",
    "\n",
    "4. Facilitates System Extensibility:\n",
    "New classes can be added with minimal changes to existing code, as long as they conform to expected interfaces.\n",
    "This supports the Open/Closed Principle: software entities should be open for extension but closed for modification.\n",
    "\n",
    "5. Simplifies Complex Logic:Instead of using conditional statements to differentiate behaviors across types, polymorphism delegates responsibility to the appropriate class implementation, making the code cleaner and more maintainable.\n",
    "\n",
    "6. Enables Substitutability:Objects of a subclass can be substituted for objects of their superclass without affecting the correctness of the program (known as the Liskov Substitution Principle).\n",
    "\n",
    "\n",
    "\n"
   ]
  },
  {
   "cell_type": "markdown",
   "metadata": {
    "id": "V7GI881E3Jne"
   },
   "source": [
    "#15 = What is an abstract class in Python ?\n",
    "\n",
    "Ans = An abstract class in Python is a class that cannot be instantiated directly and is intended to be subclassed. It serves as a blueprint for other classes, enforcing that certain methods must be implemented by any subclass.\n",
    "\n",
    "An abstract class is a class that may contain abstract methods—methods that are declared but not implemented in the abstract class itself. These methods must be overridden in any non-abstract subclass. Abstract classes are used to define a common interface or structure for a group of related subclasses.\n",
    "\n",
    "Purpose of Abstract Classes:To enforce method implementation in subclasses.To standardize behavior across related classes.To support code organization and polymorphism by providing a shared interface.\n",
    "\n",
    "An abstract class defines a contract for its subclasses.\n",
    "It cannot be instantiated and may contain both abstract and concrete methods.\n",
    "It is a core tool for achieving abstraction, interface enforcement, and polymorphism in Python."
   ]
  },
  {
   "cell_type": "markdown",
   "metadata": {
    "id": "0lb-OY333zLd"
   },
   "source": [
    "#16 = What are the advantages of OOP ?\n",
    "\n",
    "Ans = Object-Oriented Programming (OOP) is a programming paradigm based on the concept of objects, which bundle data and behavior together. OOP offers several theoretical and practical advantages, especially in the context of building large, complex, and maintainable software systems.\n",
    "\n",
    "Key Advantages of OOP:\n",
    "\n",
    "1. Modularity:- Code is organized into classes and objects, promoting a modular structure.Each class can be developed, tested, and debugged independently, enhancing maintainability.\n",
    "2. Reusability:- Through inheritance, existing classes can be reused to create new ones without rewriting existing code.Encourages building on well-tested components, reducing redundancy and effort.\n",
    "3. Encapsulation:- Internal object details are hidden from the outside world using access control mechanisms.Promotes data protection, integrity, and a clear interface for object interaction.\n",
    "4. Abstraction:- Simplifies complex systems by exposing only relevant details to the user and hiding the unnecessary ones.\n",
    "Helps in managing complexity and focusing on high-level design rather than low-level implementation.\n",
    "5. Polymorphism\n",
    "Allows the same interface to be used for different underlying data types or behaviors.Facilitates code that is more flexible, generalized, and extensible.\n",
    "6. Maintainability and ScalabilityDue to modular and reusable design, OOP systems are easier to maintain, update, and scale.\n",
    "Enhancements and bug fixes can often be made in isolated parts of the codebase.\n",
    "7. Improved Collaboration and Teamwork:- Code written using OOP principles is easier to understand and organize.Teams can divide work based on different classes or modules, supporting parallel development.\n",
    "8. Better Modeling of Real-World Systems:-\n",
    "Objects in OOP closely mirror real-world entities, making the design more intuitive and natural.\n",
    "Supports domain-driven design, where software models the structure and behavior of real systems.\n",
    "\n"
   ]
  },
  {
   "cell_type": "markdown",
   "metadata": {
    "id": "r4ViZvS_43qF"
   },
   "source": [
    "#17 =  What is the difference between a class variable and an instance variable?\n",
    "\n",
    "Ans = In Object-Oriented Programming (OOP), particularly in Python, class variables and instance variables represent two types of data attributes associated with a class. They differ in scope, storage, and purpose.\n",
    "\n",
    "1. Class Variable\n",
    "\n",
    "Definition:\n",
    "A class variable is a variable that is shared among all instances of a class. It is defined within the class, but outside of any instance methods.\n",
    "\n",
    "Key Characteristics:\n",
    "\n",
    "Belongs to the class itself, not to any specific object.\n",
    "\n",
    "Shared across all instances: any change made to it is reflected in all objects of the class (unless shadowed).\n",
    "\n",
    "Used to represent common properties or constants.\n",
    "\n",
    "Purpose:\n",
    "\n",
    "Store data that should be the same for all objects of the class.\n",
    "\n",
    "Maintain class-level state or configuration.\n",
    "\n",
    "2. Instance Variable\n",
    "\n",
    "Definition:\n",
    "\n",
    "An instance variable is a variable that is unique to each object (instance) of the class. It is defined inside instance methods, typically inside the constructor (__init__) using self.\n",
    "\n",
    "Key Characteristics:\n",
    "\n",
    "Belongs to the individual object (instance).\n",
    "\n",
    "Each object has its own separate copy of the variable.\n",
    "\n",
    "Used to represent object-specific data.\n",
    "\n",
    "Purpose:\n",
    "\n",
    "Store data that is unique to each object.\n",
    "\n",
    "Maintain the state of a particular instance.\n"
   ]
  },
  {
   "cell_type": "markdown",
   "metadata": {
    "id": "OtGalrpV5XXl"
   },
   "source": [
    "#18 = What is multiple inheritance in Python ?\n",
    "\n",
    "Ans = Multiple inheritance is an object-oriented programming feature where a class can inherit attributes and methods from more than one parent class. This allows a subclass to combine and reuse functionality from multiple sources.In Python, a class can have multiple base classes. When a subclass inherits from more than one superclass, it gains access to all their properties and behaviors. This enables combining diverse features into a single class.\n",
    "\n",
    "Purpose and Use Cases:\n",
    "\n",
    "To create classes that combine capabilities from multiple sources.\n",
    "\n",
    "To enable code reuse when functionalities logically belong to separate classes.\n",
    "\n",
    "To implement mixins — small classes designed to add specific functionality.\n",
    "\n",
    "\n",
    "Multiple inheritance allows a class to inherit from two or more classes.\n",
    "It enables combining behaviors and attributes from multiple parent classes.\n",
    "Python resolves method and attribute conflicts using the Method Resolution Order (MRO)."
   ]
  },
  {
   "cell_type": "markdown",
   "metadata": {
    "id": "BW75_wlG5sMl"
   },
   "source": [
    "#19 =Explain the purpose of ‘’__str__’ and ‘__repr__’ ‘ methods in Python ?\n",
    "\n",
    "Ans = Both __str__ and __repr__ are special methods (also called dunder methods) in Python that define string representations of an object. They serve different purposes related to how objects are displayed or represented as strings.\n",
    "\n",
    "1. __repr__ Method\n",
    "\n",
    "Purpose:\n",
    "\n",
    "To provide an official, unambiguous string representation of an object.\n",
    "\n",
    "Intended mainly for developers and debugging.\n",
    "\n",
    "The output of __repr__ should ideally be a valid Python expression that can be used to recreate the object (if possible).\n",
    "\n",
    "When it is used:\n",
    "\n",
    "Called by the built-in repr() function.\n",
    "\n",
    "Used in the interactive interpreter when an object is displayed.\n",
    "\n",
    "Used by default if __str__ is not defined.\n",
    "\n",
    "2.  __str__ Method\n",
    "\n",
    "Purpose:\n",
    "\n",
    "To provide a readable, informal string representation of an object.\n",
    "\n",
    "Intended for end-users or for display purposes.\n",
    "\n",
    "Focuses on presenting useful information in a human-friendly format.\n",
    "\n",
    "When it is used:\n",
    "\n",
    "Called by the built-in str() function.\n",
    "\n",
    "Used by the print() function to display the object."
   ]
  },
  {
   "cell_type": "markdown",
   "metadata": {
    "id": "5lEA6DFn6IKs"
   },
   "source": [
    "#20. What is the significance of the ‘super()’ function in Python ?\n",
    "\n",
    "Ans = The super() function in Python is a built-in utility used in class inheritance to call methods from a parent (super) class. It provides a way to access inherited methods that have been overridden in a subclass.\n",
    "\n",
    "Purpose of super():\n",
    "\n",
    "1. Access Parent Class Methods\n",
    "\n",
    "Enables a subclass to invoke methods or constructors of its superclass, allowing reuse of parent class functionality without explicitly naming the parent class.\n",
    "\n",
    "2. Support for Multiple Inheritance\n",
    "\n",
    "Works with Python’s Method Resolution Order (MRO) to ensure the correct parent method is called, especially important in complex inheritance hierarchies with multiple inheritance.\n",
    "\n",
    "3. Facilitate Code Maintenance and Extensibility\n",
    "\n",
    "By using super(), subclasses remain loosely coupled to parent classes, making the codebase easier to maintain and extend.\n",
    "\n",
    "Avoids hardcoding the parent class name, so changes in class hierarchy are less error-prone.\n",
    "\n",
    "4. Proper Initialization of Parent Classes\n",
    "\n",
    "Commonly used in constructors (__init__) to ensure that parent class initialization is properly done, which is critical for correctly setting up an object."
   ]
  },
  {
   "cell_type": "markdown",
   "metadata": {
    "id": "mX7ErrZk6eRc"
   },
   "source": [
    "#21. What is the significance of the __del__ method in Python ?\n",
    "\n",
    "Ans = The __del__ method in Python is a special method known as a destructor. It is called when an object is about to be destroyed, i.e., when the object is about to be garbage collected.\n",
    "\n",
    "Purpose of __del__:\n",
    "\n",
    "1. Cleanup Resources\n",
    "\n",
    "The primary purpose of __del__ is to perform final cleanup tasks before the object is destroyed, such as releasing external resources like files, network connections, or database connections.\n",
    "\n",
    "2. Automatic Invocation\n",
    "\n",
    "Python’s garbage collector automatically calls __del__ when an object’s reference count drops to zero (no references remain to the object).\n",
    "\n",
    "3. Not Guaranteed to be Called Immediately\n",
    "\n",
    "Unlike some other languages (e.g., C++ destructors), __del__ is not guaranteed to be called immediately when an object goes out of scope, due to Python’s garbage collection strategy.\n",
    "\n",
    "In some cases, __del__ may never be called (e.g., circular references or program termination).\n",
    "\n",
    "4. Avoid Complex Logic\n",
    "\n",
    "It’s recommended to keep __del__ simple because complex operations or exceptions in __del__ can cause unpredictable behavior during object destruction."
   ]
  },
  {
   "cell_type": "markdown",
   "metadata": {
    "id": "Q9CvPROp7ED0"
   },
   "source": [
    "#22 =What is the difference between @staticmethod and @classmethod in Python ?\n",
    "\n",
    "Ans= Both @staticmethod and @classmethod are decorators used to define methods inside a class that are not typical instance methods, but they differ in how they relate to the class and its instances.\n",
    "\n",
    "1. @staticmethod\n",
    "\n",
    "Definition:\n",
    "\n",
    "A static method is a method that does not receive an implicit first argument (neither self nor cls). It behaves like a regular function, but it resides inside the class’s namespace for organizational purposes.\n",
    "\n",
    "Key Characteristics:\n",
    "\n",
    "Cannot access or modify instance (self) or class (cls) state.\n",
    "\n",
    "Defined with the @staticmethod decorator.\n",
    "\n",
    "Used for utility functions that have some logical connection to the class but don’t need to access class or instance data.\n",
    "\n",
    "Example Purpose:\n",
    "A helper function inside a class that operates on parameters but is independent of class or instance data.\n",
    "\n",
    "2. @classmethod\n",
    "\n",
    "Definition:\n",
    "\n",
    "A class method is a method that receives the class itself as the first argument, conventionally named cls. It can access or modify class state that applies across all instances.\n",
    "\n",
    "Key Characteristics:\n",
    "\n",
    "The first parameter is cls, referring to the class, not the instance.\n",
    "\n",
    "Defined with the @classmethod decorator.\n",
    "\n",
    "Can access or modify class variables.\n",
    "\n",
    "Often used for factory methods or methods that affect the class as a whole.\n",
    "\n",
    "Example Purpose:\n",
    "Creating alternative constructors or modifying class-level attributes.\n",
    "\n"
   ]
  },
  {
   "cell_type": "markdown",
   "metadata": {
    "id": "Tz3UD_O97hKs"
   },
   "source": [
    "#23 = How does polymorphism work in Python with inheritance ?\n",
    "\n",
    "Ans = Polymorphism is a core concept in Object-Oriented Programming (OOP) that allows objects of different classes related by inheritance to be treated as objects of a common superclass, but with their own distinct behaviors.\n",
    "\n",
    "Mechanism of Polymorphism with Inheritance in Python\n",
    "\n",
    "1. Inheritance Provides a Common Interface:-\n",
    "When a subclass inherits from a superclass, it inherits the methods and attributes of that superclass.\n",
    "Multiple subclasses can inherit the same superclass, creating a family of related classes sharing a common interface.\n",
    "\n",
    "2. Method Overriding Enables Different Behaviors:-\n",
    "Subclasses can override methods of the superclass to provide specific implementations.When a method is called on an object, the version of the method that corresponds to the actual object's class (not the reference type) is executed.\n",
    "\n",
    "3. Dynamic Method Dispatch (Runtime Polymorphism):-\n",
    "Python determines which method to invoke at runtime based on the actual type of the object.This dynamic lookup enables different behaviors for the same method call on different object types.\n",
    "\n",
    "4. Subtype Polymorphism:- Objects of subclasses can be used anywhere the superclass object is expected, thanks to the shared interface.\n",
    "This supports the Liskov Substitution Principle: subclasses can substitute their superclass without affecting correctness.\n",
    "\n",
    "Polymorphism allows one interface to represent different underlying data types through inheritance.Subclass objects can be used interchangeably with superclass references, but their own overridden methods are called.\n",
    "Method calls are resolved at runtime, enabling dynamic behavior.It promotes flexible and extensible code that can work with new subclasses without modification.\n",
    "\n",
    "\n",
    "\n"
   ]
  },
  {
   "cell_type": "markdown",
   "metadata": {
    "id": "yCh5btSZ8mek"
   },
   "source": [
    "#24 = What is method chaining in Python OOP ?\n",
    "\n",
    "Ans = Method chaining is a technique in Object-Oriented Programming where multiple method calls are linked together in a single statement, one after another. Each method call returns an object (usually self), allowing the next method to be called on that returned object.\n",
    "\n",
    "Method chaining allows invoking several methods sequentially on the same object, improving code readability and fluency.It relies on methods returning the object itself (self), so that the next method can be called on it.\n",
    "\n",
    "A method performs its action and then returns self, the current instance.\n",
    "This returned instance can immediately be used to call another method.\n",
    "This creates a chain of method calls on the same object in a single line.\n",
    "\n",
    "Purpose and Advantages:\n",
    "Cleaner and more concise code by reducing repetitive calls to the same object.\n",
    "Facilitates a fluent interface style, making code easier to read and write.\n",
    "Encourages a more declarative style, showing a sequence of operations as a pipeline.\n",
    "\n",
    "Method chaining is calling multiple methods on the same object in one continuous expression.Achieved by methods returning self after execution.\n",
    "Enhances code readability and fluidity.\n",
    "\n",
    "\n",
    "\n",
    "\n"
   ]
  },
  {
   "cell_type": "markdown",
   "metadata": {
    "id": "2KetzKHg9F0r"
   },
   "source": [
    "#25 = What is the purpose of the __call__ method in Python?\n",
    "\n",
    "Ans = The __call__ method is a special (dunder) method in Python that allows an instance of a class to be called as if it were a function.\n",
    "\n",
    "When you define the __call__ method inside a class, you make its instances callable.Calling an instance like a function (instance()) triggers the execution of the __call__ method on that instance.\n",
    "\n",
    "Purpose and Use Cases:\n",
    "\n",
    "1. Function-like Objects\n",
    "\n",
    "Allows objects to behave like functions, combining data (attributes) and behavior (call logic) in one entity.\n",
    "\n",
    "2. Cleaner and More Intuitive Syntax\n",
    "\n",
    "Using instance() instead of instance.method() can make the code more readable, especially when the object represents some action or operation.\n",
    "\n",
    "3. Stateful Callables\n",
    "\n",
    "Enables creating stateful functions that maintain internal state or configuration, which is harder to achieve with regular functions.\n",
    "\n",
    "4. Flexible APIs and Design Patterns\n",
    "\n",
    "Used in advanced designs like decorators, callbacks, or functors (function objects) for flexible and expressive code.\n",
    "\n"
   ]
  },
  {
   "cell_type": "markdown",
   "metadata": {
    "id": "TlK6CPVb9fs7"
   },
   "source": [
    "# PRACTICAL QUESTIONS"
   ]
  },
  {
   "cell_type": "code",
   "execution_count": 19,
   "metadata": {
    "colab": {
     "base_uri": "https://localhost:8080/"
    },
    "id": "mAo7OzK79jK7",
    "outputId": "c4f67b2e-26a1-49f4-c00f-90817b3e736b"
   },
   "outputs": [
    {
     "name": "stdout",
     "output_type": "stream",
     "text": [
      "This animal makes a sound.\n",
      "Bark!\n"
     ]
    }
   ],
   "source": [
    "#1 =  Create a parent class Animal with a method speak() that prints a generic message. Create a child class Dog that overrides the speak() method to print \"Bark!\" ?\n",
    "class Animal:\n",
    "    def speak(self):\n",
    "        print(\"This animal makes a sound.\")\n",
    "\n",
    "class Dog(Animal):\n",
    "    def speak(self):\n",
    "        print(\"Bark!\")\n",
    "\n",
    "# Testing the classes\n",
    "animal = Animal()\n",
    "animal.speak()\n",
    "\n",
    "dog = Dog()\n",
    "dog.speak()\n"
   ]
  },
  {
   "cell_type": "code",
   "execution_count": 18,
   "metadata": {
    "colab": {
     "base_uri": "https://localhost:8080/"
    },
    "id": "Wu5Ty98Kj1jv",
    "outputId": "aa3ab7ce-bc73-4258-e3d0-8b379283135e"
   },
   "outputs": [
    {
     "name": "stdout",
     "output_type": "stream",
     "text": [
      "Circle area: 78.53981633974483\n",
      "Rectangle area: 24\n"
     ]
    }
   ],
   "source": [
    "# 2 = Write a program to create an abstract class Shape with a method area(). Derive classes Circle and Rectangle from it and implement the area() method in both ?\n",
    "from abc import ABC, abstractmethod\n",
    "import math\n",
    "\n",
    "# Abstract base class\n",
    "class Shape(ABC):\n",
    "    @abstractmethod\n",
    "    def area(self):\n",
    "        pass\n",
    "\n",
    "# Circle class implementing area()\n",
    "class Circle(Shape):\n",
    "    def __init__(self, radius):\n",
    "        self.radius = radius\n",
    "\n",
    "    def area(self):\n",
    "        return math.pi * (self.radius ** 2)\n",
    "\n",
    "# Rectangle class implementing area()\n",
    "class Rectangle(Shape):\n",
    "    def __init__(self, width, height):\n",
    "        self.width = width\n",
    "        self.height = height\n",
    "\n",
    "    def area(self):\n",
    "        return self.width * self.height\n",
    "\n",
    "# Testing the classes\n",
    "circle = Circle(5)\n",
    "rectangle = Rectangle(4, 6)\n",
    "\n",
    "print(\"Circle area:\", circle.area())\n",
    "print(\"Rectangle area:\", rectangle.area())\n",
    "\n"
   ]
  },
  {
   "cell_type": "code",
   "execution_count": 17,
   "metadata": {
    "colab": {
     "base_uri": "https://localhost:8080/"
    },
    "id": "O-E_L0TQ-qj6",
    "outputId": "dc629cf1-e8ef-4907-92ce-8c75a6f5239b"
   },
   "outputs": [
    {
     "name": "stdout",
     "output_type": "stream",
     "text": [
      "Vehicle type: Electric\n",
      "Car brand: Tesla\n",
      "Battery capacity: 100 kWh\n"
     ]
    }
   ],
   "source": [
    "# 3 =  Implement a multi-level inheritance scenario where a class Vehicle has an attribute type. Derive a class Car and further derive a class ElectricCar that adds a battery attribute. ?\n",
    "class Vehicle:\n",
    "    def __init__(self, vehicle_type):\n",
    "        self.type = vehicle_type\n",
    "\n",
    "    def show_type(self):\n",
    "        print(f\"Vehicle type: {self.type}\")\n",
    "\n",
    "# Derived class\n",
    "class Car(Vehicle):\n",
    "    def __init__(self, vehicle_type, brand):\n",
    "        super().__init__(vehicle_type)\n",
    "        self.brand = brand\n",
    "\n",
    "    def show_brand(self):\n",
    "        print(f\"Car brand: {self.brand}\")\n",
    "\n",
    "# Further derived class\n",
    "class ElectricCar(Car):\n",
    "    def __init__(self, vehicle_type, brand, battery_capacity):\n",
    "        super().__init__(vehicle_type, brand)\n",
    "        self.battery = battery_capacity\n",
    "\n",
    "    def show_battery(self):\n",
    "        print(f\"Battery capacity: {self.battery} kWh\")\n",
    "\n",
    "# Testing multi-level inheritance\n",
    "ecar = ElectricCar(\"Electric\", \"Tesla\", 100)\n",
    "ecar.show_type()\n",
    "ecar.show_brand()\n",
    "ecar.show_battery()"
   ]
  },
  {
   "cell_type": "code",
   "execution_count": 9,
   "metadata": {
    "colab": {
     "base_uri": "https://localhost:8080/"
    },
    "id": "Et9wyhhr-9th",
    "outputId": "9ad4a597-4da0-45f1-a9ce-95dfb9e9fc2e"
   },
   "outputs": [
    {
     "name": "stdout",
     "output_type": "stream",
     "text": [
      "Sparrow can fly high.\n",
      "Penguins cannot fly.\n"
     ]
    }
   ],
   "source": [
    "# 4 = Demonstrate polymorphism by creating a base class Bird with a method fly(). Create two derived classes Sparrow and Penguin that override the fly() method.?\n",
    "class Bird:\n",
    "    def fly(self):\n",
    "        print(\"Some birds can fly.\")\n",
    "\n",
    "# Derived class Sparrow\n",
    "class Sparrow(Bird):\n",
    "    def fly(self):\n",
    "        print(\"Sparrow can fly high.\")\n",
    "\n",
    "# Derived class Penguin\n",
    "class Penguin(Bird):\n",
    "    def fly(self):\n",
    "        print(\"Penguins cannot fly.\")\n",
    "\n",
    "# Testing polymorphism\n",
    "birds = [Sparrow(), Penguin()]\n",
    "\n",
    "for bird in birds:\n",
    "    bird.fly()\n"
   ]
  },
  {
   "cell_type": "code",
   "execution_count": 16,
   "metadata": {
    "colab": {
     "base_uri": "https://localhost:8080/"
    },
    "id": "hB6kSEbGAcEp",
    "outputId": "0a85fa9a-1894-4da1-b6cb-841a6718cb56"
   },
   "outputs": [
    {
     "name": "stdout",
     "output_type": "stream",
     "text": [
      "Current balance: 1000\n",
      "Deposited: 500\n",
      "Withdrawn: 300\n",
      "Current balance: 1200\n"
     ]
    }
   ],
   "source": [
    "# 5 = Write a program to demonstrate encapsulation by creating a class BankAccount with private attributes balance and methods to deposit, withdraw, and check balance.?\n",
    "class BankAccount:\n",
    "    def __init__(self, initial_balance=0):\n",
    "        self.__balance = initial_balance  # private attribute\n",
    "\n",
    "    def deposit(self, amount):\n",
    "        if amount > 0:\n",
    "            self.__balance += amount\n",
    "            print(f\"Deposited: {amount}\")\n",
    "        else:\n",
    "            print(\"Deposit amount must be positive.\")\n",
    "\n",
    "    def withdraw(self, amount):\n",
    "        if 0 < amount <= self.__balance:\n",
    "            self.__balance -= amount\n",
    "            print(f\"Withdrawn: {amount}\")\n",
    "        else:\n",
    "            print(\"Insufficient balance or invalid amount.\")\n",
    "\n",
    "    def check_balance(self):\n",
    "        print(f\"Current balance: {self.__balance}\")\n",
    "\n",
    "# Testing encapsulation\n",
    "account = BankAccount(1000)\n",
    "account.check_balance()\n",
    "account.deposit(500)\n",
    "account.withdraw(300)\n",
    "account.check_balance()"
   ]
  },
  {
   "cell_type": "code",
   "execution_count": 11,
   "metadata": {
    "colab": {
     "base_uri": "https://localhost:8080/"
    },
    "id": "JcK3B1PUAp-h",
    "outputId": "f5905ea0-e167-4077-946d-1608414dcd7f"
   },
   "outputs": [
    {
     "name": "stdout",
     "output_type": "stream",
     "text": [
      "Strumming the guitar.\n",
      "Playing the piano.\n"
     ]
    }
   ],
   "source": [
    "# 6 = Demonstrate runtime polymorphism using a method play() in a base class Instrument. Derive classes Guitar and Piano that implement their own version of play().?\n",
    "class Instrument:\n",
    "    def play(self):\n",
    "        print(\"Playing an instrument.\")\n",
    "\n",
    "# Derived class Guitar\n",
    "class Guitar(Instrument):\n",
    "    def play(self):\n",
    "        print(\"Strumming the guitar.\")\n",
    "\n",
    "# Derived class Piano\n",
    "class Piano(Instrument):\n",
    "    def play(self):\n",
    "        print(\"Playing the piano.\")\n",
    "\n",
    "# Runtime polymorphism demonstration\n",
    "instruments = [Guitar(), Piano()]\n",
    "\n",
    "for instrument in instruments:\n",
    "    instrument.play()"
   ]
  },
  {
   "cell_type": "code",
   "execution_count": 15,
   "metadata": {
    "colab": {
     "base_uri": "https://localhost:8080/"
    },
    "id": "Tmc31kEKA16R",
    "outputId": "c0031857-643d-4ca5-b5e0-bad003a16631"
   },
   "outputs": [
    {
     "name": "stdout",
     "output_type": "stream",
     "text": [
      "Addition: 15\n",
      "Subtraction: 5\n"
     ]
    }
   ],
   "source": [
    "# 7 =  Create a class MathOperations with a class method add_numbers() to add two numbers and a static method subtract_numbers() to subtract two numbers. ?\n",
    "class MathOperations:\n",
    "\n",
    "    @classmethod\n",
    "    def add_numbers(cls, a, b):\n",
    "        return a + b\n",
    "\n",
    "    @staticmethod\n",
    "    def subtract_numbers(a, b):\n",
    "        return a - b\n",
    "\n",
    "# Testing the methods\n",
    "result_add = MathOperations.add_numbers(10, 5)\n",
    "result_sub = MathOperations.subtract_numbers(10, 5)\n",
    "\n",
    "print(\"Addition:\", result_add)\n",
    "print(\"Subtraction:\", result_sub)"
   ]
  },
  {
   "cell_type": "code",
   "execution_count": 14,
   "metadata": {
    "colab": {
     "base_uri": "https://localhost:8080/"
    },
    "id": "47zrhb37BKNh",
    "outputId": "c4b3bc87-5d0c-461f-eb1a-5609559e294b"
   },
   "outputs": [
    {
     "name": "stdout",
     "output_type": "stream",
     "text": [
      "Total persons created: 3\n"
     ]
    }
   ],
   "source": [
    "# 8 =  Implement a class Person with a class method to count the total number of persons created ?\n",
    "class Person:\n",
    "    count = 0  # Class variable to keep track of total persons\n",
    "\n",
    "    def __init__(self, name):\n",
    "        self.name = name\n",
    "        Person.count += 1  # Increment count when a new person is created\n",
    "\n",
    "    @classmethod\n",
    "    def total_persons(cls):\n",
    "        print(f\"Total persons created: {cls.count}\")\n",
    "\n",
    "# Creating Person instances\n",
    "p1 = Person(\"Alice\")\n",
    "p2 = Person(\"Bob\")\n",
    "p3 = Person(\"Charlie\")\n",
    "\n",
    "# Display total persons\n",
    "Person.total_persons()\n"
   ]
  },
  {
   "cell_type": "code",
   "execution_count": 20,
   "metadata": {
    "colab": {
     "base_uri": "https://localhost:8080/"
    },
    "id": "YMdpCOcGBfSx",
    "outputId": "b3381ba2-1393-4b1e-f415-d12d0bfdd0e4"
   },
   "outputs": [
    {
     "name": "stdout",
     "output_type": "stream",
     "text": [
      "3/4\n"
     ]
    }
   ],
   "source": [
    "# 9 = Write a class Fraction with attributes numerator and denominator. Override the str method to display the fraction as \"numerator/denominator\".?\n",
    "class Fraction:\n",
    "    def __init__(self, numerator, denominator):\n",
    "        self.numerator = numerator\n",
    "        self.denominator = denominator\n",
    "\n",
    "    def __str__(self):\n",
    "        return f\"{self.numerator}/{self.denominator}\"\n",
    "\n",
    "# Creating and displaying a Fraction object\n",
    "f = Fraction(3, 4)\n",
    "print(f)\n"
   ]
  },
  {
   "cell_type": "code",
   "execution_count": 21,
   "metadata": {
    "colab": {
     "base_uri": "https://localhost:8080/"
    },
    "id": "FcqoML_8CcxA",
    "outputId": "d80dbfa9-ee45-43f3-a677-5f298e196353"
   },
   "outputs": [
    {
     "name": "stdout",
     "output_type": "stream",
     "text": [
      "Vector(6, 8)\n"
     ]
    }
   ],
   "source": [
    "# 10 =  Demonstrate operator overloading by creating a class Vector and overriding the add method to add two vectors ?\n",
    "class Vector:\n",
    "    def __init__(self, x, y):\n",
    "        self.x = x\n",
    "        self.y = y\n",
    "\n",
    "    # Overloading the + operator\n",
    "    def __add__(self, other):\n",
    "        return Vector(self.x + other.x, self.y + other.y)\n",
    "\n",
    "    def __str__(self):\n",
    "        return f\"Vector({self.x}, {self.y})\"\n",
    "\n",
    "# Creating vector objects\n",
    "v1 = Vector(2, 3)\n",
    "v2 = Vector(4, 5)\n",
    "\n",
    "# Adding vectors using overloaded +\n",
    "v3 = v1 + v2\n",
    "\n",
    "print(v3)\n"
   ]
  },
  {
   "cell_type": "code",
   "execution_count": 22,
   "metadata": {
    "colab": {
     "base_uri": "https://localhost:8080/"
    },
    "id": "p87-xZUACv4Y",
    "outputId": "93e7efe9-8c48-4cdf-b5c6-384e87ce279d"
   },
   "outputs": [
    {
     "name": "stdout",
     "output_type": "stream",
     "text": [
      "Hello, my name is Alice and I am 30 years old.\n"
     ]
    }
   ],
   "source": [
    "# 11 =  Create a class Person with attributes name and age. Add a method greet() that prints \"Hello, my name is {name} and I am {age} years old.\"?\n",
    "class Person:\n",
    "    def __init__(self, name, age):\n",
    "        self.name = name\n",
    "        self.age = age\n",
    "\n",
    "    def greet(self):\n",
    "        print(f\"Hello, my name is {self.name} and I am {self.age} years old.\")\n",
    "\n",
    "# Creating a Person object and calling greet()\n",
    "p = Person(\"Alice\", 30)\n",
    "p.greet()"
   ]
  },
  {
   "cell_type": "code",
   "execution_count": 24,
   "metadata": {
    "colab": {
     "base_uri": "https://localhost:8080/"
    },
    "id": "HomxFc6ZDXfg",
    "outputId": "60175f54-d9ba-468e-ec3e-1111eea37943"
   },
   "outputs": [
    {
     "name": "stdout",
     "output_type": "stream",
     "text": [
      "John's average grade: 86.25\n"
     ]
    }
   ],
   "source": [
    "#12 =  Implement a class Student with attributes name and grades. Create a method average_grade() to compute the average of the grades.?\n",
    "class Student:\n",
    "    def __init__(self, name, grades):\n",
    "        self.name = name\n",
    "        self.grades = grades  # List of numeric grades\n",
    "\n",
    "    def average_grade(self):\n",
    "        if not self.grades:\n",
    "            return 0\n",
    "        return sum(self.grades) / len(self.grades)\n",
    "\n",
    "# Creating a Student object\n",
    "s = Student(\"John\", [85, 90, 78, 92])\n",
    "\n",
    "# Calculating and printing average grade\n",
    "average = s.average_grade()\n",
    "print(f\"{s.name}'s average grade: {average}\")"
   ]
  },
  {
   "cell_type": "code",
   "execution_count": 25,
   "metadata": {
    "colab": {
     "base_uri": "https://localhost:8080/"
    },
    "id": "YD7CqMqwEQWA",
    "outputId": "56e490ca-6faa-42fd-afda-4cfee9131252"
   },
   "outputs": [
    {
     "name": "stdout",
     "output_type": "stream",
     "text": [
      "Area of rectangle: 20\n"
     ]
    }
   ],
   "source": [
    "# 13 =  Create a class Rectangle with methods set_dimensions() to set the dimensions and area() to calculate the area.?\n",
    "class Rectangle:\n",
    "    def __init__(self):\n",
    "        self.length = 0\n",
    "        self.width = 0\n",
    "\n",
    "    def set_dimensions(self, length, width):\n",
    "        self.length = length\n",
    "        self.width = width\n",
    "\n",
    "    def area(self):\n",
    "        return self.length * self.width\n",
    "\n",
    "# Creating a Rectangle object\n",
    "rect = Rectangle()\n",
    "rect.set_dimensions(5, 4)\n",
    "\n",
    "# Calculating and printing the area\n",
    "print(\"Area of rectangle:\", rect.area())\n"
   ]
  },
  {
   "cell_type": "code",
   "execution_count": 26,
   "metadata": {
    "colab": {
     "base_uri": "https://localhost:8080/"
    },
    "id": "eOh3nOGPEqxg",
    "outputId": "44e6b4f0-4fca-4b14-f859-dcfdf0fe37ff"
   },
   "outputs": [
    {
     "name": "stdout",
     "output_type": "stream",
     "text": [
      "John's Salary: $800\n",
      "Alice's Salary: $1700\n"
     ]
    }
   ],
   "source": [
    "# 14 = Create a class Employee with a method calculate_salary() that computes the salary based on hours worked and hourly rate. Create a derived class Manager that adds a bonus to the salary.?\n",
    "class Employee:\n",
    "    def __init__(self, name, hours_worked, hourly_rate):\n",
    "        self.name = name\n",
    "        self.hours_worked = hours_worked\n",
    "        self.hourly_rate = hourly_rate\n",
    "\n",
    "    def calculate_salary(self):\n",
    "        return self.hours_worked * self.hourly_rate\n",
    "\n",
    "# Derived class\n",
    "class Manager(Employee):\n",
    "    def __init__(self, name, hours_worked, hourly_rate, bonus):\n",
    "        super().__init__(name, hours_worked, hourly_rate)\n",
    "        self.bonus = bonus\n",
    "\n",
    "    def calculate_salary(self):\n",
    "        base_salary = super().calculate_salary()\n",
    "        return base_salary + self.bonus\n",
    "\n",
    "# Creating objects and testing\n",
    "emp = Employee(\"John\", 40, 20)\n",
    "mgr = Manager(\"Alice\", 40, 30, 500)\n",
    "\n",
    "print(f\"{emp.name}'s Salary: ${emp.calculate_salary()}\")\n",
    "print(f\"{mgr.name}'s Salary: ${mgr.calculate_salary()}\")"
   ]
  },
  {
   "cell_type": "code",
   "execution_count": 27,
   "metadata": {
    "colab": {
     "base_uri": "https://localhost:8080/"
    },
    "id": "SbXxRyJDE8Cf",
    "outputId": "4dc1b717-63e7-40d0-f835-e0c29a1c6f52"
   },
   "outputs": [
    {
     "name": "stdout",
     "output_type": "stream",
     "text": [
      "Total price of Laptop: $3000\n"
     ]
    }
   ],
   "source": [
    "# 15. Create a class Product with attributes name, price, and quantity. Implement a method total_price() that calculates the total price of the product?\n",
    "class Product:\n",
    "    def __init__(self, name, price, quantity):\n",
    "        self.name = name\n",
    "        self.price = price\n",
    "        self.quantity = quantity\n",
    "\n",
    "    def total_price(self):\n",
    "        return self.price * self.quantity\n",
    "\n",
    "# Creating a Product object\n",
    "product = Product(\"Laptop\", 1000, 3)\n",
    "\n",
    "# Calculating and printing total price\n",
    "print(f\"Total price of {product.name}: ${product.total_price()}\")"
   ]
  },
  {
   "cell_type": "code",
   "execution_count": 28,
   "metadata": {
    "colab": {
     "base_uri": "https://localhost:8080/"
    },
    "id": "MD5jIIGqFIRH",
    "outputId": "de0940b8-2e79-4a19-baf9-3ed56a44bfdc"
   },
   "outputs": [
    {
     "name": "stdout",
     "output_type": "stream",
     "text": [
      "Moo\n",
      "Baa\n"
     ]
    }
   ],
   "source": [
    "#16 =  Create a class Animal with an abstract method sound(). Create two derived classes Cow and Sheep that implement the sound() method.?\n",
    "from abc import ABC, abstractmethod\n",
    "\n",
    "class Animal(ABC):\n",
    "    @abstractmethod\n",
    "    def sound(self):\n",
    "        pass\n",
    "\n",
    "class Cow(Animal):\n",
    "    def sound(self):\n",
    "        print(\"Moo\")\n",
    "\n",
    "class Sheep(Animal):\n",
    "    def sound(self):\n",
    "        print(\"Baa\")\n",
    "\n",
    "# Testing\n",
    "cow = Cow()\n",
    "sheep = Sheep()\n",
    "\n",
    "cow.sound()\n",
    "sheep.sound()\n"
   ]
  },
  {
   "cell_type": "code",
   "execution_count": 29,
   "metadata": {
    "colab": {
     "base_uri": "https://localhost:8080/"
    },
    "id": "B59ORhBdFV7_",
    "outputId": "9cb1ab38-aa51-4bd1-921e-f7a163795aa2"
   },
   "outputs": [
    {
     "name": "stdout",
     "output_type": "stream",
     "text": [
      "'1984' by George Orwell, published in 1949\n"
     ]
    }
   ],
   "source": [
    "#17= Create a class Book with attributes title, author, and year_published. Add a method get_book_info() that returns a formatted string with the book's details.?\n",
    "class Book:\n",
    "    def __init__(self, title, author, year_published):\n",
    "        self.title = title\n",
    "        self.author = author\n",
    "        self.year_published = year_published\n",
    "\n",
    "    def get_book_info(self):\n",
    "        return f\"'{self.title}' by {self.author}, published in {self.year_published}\"\n",
    "\n",
    "# Creating a Book object\n",
    "book = Book(\"1984\", \"George Orwell\", 1949)\n",
    "\n",
    "# Getting book info\n",
    "print(book.get_book_info())"
   ]
  },
  {
   "cell_type": "code",
   "execution_count": 30,
   "metadata": {
    "colab": {
     "base_uri": "https://localhost:8080/"
    },
    "id": "M1s_TcowFg43",
    "outputId": "caa7cfd0-24ff-4e08-d05d-7dfc42cabb12"
   },
   "outputs": [
    {
     "name": "stdout",
     "output_type": "stream",
     "text": [
      "Address: 123 Luxury St\n",
      "Price: $5000000\n",
      "Number of rooms: 10\n"
     ]
    }
   ],
   "source": [
    "#18 =  Create a class House with attributes address and price. Create a derived class Mansion that adds an attribute number_of_rooms.?\n",
    "class House:\n",
    "    def __init__(self, address, price):\n",
    "        self.address = address\n",
    "        self.price = price\n",
    "\n",
    "class Mansion(House):\n",
    "    def __init__(self, address, price, number_of_rooms):\n",
    "        super().__init__(address, price)\n",
    "        self.number_of_rooms = number_of_rooms\n",
    "\n",
    "    def display_info(self):\n",
    "        print(f\"Address: {self.address}\")\n",
    "        print(f\"Price: ${self.price}\")\n",
    "        print(f\"Number of rooms: {self.number_of_rooms}\")\n",
    "\n",
    "# Testing\n",
    "mansion = Mansion(\"123 Luxury St\", 5000000, 10)\n",
    "mansion.display_info()"
   ]
  },
  {
   "cell_type": "code",
   "execution_count": null,
   "metadata": {
    "id": "P_JKlSRQFqk_"
   },
   "outputs": [],
   "source": []
  }
 ],
 "metadata": {
  "colab": {
   "provenance": []
  },
  "kernelspec": {
   "display_name": "Python [conda env:base] *",
   "language": "python",
   "name": "conda-base-py"
  },
  "language_info": {
   "codemirror_mode": {
    "name": "ipython",
    "version": 3
   },
   "file_extension": ".py",
   "mimetype": "text/x-python",
   "name": "python",
   "nbconvert_exporter": "python",
   "pygments_lexer": "ipython3",
   "version": "3.12.7"
  }
 },
 "nbformat": 4,
 "nbformat_minor": 4
}
