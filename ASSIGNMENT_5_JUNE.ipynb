{
  "nbformat": 4,
  "nbformat_minor": 0,
  "metadata": {
    "colab": {
      "provenance": []
    },
    "kernelspec": {
      "name": "python3",
      "display_name": "Python 3"
    },
    "language_info": {
      "name": "python"
    }
  },
  "cells": [
    {
      "cell_type": "markdown",
      "source": [
        "THEORY QUESTIONS"
      ],
      "metadata": {
        "id": "OfiwqxBAt1ZX"
      }
    },
    {
      "cell_type": "markdown",
      "source": [
        "#1 = What is the difference between interpreted and compiled languages ?\n",
        "\n",
        "Ans = The difference between interpreted and compiled languages lies in how their code is translated into machine-readable instructions.\n",
        "\n",
        "Compiled Languages:-\n",
        "\n",
        "Definition: In compiled languages, the source code is translated entirely into machine code by a compiler before it is executed.\n",
        "\n",
        "Process:\n",
        "\n",
        "The compiler reads the whole program.\n",
        "\n",
        "It converts the code into an executable file.\n",
        "\n",
        "The program is then run as a separate step.\n",
        "\n",
        "Execution Speed: Typically faster, since the code is already compiled.\n",
        "\n",
        "Examples: C, C++, Rust, Go.\n",
        "\n",
        "Advantages:\n",
        "\n",
        "High performance.\n",
        "\n",
        "Errors are caught during the compilation stage.\n",
        "\n",
        "Disadvantages:\n",
        "\n",
        "Compilation takes time.\n",
        "\n",
        "Platform-dependent (compiled for specific OS/hardware).\n",
        "\n",
        "Interpreted Languages:-\n",
        "\n",
        "Definition: In interpreted languages, the source code is executed line-by-line by an interpreter at runtime.\n",
        "\n",
        "Process:\n",
        "\n",
        "No separate compilation step.\n",
        "\n",
        "The interpreter reads and executes the code directly.\n",
        "\n",
        "Execution Speed: Typically slower, because code is analyzed and executed on the fly.\n",
        "\n",
        "Examples: Python, JavaScript, Ruby, PHP.\n",
        "\n",
        "Advantages:\n",
        "\n",
        "Easier to test and debug.\n",
        "\n",
        "Platform-independent (as long as an interpreter is available).\n",
        "\n",
        "Disadvantages:\n",
        "\n",
        "Slower execution.\n",
        "\n",
        "Runtime errors may occur during execution.\n",
        "\n"
      ],
      "metadata": {
        "id": "UhK8u1kot5hP"
      }
    },
    {
      "cell_type": "markdown",
      "source": [
        "#2 = What is exception handling in Python ?\n",
        "\n",
        "Ans = Exception handling in Python is a mechanism to manage errors or unexpected events that occur during the execution of a program. It allows a program to continue running or exit gracefully rather than crashing abruptly.\n",
        "\n",
        "Exception handling is the process of responding to the occurrence of exceptions—runtime errors—by using try-except blocks in Python.\n",
        "\n",
        "Exception Handling Needed: -\n",
        "\n",
        "To prevent the program from terminating unexpectedly.\n",
        "\n",
        "To catch and respond to errors (e.g., file not found, division by zero).\n",
        "\n",
        "To write robust and fault-tolerant code.\n",
        "\n"
      ],
      "metadata": {
        "id": "o5UCzAOHwY9W"
      }
    },
    {
      "cell_type": "markdown",
      "source": [
        "# 3 = What is the purpose of the finally block in exception handling ?\n",
        "\n",
        "Ans = The finally block in Python is used to define code that should always be executed, regardless of whether an exception was raised or not in the try block.\n",
        "\n",
        "Purpose of the finally Block\n",
        "\n",
        "1. Guarantees Cleanup:Used to perform clean-up actions such as closing files, releasing resources, or disconnecting from a database—even if an error occurs.\n",
        "\n",
        "2. Always Executes:\n",
        "\n",
        "The code inside the finally block executes no matter what:\n",
        "\n",
        "If an exception occurs\n",
        "\n",
        "If no exception occurs\n",
        "\n",
        "Even if there is a return statement in the try or except block\n",
        "\n",
        "The finally block ensures that essential final steps are executed, making your code more reliable and predictable, especially in resource-sensitive applications.\n",
        "\n"
      ],
      "metadata": {
        "id": "4Ju4HojDy9nN"
      }
    },
    {
      "cell_type": "markdown",
      "source": [
        "#4 = What is logging in Python ?\n",
        "\n",
        "Ans = Logging in Python is the process of recording events, messages, or errors that happen during the execution of a program. It is a built-in mechanism that helps developers track and debug software behavior without using print statements.\n",
        "\n",
        "Logging is a way to report status, error messages, warnings, or debugging information using Python’s built-in logging module.\n",
        "\n",
        "Advantages of Logging\n",
        "\n",
        "Centralized way to record program behavior\n",
        "\n",
        "Helps in post-error diagnosis and audit trails\n",
        "\n",
        "Allows different log formats and destinations\n",
        "\n",
        "Can be configured without changing code\n",
        "\n",
        "Logging is a professional and standardized way to track events in your Python application.\n",
        "It replaces or supplements print() for better debugging, monitoring, and error handling.\n",
        "\n"
      ],
      "metadata": {
        "id": "OYWwn6HQziw9"
      }
    },
    {
      "cell_type": "markdown",
      "source": [
        "# 5 = What is the significance of the __del__ method in Python ?\n",
        "\n",
        "Ans = The __del__ method in Python is known as a destructor. It is a special method that is automatically called when an object is about to be destroyed, i.e., when it is garbage collected.The __del__ method is used to define cleanup actions that should be taken when an object is no longer needed and is about to be deleted.\n",
        "\n",
        "When is __del__ Called?\n",
        "\n",
        "Automatically by Python's garbage collector when there are no more references to the object.\n",
        "\n",
        "Can also be triggered manually using del if it removes the last reference to the object.\n",
        "\n",
        "Typical Use Cases:-\n",
        "\n",
        "Releasing external resources:\n",
        "\n",
        "Closing open files\n",
        "\n",
        "Closing network connections\n",
        "\n",
        "Releasing memory or handles\n",
        "\n",
        "Logging object deletion for debugging\n",
        "\n",
        "The timing of __del__ execution is not guaranteed.It may not be called immediately after del, especially if there are circular references.\n",
        "If an exception occurs inside __del__, it is ignored silently.\n",
        "It's better to use context managers (with statement) for resource management, which is more reliable.\n",
        "\n"
      ],
      "metadata": {
        "id": "GCZp25PCz_kU"
      }
    },
    {
      "cell_type": "markdown",
      "source": [
        "# 6 = What is the difference between import and from ... import in Python ?\n",
        "\n",
        "Ans = In Python, both import and from ... import statements are used to bring external code (modules, functions, classes, or variables) into the current program. However, they differ in how the imported content is accessed and how it affects the namespace.\n",
        "\n",
        "1. import Statement:-\n",
        "\n",
        "The import statement imports the entire module into the current namespace.\n",
        "\n",
        "All functions, classes, or variables from that module must be accessed using the module name as a prefix.\n",
        "\n",
        "It keeps the namespace clean and avoids conflicts with existing names.\n",
        "\n",
        "2. from ... import Statement:-\n",
        "\n",
        "The from ... import statement imports specific components from a module directly into the current namespace.\n",
        "\n",
        "The imported components can be used without the module name prefix.\n",
        "\n",
        "It may lead to namespace conflicts if multiple modules have functions or variables with the same name.\n",
        "\n",
        "Use **import** when you want to maintain clarity and avoid name conflicts.\n",
        "Use **from ... import** when you need only specific items and prefer cleaner syntax.The choice depends on the context, readability, and maintainability of your code.\n"
      ],
      "metadata": {
        "id": "suht6IcE0o5c"
      }
    },
    {
      "cell_type": "markdown",
      "source": [
        "# 7 = How can you handle multiple exceptions in Python ?\n",
        "\n",
        "Ans = n Python, handling multiple exceptions means writing code that can respond appropriately to different types of errors that may occur during execution. This improves program robustness by allowing specific responses to various error conditions.\n",
        "\n",
        "Methods to Handle Multiple Exceptions:-\n",
        "\n",
        "1. Multiple Except Blocks:-\n",
        "\n",
        "Write separate except clauses for each exception type you want to handle.\n",
        "\n",
        "This allows custom handling for each specific exception.\n",
        "\n",
        "2. Single Except Block Handling Multiple Exceptions:-\n",
        "\n",
        "Use a tuple of exception types in a single except block.\n",
        "\n",
        "The block will handle any of the listed exceptions in the same way.\n",
        "\n",
        "3. Generic Exception Catching\n",
        "\n",
        "Use a broad exception, such as Exception, to catch all exceptions.\n",
        "\n",
        "This is less precise and generally not recommended unless as a last-resort catch-all."
      ],
      "metadata": {
        "id": "UVKNDaOo1je0"
      }
    },
    {
      "cell_type": "markdown",
      "source": [
        "# 8 = What is the purpose of the with statement when handling files in Python ?\n",
        "\n",
        "Ans = The with statement in Python is used to simplify resource management, particularly for handling files. It ensures that resources are properly acquired and released, even if errors occur during processing.\n",
        "\n",
        "The with statement provides a context management mechanism.It is used with objects that support the context management protocol, i.e., implement the special methods __enter__() and __exit__(). When used with file operations, it automatically manages opening and closing the file.\n",
        "\n",
        "Purpose When Handling Files:-\n",
        "\n",
        "1. Automatic Resource Management: Ensures the file is opened at the start and closed automatically at the end of the block.\n",
        "\n",
        "2. Exception Safety: Guarantees the file is closed even if an exception is raised during file operations.\n",
        "\n",
        "3. Cleaner and More Readable Code: Eliminates the need to explicitly call file.close(). Avoids boilerplate code and reduces risk of resource leaks.\n",
        "\n",
        "The with statement ensures safe, efficient, and clean file handling by managing resource acquisition and release automatically.It helps avoid resource leaks, improves code readability, and handles exceptions gracefully during file operations.\n"
      ],
      "metadata": {
        "id": "BcfnEO2E2UB8"
      }
    },
    {
      "cell_type": "markdown",
      "source": [
        "# 9 =  What is the difference between multithreading and multiprocessing ?\n",
        "\n",
        "Ans = Both multithreading and multiprocessing are techniques used to achieve concurrent execution in programs, allowing multiple tasks to run seemingly at the same time. However, they differ fundamentally in their approach and execution model.\n",
        "\n",
        "1. Multithreading:-\n",
        "\n",
        "Definition: Multithreading involves running multiple threads within a single process.\n",
        "\n",
        "A thread is the smallest unit of execution within a process.\n",
        "\n",
        "Threads share the same memory space and resources of their parent process.\n",
        "\n",
        "Threads execute concurrently, but because of shared memory, synchronization is required to avoid conflicts.\n",
        "\n",
        "Python’s Global Interpreter Lock (GIL) allows only one thread to execute Python bytecode at a time, which limits true parallelism in CPU-bound tasks but is effective for I/O-bound tasks.\n",
        "\n",
        "Key Points:\n",
        "\n",
        "Lightweight compared to processes.\n",
        "\n",
        "Shared memory allows fast communication between threads.\n",
        "\n",
        "Suitable for I/O-bound tasks (e.g., file operations, network calls).\n",
        "\n",
        "Subject to race conditions and requires careful synchronization (locks, semaphores).\n",
        "\n",
        "\n",
        "\n",
        "2. Multiprocessing\n",
        "\n",
        "Definition: Multiprocessing involves running multiple processes independently.\n",
        "\n",
        "Each process has its own memory space and resources.\n",
        "\n",
        "Processes run truly in parallel on multiple CPU cores, without sharing memory.\n",
        "\n",
        "Because processes do not share memory, communication is done via inter-process communication (IPC) methods (pipes, queues, shared memory).\n",
        "\n",
        "Key Points:\n",
        "\n",
        "Heavier system resource usage compared to threads.\n",
        "\n",
        "True parallelism for CPU-bound tasks (utilizes multiple cores).\n",
        "\n",
        "Safer from memory conflicts due to separate memory spaces.\n",
        "\n",
        "More overhead in communication between processes.\n",
        "\n"
      ],
      "metadata": {
        "id": "I-aLRw_g28Ys"
      }
    },
    {
      "cell_type": "markdown",
      "source": [
        "# 10 = What are the advantages of using logging in a program ?\n",
        "\n",
        "Ans = Logging is a fundamental practice in software development that involves recording events, errors, and informational messages generated by a program. Using logging provides several theoretical advantages:\n",
        "\n",
        "\n",
        "1. Improved Debugging\n",
        "Logs provide detailed insights into program execution and state.\n",
        "\n",
        "They help trace the sequence of events leading up to an error.\n",
        "\n",
        "Logs can capture error messages and stack traces, facilitating root cause analysis.\n",
        "\n",
        " 2. Monitoring and Maintenance\n",
        "Logs allow continuous monitoring of application behavior in real-time or post-execution.\n",
        "\n",
        "They help identify unusual activity, failures, or performance bottlenecks.\n",
        "\n",
        "Logs support proactive maintenance and alerting systems.\n",
        "\n",
        " 3. Audit Trail and Accountability\n",
        "Logs create a historical record of important events, transactions, or user actions.\n",
        "\n",
        "They are essential for compliance, security audits, and forensic investigations.\n",
        "\n",
        "Ensure accountability by tracking who did what and when.\n",
        "\n",
        " 4. Flexibility and Control\n",
        "Logging frameworks allow categorizing messages by severity levels (e.g., DEBUG, INFO, WARNING, ERROR, CRITICAL).\n",
        "\n",
        "Logs can be directed to multiple outputs: console, files, remote servers, databases.\n",
        "\n",
        "Enables filtering and selective analysis of log data.\n",
        "\n",
        " 5. Non-Intrusive Diagnostics\n",
        "Logging provides diagnostic information without modifying program flow.\n",
        "\n",
        "Unlike print statements, logs can be enabled or disabled dynamically without changing code.\n",
        "\n",
        " 6. Facilitation of Automated Tools\n",
        "Logs enable integration with monitoring tools, log analyzers, and alert systems.\n",
        "\n",
        "Support automation in detecting and responding to issues.\n",
        "\n",
        " 7. Support for Distributed Systems\n",
        "Logs help track activities across multiple components or servers in distributed architectures.\n",
        "\n",
        "Facilitate correlation of events and debugging complex interactions."
      ],
      "metadata": {
        "id": "h7aw_EMx3gwL"
      }
    },
    {
      "cell_type": "markdown",
      "source": [
        "# 11 = What is memory management in Python ?\n",
        "\n",
        "ANS = Memory management in Python refers to the process of handling and allocating memory to various objects and data structures during the execution of a Python program. It ensures that memory is used efficiently, and unnecessary memory usage is minimized.\n",
        "\n",
        "Memory management in Python is a combination of automatic memory allocation, reference counting, and garbage collection, all working together to ensure that memory is used efficiently and safely, with minimal programmer intervention.\n"
      ],
      "metadata": {
        "id": "0hp_-10qZ1Fz"
      }
    },
    {
      "cell_type": "markdown",
      "source": [
        "# 12 = What are the basic steps involved in exception handling in Python ?\n",
        "\n",
        "Ans = Exception handling in Python is a mechanism that allows a program to respond to runtime errors or unexpected events in a controlled and predictable manner, instead of crashing.\n",
        "\n",
        "Basic Steps of Exception Handling in Python:-\n",
        "\n",
        "1. Detecting an Exception (Try Block)\n",
        "\n",
        "The code that might raise an exception is placed inside a try block.\n",
        "\n",
        "Python will monitor this block for any errors during execution.\n",
        "\n",
        "If an error occurs, the rest of the try block is skipped, and the control passes to the except block.\n",
        "\n",
        "2. Handling the Exception (Except Block)\n",
        "\n",
        "The except block contains the code to handle the exception.\n",
        "\n",
        "It executes only if an exception occurs in the try block.\n",
        "\n",
        "You can catch specific types of exceptions or use a generic handler.\n",
        "\n",
        "3. Optional: Catching Multiple Exceptions\n",
        "\n",
        "You can handle multiple exceptions by using multiple except blocks or grouping them in a tuple.\n",
        "\n",
        "4. Optional: Executing Cleanup Code (Finally Block)\n",
        "\n",
        "The finally block is always executed, whether an exception occurs or not.\n",
        "\n",
        "It is used for cleanup actions, such as closing files or releasing resources.\n",
        "\n",
        "5. Optional: Raising Exceptions Manually\n",
        "\n",
        "The raise statement allows you to throw exceptions intentionally.\n",
        "\n",
        "Useful for enforcing rules or validating data."
      ],
      "metadata": {
        "id": "4eKBJTcLbgnz"
      }
    },
    {
      "cell_type": "markdown",
      "source": [
        "# 13 = Why is memory management important in Python ?\n",
        "\n",
        "Ans = Memory management is critically important in Python because it ensures the efficient use of memory resources while a program is running. Python, like all programming languages, needs to manage memory to store variables, data structures, and objects during program execution.\n",
        "\n",
        "Reasons Why Memory Management Is Important in Python:-\n",
        "\n",
        "1. Efficient Resource Utilization\n",
        "\n",
        "Proper memory management helps ensure that memory is used efficiently, avoiding unnecessary memory usage.\n",
        "\n",
        "It prevents the system from running out of memory when handling large data or performing complex operations.\n",
        "\n",
        "2. Automatic Allocation and Deallocation\n",
        "\n",
        "Python uses automatic memory management, which relieves the programmer from manually allocating and freeing memory.\n",
        "\n",
        "This helps reduce coding errors related to memory, such as memory leaks or dangling pointers.\n",
        "\n",
        "3. Improved Program Performance\n",
        "\n",
        "Good memory management enhances the performance and speed of Python programs.\n",
        "\n",
        "Efficient memory usage leads to faster execution and less strain on system resources.\n",
        "\n",
        "4. Garbage Collection\n",
        "\n",
        "Python includes a built-in garbage collector that automatically removes unused objects from memory.\n",
        "\n",
        "This keeps the memory clean and ensures that unreferenced objects do not waste space.\n",
        "\n",
        "5. Safe and Reliable Execution\n",
        "\n",
        "By managing memory safely, Python prevents issues such as program crashes and unexpected behavior caused by memory corruption or excessive memory usage.\n",
        "\n",
        "6. Dynamic Typing Support\n",
        "\n",
        "Python supports dynamic typing, meaning that variables can change type at runtime.\n",
        "\n",
        "Efficient memory management ensures that these type changes are handled safely and smoothly, allocating and deallocating memory as needed.\n",
        "\n"
      ],
      "metadata": {
        "id": "a1uyIBjCcg2T"
      }
    },
    {
      "cell_type": "markdown",
      "source": [
        "# 14 = What is the role of try and except in exception handling ?\n",
        "\n",
        "Ans = In Python, exception handling is a mechanism that allows a program to detect and respond to errors or exceptional conditions that occur during runtime. The try and except blocks are the core components of this mechanism.\n",
        "\n",
        "1. Role of try Block:-\n",
        "\n",
        "The try block is used to enclose code that might raise an exception.\n",
        "\n",
        "Python monitors the statements within the try block.\n",
        "\n",
        "If an exception occurs, Python immediately stops executing the rest of the code inside the try block and looks for a corresponding except block.\n",
        "\n",
        "If no exception occurs, the try block runs normally and the except block is skipped.\n",
        "\n",
        "2. Role of except Block\n",
        "\n",
        "The except block contains the code that responds to the exception.\n",
        "\n",
        "It only executes if an exception occurred in the try block.\n",
        "\n",
        "It can catch specific types of exceptions or be used to catch all exceptions using a generic form.\n"
      ],
      "metadata": {
        "id": "bHv6nxggd--K"
      }
    },
    {
      "cell_type": "markdown",
      "source": [
        "# 15 = How does Python's garbage collection system work ?\n",
        "\n",
        "Ans = Python’s garbage collection system is a built-in feature designed to automatically manage memory by identifying and freeing memory occupied by objects that are no longer needed. This helps prevent memory leaks and ensures efficient memory usage during program execution.\n",
        "\n",
        "Key Concepts in Python’s Garbage Collection System:-\n",
        "\n",
        "1. Automatic Memory Management\n",
        "\n",
        "Python uses automatic garbage collection, meaning programmers do not need to manually free memory.\n",
        "\n",
        "The system automatically detects when an object is no longer in use and deallocates it.\n",
        "\n",
        "2. Reference Counting\n",
        "\n",
        "Every object in Python has a reference count, which tracks the number of references (variables or containers) pointing to it.\n",
        "\n",
        "When the reference count drops to zero, it means no part of the program is using the object, so it becomes eligible for garbage collection.\n",
        "\n",
        "3. Handling Circular References\n",
        "\n",
        "Sometimes objects reference each other, creating a cycle (e.g., object A refers to B and B refers to A).\n",
        "\n",
        "Simple reference counting cannot handle this, so Python uses a cyclic garbage collector to detect and break these reference cycles.\n",
        "\n",
        "4. Generational Garbage Collection\n",
        "\n",
        "Python’s garbage collector organizes objects into three generations:\n",
        "\n",
        "Generation 0: Newly created objects.\n",
        "\n",
        "Generation 1: Objects that survived one garbage collection cycle.\n",
        "\n",
        "Generation 2: Long-lived objects.\n",
        "\n",
        "Objects are promoted from one generation to the next if they survive multiple garbage collection cycles.\n",
        "\n",
        "Garbage collection occurs more frequently in Generation 0, and less frequently in Generations 1 and 2 to improve efficiency.\n",
        "\n",
        "5. Manual Control with gc Module\n",
        "\n",
        "Python provides a built-in gc module that allows manual interaction with the garbage collector.\n",
        "\n",
        "Functions include:\n",
        "\n",
        "gc.collect() – Manually triggers garbage collection.\n",
        "\n",
        "gc.get_count() – Returns the current count of objects in each generation."
      ],
      "metadata": {
        "id": "59rHisvlevby"
      }
    },
    {
      "cell_type": "markdown",
      "source": [
        "# 16 = What is the purpose of the else block in exception handling ?\n",
        "\n",
        "Ans= n Python’s exception handling structure, the else block is an optional part that can be used along with the try and except blocks. It is used to define a section of code that should run only if no exceptions were raised in the try block.\n",
        "\n",
        "Purpose of the else Block\n",
        "\n",
        "The main purpose of the else block is to:\n",
        "\n",
        "Separate normal code from error-handling code.\n",
        "\n",
        "Execute code that should run only when the try block is successful, meaning no exceptions occurred.\n",
        "\n",
        "Improve code readability and logical flow by distinguishing between actions that are error-prone and those that should proceed only after successful execution."
      ],
      "metadata": {
        "id": "ukqYIeo-gKBB"
      }
    },
    {
      "cell_type": "markdown",
      "source": [
        "# 17 = What are the common logging levels in Python ?\n",
        "\n",
        "Ans = In Python, logging is a standard module used to record messages that describe events happening during the execution of a program. These messages can help developers debug, monitor, and track application behavior.\n",
        "\n",
        "Python’s logging system uses different logging levels to indicate the severity or importance of an event. Each level has a specific use and helps in filtering messages according to their urgency.\n",
        "\n",
        "Common Logging Levels in Python:-\n",
        "\n",
        "1. DEBUG (Level 10)\n",
        "\n",
        "Purpose: Used for detailed diagnostic information.\n",
        "\n",
        "When to Use: During development and debugging; not typically shown in production.\n",
        "\n",
        "Example: Logging variable values, flow of execution.\n",
        "\n",
        "2. INFO (Level 20)\n",
        "\n",
        "Purpose: Confirms that things are working as expected.\n",
        "\n",
        "When to Use: To log general information such as successful operations or milestones.\n",
        "\n",
        "Example: \"User logged in successfully.\"\n",
        "\n",
        "3. WARNING (Level 30)\n",
        "\n",
        "Purpose: Indicates a potential problem or unexpected situation.\n",
        "\n",
        "When to Use: When something might cause an issue but the program can still run.\n",
        "\n",
        "Example: \"Disk space is low.\"\n",
        "\n",
        "4. ERROR (Level 40)\n",
        "\n",
        "Purpose: Reports a serious problem that has occurred.\n",
        "\n",
        "When to Use: When an error occurs that should be addressed, but the program can continue running.\n",
        "\n",
        "Example: \"Failed to save file due to permission error.\"\n",
        "\n",
        "5. CRITICAL (Level 50)\n",
        "\n",
        "Purpose: Indicates a severe error that may cause the program to stop.\n",
        "\n",
        "When to Use: For system failures or very serious problems.\n",
        "\n",
        "Example: \"Application crash – shutting down.\""
      ],
      "metadata": {
        "id": "ULFMY-RfgXrp"
      }
    },
    {
      "cell_type": "markdown",
      "source": [
        "# 18 = What is the difference between os.fork() and multiprocessing in Python ?\n",
        "\n",
        "Ans = In Python, both os.fork() and the multiprocessing module are used to create new processes, but they differ in terms of abstraction, portability, and ease of use.\n",
        "\n",
        "1. os.fork() – Low-Level Process Creation\n",
        "\n",
        "Definition: os.fork() is a low-level system call available on Unix/Linux systems that is used to create a child process.\n",
        "\n",
        "Functionality: When os.fork() is called, it duplicates the current process.\n",
        "\n",
        "The parent receives the child's process ID (PID).\n",
        "\n",
        "The child receives 0.\n",
        "\n",
        "Key Characteristics:\n",
        "\n",
        "Platform-Dependent: Works only on Unix-like systems (not available on Windows).\n",
        "\n",
        "Manual Control: The programmer must manually manage communication, synchronization, and process termination.\n",
        "\n",
        "Low-Level: Suitable for system-level programming where fine control is needed.\n",
        "\n",
        "2. multiprocessing – High-Level Process Creation\n",
        "\n",
        "Definition: The multiprocessing module is a cross-platform, high-level API that allows for the creation and management of independent Python processes.\n",
        "\n",
        "Functionality: It uses the operating system’s capabilities (including fork() internally on Unix) to spawn separate processes, each with its own Python interpreter.\n",
        "\n",
        "Key Characteristics:\n",
        "\n",
        "Platform-Independent: Works on both Unix and Windows.\n",
        "\n",
        "Easy to Use: Provides built-in support for process creation, synchronization (Locks, Events), communication (Queues, Pipes), and shared memory.\n",
        "\n",
        "Safer and More Reliable: Handles many complexities internally, making it safer for application-level development."
      ],
      "metadata": {
        "id": "uEId4izEg3Ax"
      }
    },
    {
      "cell_type": "markdown",
      "source": [
        "# 19  = What is the importance of closing a file in Python ?\n",
        "\n",
        "Ans = In Python, when a file is opened for reading or writing, the system allocates resources (such as memory and file descriptors) to handle the file. Closing a file using the close() method is an important step that ensures these resources are properly released and that data is saved correctly.\n",
        "\n",
        "\n",
        "Importance of Closing a File:-\n",
        "\n",
        "1. Releases System Resources\n",
        "Every opened file uses system resources (like memory and file handles).\n",
        "\n",
        "If too many files are left open, the program may exceed system limits, causing errors.\n",
        "\n",
        "Closing a file frees up these resources, making them available for other operations.\n",
        "\n",
        "2. Ensures Data Is Saved (Write Operations)\n",
        "When writing to a file, data is often held in a buffer before being written to disk.\n",
        "\n",
        "Closing the file ensures that the buffer is flushed, and all data is physically saved to the file.\n",
        "\n",
        "If not closed properly, data may be lost or corrupted.\n",
        "\n",
        "3. Prevents File Corruption\n",
        "Keeping a file open unnecessarily, especially in write mode, increases the risk of file corruption.\n",
        "\n",
        "Closing the file ensures that it is in a stable and usable state.\n",
        "\n",
        "4. Avoids Unexpected Behavior\n",
        "Open files can cause conflicts or errors in the program if accessed again without being closed first.\n",
        "\n",
        "Closing files after use helps maintain predictable and error-free behavior.\n",
        "\n",
        "5. Good Programming Practice\n",
        "Closing files is part of clean and responsible resource management.\n",
        "\n",
        "It reflects good coding habits and helps avoid memory leaks and runtime issues."
      ],
      "metadata": {
        "id": "3R3SCo_iiFTa"
      }
    },
    {
      "cell_type": "markdown",
      "source": [
        "# 20 = What is the difference between file.read() and file.readline() in Python ?\n",
        "\n",
        "Ans = Both file.read() and file.readline() are methods used to read data from a file in Python, but they behave differently in terms of how much data they read and how they operate.\n",
        "\n",
        "1. file.read()\n",
        "\n",
        "Purpose: Reads the entire content of the file (or a specified number of bytes) at once.\n",
        "\n",
        "Behavior:\n",
        "\n",
        "Without arguments, it reads all characters from the current file position till the end of the file.\n",
        "\n",
        "Can take an optional argument size to read a specific number of bytes.\n",
        "\n",
        "Use Case: When you want to load the whole file content into memory for processing.\n",
        "\n",
        "2. file.readline()\n",
        "\n",
        "Purpose: Reads one line from the file at a time.\n",
        "\n",
        "Behavior:\n",
        "\n",
        "Reads characters from the current position up to and including the next newline character (\\n).\n",
        "\n",
        "Each call to readline() returns the next line.\n",
        "\n",
        "Use Case: When you want to process a file line by line, especially useful for large files."
      ],
      "metadata": {
        "id": "AVR2mrgIic9o"
      }
    },
    {
      "cell_type": "markdown",
      "source": [
        "# 21 = What is the logging module in Python used for ?\n",
        "\n",
        "Ans = The logging module in Python is a built-in library that provides a flexible framework for recording messages from a program during its execution. These messages, called logs, help developers to monitor, debug, and track the behavior and performance of their applications.\n",
        "\n",
        "Purpose and Uses of the logging Module:-\n",
        "\n",
        "1. Debugging\n",
        "\n",
        "Helps programmers identify and diagnose problems by recording detailed information about the program’s execution.\n",
        "\n",
        "Logs can show errors, warnings, and other diagnostic data to find the source of bugs.\n",
        "\n",
        "2. Monitoring\n",
        "\n",
        "Logs provide a record of important events such as user actions, system events, or status messages.\n",
        "\n",
        "Useful for understanding the program’s flow and performance over time.\n",
        "\n",
        "3. Auditing and Security\n",
        "\n",
        "Keeps track of important operations or changes, which is helpful for security auditing and compliance.\n",
        "\n",
        "Logs can record unauthorized access attempts or critical failures.\n",
        "\n",
        "4. Error Handling\n",
        "\n",
        "Instead of printing error messages to the console, logs can be saved to files or other destinations.\n",
        "\n",
        "Allows programs to run silently while keeping a record of errors for later review.\n",
        "\n",
        "5. Configurable Message Levels\n",
        "\n",
        "Supports multiple logging levels (e.g., DEBUG, INFO, WARNING, ERROR, CRITICAL) to filter messages based on their importance.\n",
        "\n",
        "Enables developers to control the amount of detail recorded depending on the environment (development, testing, production).\n",
        "\n",
        "6. Flexible Output Options\n",
        "\n",
        "Logs can be output to different destinations, including the console, files, remote servers, or even emails.\n",
        "\n",
        "Supports formatting messages to include timestamps, source of the message, and more."
      ],
      "metadata": {
        "id": "XUeOlVcYiwjo"
      }
    },
    {
      "cell_type": "markdown",
      "source": [
        "#22 = What is the os module in Python used for in file handling ?\n",
        "\n",
        "Ans=  The os module in Python is a built-in standard library that provides functions for interacting with the operating system. In the context of file handling, the os module is used to perform various file and directory-related operations, such as creating, deleting, moving, or checking the existence of files and directories.\n",
        "\n",
        "Common Uses of the os Module in File Handling:-\n",
        "\n",
        "1. Checking File or Directory Existence\n",
        "os.path.exists(path) checks whether a file or directory exists at the given path.\n",
        "\n",
        "2. Creating Directories\n",
        "os.mkdir(path) creates a single new directory.\n",
        "\n",
        "os.makedirs(path) creates nested directories (multi-level).\n",
        "\n",
        "3. Deleting Files or Directories\n",
        "os.remove(path) deletes a file.\n",
        "\n",
        "os.rmdir(path) deletes an empty directory.\n",
        "\n",
        "os.removedirs(path) deletes nested empty directories.\n",
        "\n",
        "4. Renaming Files or Directories\n",
        "os.rename(src, dst) renames or moves a file or directory from the source to the destination.\n",
        "\n",
        "5. Listing Files and Directories\n",
        "os.listdir(path) returns a list of all files and folders in the given directory.\n",
        "\n",
        "6. Changing the Working Directory\n",
        "os.chdir(path) changes the current working directory of the script.\n",
        "\n",
        "7. Getting Current Working Directory\n",
        "os.getcwd() returns the current working directory as a string.\n",
        "\n",
        "8. Joining File Paths\n",
        "os.path.join(dir, filename) safely joins directory and file names into a valid path, avoiding manual concatenation."
      ],
      "metadata": {
        "id": "BpMmKI5PpPrX"
      }
    },
    {
      "cell_type": "markdown",
      "source": [
        "# 23 = What are the challenges associated with memory management in Python ?\n",
        "\n",
        "Ans = While Python provides automatic memory management, including garbage collection and dynamic memory allocation, there are still some challenges and limitations that developers may face. These challenges can affect performance, memory usage, and the reliability of large-scale or long-running applications.\n",
        "\n",
        "Key Challenges in Python Memory Management:-\n",
        "\n",
        "1. Memory Leaks\n",
        "Occur when memory that is no longer needed is not properly released.\n",
        "\n",
        "Even with garbage collection, memory leaks can happen if circular references exist or if objects are unintentionally kept in memory (e.g., through global variables or cached data).\n",
        "\n",
        "2. Circular References\n",
        "Python’s basic reference counting system cannot handle cyclic references (where two or more objects refer to each other).\n",
        "\n",
        "Though Python’s garbage collector can detect and handle them, it may not do so immediately, leading to temporary memory buildup.\n",
        "\n",
        "3. High Memory Usage with Large Data\n",
        "Python is a high-level language and uses objects for everything, which can be memory-intensive.\n",
        "\n",
        "Applications dealing with large datasets (e.g., in data science or machine learning) can face issues like high memory consumption and slow performance.\n",
        "\n",
        "4. Fragmentation of Memory\n",
        "Frequent allocation and deallocation of memory can lead to memory fragmentation, where small chunks of unused memory become scattered and are not usable for large allocations.\n",
        "\n",
        "This can reduce the efficiency of memory usage over time.\n",
        "\n",
        "5. Manual Control Is Limited\n",
        "Python hides most memory management from the user to simplify development.\n",
        "\n",
        "This limits fine-grained control over memory usage, which can be a disadvantage in performance-critical applications.\n",
        "\n",
        "6. Overhead of Abstraction\n",
        "Python objects carry additional metadata (such as reference counts and type information), which adds to memory overhead.\n",
        "\n",
        "Compared to low-level languages like C or C++, Python programs may require more memory for the same task.\n",
        "\n",
        "7. Delayed Garbage Collection\n",
        "The garbage collector in Python may not run immediately after an object becomes unreachable.\n",
        "\n",
        "This can result in temporary increases in memory usage, especially in long-running applications.\n",
        "\n"
      ],
      "metadata": {
        "id": "n9u3XBQvr9wN"
      }
    },
    {
      "cell_type": "markdown",
      "source": [
        "# 24 = How do you raise an exception manually in Python ?\n",
        "\n",
        "Ans = In Python, you can raise an exception manually using the raise statement. This is useful when you want to intentionally signal an error in your code, especially for custom error handling, input validation, or enforcing specific rules.\n",
        "\n",
        "Purpose of Raising Exceptions Manually\n",
        "\n",
        "To alert the program that an unexpected or invalid condition has occurred.\n",
        "\n",
        "To enforce rules (e.g., no negative numbers, required fields).\n",
        "\n",
        "To provide custom error messages and more meaningful feedback.\n",
        "\n",
        "To create custom exceptions tailored to the application's needs.\n",
        "\n",
        "Raising exceptions manually in Python using the raise statement is a powerful way to handle errors gracefully, validate input, and ensure the program follows defined rules. It makes your code more robust, readable, and maintainable.\n",
        "\n"
      ],
      "metadata": {
        "id": "Rd5dleXXspP1"
      }
    },
    {
      "cell_type": "markdown",
      "source": [
        "# 25 = Why is it important to use multithreading in certain applications?\n",
        "\n",
        "Ans = Multithreading is the ability of a program to run multiple threads (smaller units of a process) concurrently. In certain applications, especially those that involve simultaneous tasks, waiting for external resources, or high responsiveness, using multithreading becomes highly important.\n",
        "\n",
        "Importance of Multithreading in Applications:-\n",
        "\n",
        "1. Improves Responsiveness\n",
        "\n",
        "In applications like GUIs (Graphical User Interfaces), multithreading helps keep the interface responsive while performing background tasks (e.g., loading data or downloading files).\n",
        "\n",
        "2. Efficient Use of Waiting Time\n",
        "\n",
        "In programs that perform I/O operations (such as reading files or network communication), multithreading allows one thread to continue processing while another waits for I/O to complete.\n",
        "\n",
        "3. Handles Multiple Tasks Simultaneously\n",
        "\n",
        "Multithreading allows different parts of an application to run concurrently, improving efficiency in tasks like downloading multiple files, handling multiple users, or monitoring sensors.\n",
        "\n",
        "4. Better Resource Utilization\n",
        "\n",
        "On systems with multiple CPU cores, multithreading (especially in combination with multiprocessing) can help utilize more cores, reducing idle time and increasing overall performance.\n",
        "\n",
        "5. Reduces Execution Time\n",
        "\n",
        "For applications with multiple independent tasks, using threads can parallelize the workload, thereby shortening total processing time.\n",
        "\n",
        "6. Ideal for Real-Time Applications\n",
        "\n",
        "In real-time systems (like gaming, embedded systems, or financial trading), multithreading ensures that critical tasks run without delays, maintaining system performance and timing.\n",
        "\n",
        "7. Simplifies Complex Programs\n",
        "\n",
        "Breaking down a large task into smaller, manageable threads can make the program structure cleaner and easier to maintain."
      ],
      "metadata": {
        "id": "tceCe7OotDVE"
      }
    },
    {
      "cell_type": "markdown",
      "source": [
        "# PRACTICAL QUESTIONS"
      ],
      "metadata": {
        "id": "9ZQ-orKYtmdl"
      }
    },
    {
      "cell_type": "code",
      "source": [
        "#1 =# How can you open a file for writing in Python and write a string to it ?\n",
        "# Define the file path and the string to write\n",
        "file_path = 'example.txt'\n",
        "content = 'Hello, this is a test file.'\n",
        "\n",
        "# Open the file in write mode and write the string\n",
        "with open(file_path, 'w', encoding='utf-8') as file:\n",
        "    file.write(content)\n",
        "\n",
        "print(f\"Content written to {file_path}\")"
      ],
      "metadata": {
        "id": "AJu3KpfD27W8",
        "colab": {
          "base_uri": "https://localhost:8080/"
        },
        "outputId": "89a08958-7db8-4a0d-84aa-3d3ce8e8abae"
      },
      "execution_count": 44,
      "outputs": [
        {
          "output_type": "stream",
          "name": "stdout",
          "text": [
            "Content written to example.txt\n"
          ]
        }
      ]
    },
    {
      "cell_type": "code",
      "source": [
        "#2 = Write a Python program to read the contents of a file and print each line ?\n",
        "# Specify the path to your file\n",
        "file_path = 'example.txt'\n",
        "\n",
        "# Open the file and read each line\n",
        "with open(file_path, 'r', encoding='utf-8') as file:\n",
        "    for line in file:\n",
        "        print(line.strip())  # strip() removes the trailing newline character"
      ],
      "metadata": {
        "colab": {
          "base_uri": "https://localhost:8080/"
        },
        "id": "SbTpzDJRuUcU",
        "outputId": "b726a2a7-6442-4f83-db11-14137e6ba43f"
      },
      "execution_count": 45,
      "outputs": [
        {
          "output_type": "stream",
          "name": "stdout",
          "text": [
            "Hello, this is a test file.\n"
          ]
        }
      ]
    },
    {
      "cell_type": "code",
      "source": [
        "#3 = How would you handle a case where the file doesn't exist while trying to open it for reading ?\n",
        "try:\n",
        "    # Try to open a file that may not exist\n",
        "    with open(\"non_existing_file.txt\", \"r\") as file:\n",
        "        content = file.read()\n",
        "        print(content)\n",
        "except FileNotFoundError:\n",
        "    print(\"Error: The file does not exist. Please check the file name or path.\")\n"
      ],
      "metadata": {
        "colab": {
          "base_uri": "https://localhost:8080/"
        },
        "id": "8-vdBqhQutwt",
        "outputId": "85b2e4f8-7106-4670-ad8d-fd0779c26caf"
      },
      "execution_count": 3,
      "outputs": [
        {
          "output_type": "stream",
          "name": "stdout",
          "text": [
            "Error: The file does not exist. Please check the file name or path.\n"
          ]
        }
      ]
    },
    {
      "cell_type": "code",
      "source": [
        "#4 = Write a Python script that reads from one file and writes its content to another file ?\n",
        "# File names\n",
        "source_file = \"source.txt\"\n",
        "destination_file = \"destination.txt\"\n",
        "\n",
        "try:\n",
        "    # Open the source file in read mode\n",
        "    with open(source_file, \"r\") as src:\n",
        "        content = src.read()  # Read entire content\n",
        "\n",
        "    # Open the destination file in write mode and write content\n",
        "    with open(destination_file, \"w\") as dest:\n",
        "        dest.write(content)\n",
        "\n",
        "    print(f\"Content copied successfully from '{source_file}' to '{destination_file}'.\")\n",
        "\n",
        "except FileNotFoundError:\n",
        "    print(f\"Error: The source file '{source_file}' does not exist.\")\n",
        "except Exception as e:\n",
        "    print(f\"An error occurred: {e}\")"
      ],
      "metadata": {
        "colab": {
          "base_uri": "https://localhost:8080/"
        },
        "id": "PSXjdwecvEq7",
        "outputId": "f6ac0a03-d507-4596-97df-2a8391698e66"
      },
      "execution_count": 4,
      "outputs": [
        {
          "output_type": "stream",
          "name": "stdout",
          "text": [
            "Error: The source file 'source.txt' does not exist.\n"
          ]
        }
      ]
    },
    {
      "cell_type": "code",
      "source": [
        "# 5 = How would you catch and handle division by zero error in Python ?\n",
        "try:\n",
        "    numerator = 10\n",
        "    denominator = 0\n",
        "    result = numerator / denominator  # This will raise ZeroDivisionError\n",
        "    print(\"Result:\", result)\n",
        "\n",
        "except ZeroDivisionError:\n",
        "    print(\"Error: Cannot divide by zero. Please provide a non-zero denominator.\")\n"
      ],
      "metadata": {
        "colab": {
          "base_uri": "https://localhost:8080/"
        },
        "id": "UOsDnWFUvSO7",
        "outputId": "67eb85e6-c66b-4d64-f50f-abb07cda2be6"
      },
      "execution_count": 5,
      "outputs": [
        {
          "output_type": "stream",
          "name": "stdout",
          "text": [
            "Error: Cannot divide by zero. Please provide a non-zero denominator.\n"
          ]
        }
      ]
    },
    {
      "cell_type": "code",
      "source": [
        "# 6 =Write a Python program that logs an error message to a log file when a division by zero exception occurs ?\n",
        "import logging\n",
        "\n",
        "# Configure logging to write errors to a file named 'error.log'\n",
        "logging.basicConfig(filename='error.log',\n",
        "                    level=logging.ERROR,\n",
        "                    format='%(asctime)s - %(levelname)s - %(message)s')\n",
        "\n",
        "try:\n",
        "    numerator = 10\n",
        "    denominator = 0\n",
        "    result = numerator / denominator  # This will raise ZeroDivisionError\n",
        "    print(\"Result:\", result)\n",
        "\n",
        "except ZeroDivisionError as e:\n",
        "    error_message = \"Division by zero error occurred.\"\n",
        "    print(error_message)\n",
        "    logging.error(f\"{error_message} Details: {e}\")\n"
      ],
      "metadata": {
        "colab": {
          "base_uri": "https://localhost:8080/"
        },
        "id": "9I11wGoEvscj",
        "outputId": "8101058d-286b-4d1c-bf07-b9d1b251e026"
      },
      "execution_count": 6,
      "outputs": [
        {
          "output_type": "stream",
          "name": "stderr",
          "text": [
            "ERROR:root:Division by zero error occurred. Details: division by zero\n"
          ]
        },
        {
          "output_type": "stream",
          "name": "stdout",
          "text": [
            "Division by zero error occurred.\n"
          ]
        }
      ]
    },
    {
      "cell_type": "code",
      "source": [
        "# 7 = How do you log information at different levels (INFO, ERROR, WARNING) in Python using the logging module ?\n",
        "import logging\n",
        "\n",
        "# Configure logging to print messages to console with a format including level name\n",
        "logging.basicConfig(level=logging.DEBUG,\n",
        "                    format='%(asctime)s - %(levelname)s - %(message)s')\n",
        "\n",
        "# Log messages at different severity levels\n",
        "logging.info(\"This is an info message: Program started successfully.\")\n",
        "logging.warning(\"This is a warning message: Low disk space.\")\n",
        "logging.error(\"This is an error message: Failed to open file.\")"
      ],
      "metadata": {
        "colab": {
          "base_uri": "https://localhost:8080/"
        },
        "id": "-5bzZc_ZwDxD",
        "outputId": "3eb2cdd4-68d5-41d7-ff2e-89daa62fde27"
      },
      "execution_count": 8,
      "outputs": [
        {
          "output_type": "stream",
          "name": "stderr",
          "text": [
            "WARNING:root:This is a warning message: Low disk space.\n",
            "ERROR:root:This is an error message: Failed to open file.\n"
          ]
        }
      ]
    },
    {
      "cell_type": "code",
      "source": [
        "# 8= Write a program to handle a file opening error using exception handling ?\n",
        "try:\n",
        "    # Attempt to open a file that may not exist\n",
        "    with open(\"missing_file.txt\", \"r\") as file:\n",
        "        content = file.read()\n",
        "        print(content)\n",
        "\n",
        "except FileNotFoundError:\n",
        "    print(\"Error: The file you are trying to open does not exist.\")\n",
        "\n",
        "except IOError:\n",
        "    print(\"Error: An IOError occurred while trying to read the file.\")\n",
        "\n",
        "except Exception as e:\n",
        "    print(f\"An unexpected error occurred: {e}\")"
      ],
      "metadata": {
        "colab": {
          "base_uri": "https://localhost:8080/"
        },
        "id": "aN-yMXBqwZHS",
        "outputId": "23e028f8-7462-4cbf-96ac-53f5828ad23c"
      },
      "execution_count": 10,
      "outputs": [
        {
          "output_type": "stream",
          "name": "stdout",
          "text": [
            "Error: The file you are trying to open does not exist.\n"
          ]
        }
      ]
    },
    {
      "cell_type": "code",
      "source": [
        "#9 How can you read a file line by line and store its content in a list in Python ?\n",
        "lines = []\n",
        "\n",
        "try:\n",
        "    with open(\"sample.txt\", \"r\") as file:\n",
        "        for line in file:\n",
        "            lines.append(line.strip())  # Remove newline characters before appending\n",
        "\n",
        "    print(\"Lines read from the file:\")\n",
        "    print(lines)\n",
        "\n",
        "except FileNotFoundError:\n",
        "    print(\"Error: The file does not exist.\")"
      ],
      "metadata": {
        "colab": {
          "base_uri": "https://localhost:8080/"
        },
        "id": "cH2hjXiJwsLa",
        "outputId": "53c3736c-0a02-49b5-8a69-afe207619cd8"
      },
      "execution_count": 11,
      "outputs": [
        {
          "output_type": "stream",
          "name": "stdout",
          "text": [
            "Lines read from the file:\n",
            "['Hello, this is a test string written to the file.']\n"
          ]
        }
      ]
    },
    {
      "cell_type": "code",
      "source": [
        "# 10 How can you append data to an existing file in Python ?\n",
        "try:\n",
        "    with open(\"example.txt\", \"a\") as file:\n",
        "        file.write(\"Appending with error handling.\\n\")\n",
        "    print(\"Data successfully appended.\")\n",
        "except IOError:\n",
        "    print(\"An error occurred while appending to the file.\")"
      ],
      "metadata": {
        "colab": {
          "base_uri": "https://localhost:8080/"
        },
        "id": "Ex-aenouw2lS",
        "outputId": "034aaf38-f4cf-45de-f130-51f470a06b09"
      },
      "execution_count": 18,
      "outputs": [
        {
          "output_type": "stream",
          "name": "stdout",
          "text": [
            "Data successfully appended.\n"
          ]
        }
      ]
    },
    {
      "cell_type": "code",
      "source": [
        "# 11 Write a Python program that uses a try-except block to handle an error when attempting to access a dictionary key that doesn't exist ?\n",
        "# Define a dictionary with some key-value pairs\n",
        "student_grades = {\n",
        "    \"Alice\": \"A\",\n",
        "    \"Bob\": \"B\",\n",
        "    \"Charlie\": \"C\"\n",
        "}\n",
        "\n",
        "# Key to search in the dictionary\n",
        "search_key = \"David\"\n",
        "\n",
        "try:\n",
        "    # Attempt to access the value for the given key\n",
        "    grade = student_grades[search_key]\n",
        "    print(f\"{search_key}'s grade is {grade}.\")\n",
        "except KeyError:\n",
        "    # Handle the case where the key does not exist\n",
        "    print(f\"Error: '{search_key}' not found in the dictionary.\")"
      ],
      "metadata": {
        "colab": {
          "base_uri": "https://localhost:8080/"
        },
        "id": "bAz53Mwhw_6C",
        "outputId": "7bafce1d-f867-4d29-d472-cd6594a79024"
      },
      "execution_count": 19,
      "outputs": [
        {
          "output_type": "stream",
          "name": "stdout",
          "text": [
            "Error: 'David' not found in the dictionary.\n"
          ]
        }
      ]
    },
    {
      "cell_type": "code",
      "source": [
        "#12 = Write a program that demonstrates using multiple except blocks to handle different types of exceptions?\n",
        "def perform_operations():\n",
        "    try:\n",
        "        # Prompt user for input\n",
        "        num = int(input(\"Enter a number: \"))\n",
        "\n",
        "        # Attempt division\n",
        "        result = 10 / num\n",
        "        print(f\"Result: 10 / {num} = {result}\")\n",
        "\n",
        "        # Attempt to access a dictionary key\n",
        "        data = {\"key1\": \"value1\"}\n",
        "        print(f\"Accessing data['key2']: {data['key2']}\")\n",
        "\n",
        "    except ValueError:\n",
        "        print(\"Error: Invalid input. Please enter a valid integer.\")\n",
        "    except ZeroDivisionError:\n",
        "        print(\"Error: Cannot divide by zero.\")\n",
        "    except KeyError:\n",
        "        print(\"Error: Key not found in the dictionary.\")\n",
        "    except Exception as e:\n",
        "        print(f\"An unexpected error occurred: {e}\")\n",
        "\n",
        "# Call the function to execute\n",
        "perform_operations()\n"
      ],
      "metadata": {
        "colab": {
          "base_uri": "https://localhost:8080/"
        },
        "id": "YVPlpA-zyinC",
        "outputId": "1af14ff4-45fa-4cc5-82cc-ee13949cdd5f"
      },
      "execution_count": 20,
      "outputs": [
        {
          "output_type": "stream",
          "name": "stdout",
          "text": [
            "Enter a number: abc\n",
            "Error: Invalid input. Please enter a valid integer.\n"
          ]
        }
      ]
    },
    {
      "cell_type": "code",
      "source": [
        "#13 = How would you check if a file exists before attempting to read it in Python ?\n",
        "import os\n",
        "\n",
        "file_path = 'example.txt'\n",
        "\n",
        "if os.path.isfile(file_path):\n",
        "    with open(file_path, 'r') as file:\n",
        "        content = file.read()\n",
        "    print(\"File content:\", content)\n",
        "else:\n",
        "    print(f\"Error: '{file_path}' is not a valid file.\")\n"
      ],
      "metadata": {
        "colab": {
          "base_uri": "https://localhost:8080/"
        },
        "id": "CQEFiImkzJqJ",
        "outputId": "85e2e226-4744-4f5b-97a3-7dd775edfdba"
      },
      "execution_count": 21,
      "outputs": [
        {
          "output_type": "stream",
          "name": "stdout",
          "text": [
            "File content: This is an appended line.\n",
            "This is an appended line.\n",
            "Line 1\n",
            "Line 2\n",
            "Line 3\n",
            "This is an appended line.\n",
            "Line 1\n",
            "Line 2\n",
            "Line 3\n",
            "Appending with error handling.\n",
            "\n"
          ]
        }
      ]
    },
    {
      "cell_type": "code",
      "source": [
        "# 14 Write a program that uses the logging module to log both informational and error messages?\n",
        "import logging\n",
        "\n",
        "# Configure the logging system\n",
        "logging.basicConfig(\n",
        "    level=logging.DEBUG,  # Set the logging level to DEBUG to capture all levels\n",
        "    format='%(asctime)s - %(levelname)s - %(message)s'\n",
        ")\n",
        "\n",
        "# Log an informational message\n",
        "logging.info(\"This is an informational message.\")\n",
        "\n",
        "try:\n",
        "    # Simulate an error by dividing by zero\n",
        "    result = 10 / 0\n",
        "except ZeroDivisionError:\n",
        "    # Log an error message with exception details\n",
        "    logging.error(\"An error occurred: Division by zero.\", exc_info=True)"
      ],
      "metadata": {
        "colab": {
          "base_uri": "https://localhost:8080/"
        },
        "id": "9WkXaBnDHoWa",
        "outputId": "73cf643c-a89c-4a09-d9bb-ecf1db30e68c"
      },
      "execution_count": 22,
      "outputs": [
        {
          "output_type": "stream",
          "name": "stderr",
          "text": [
            "ERROR:root:An error occurred: Division by zero.\n",
            "Traceback (most recent call last):\n",
            "  File \"<ipython-input-22-672e9137afd3>\", line 15, in <cell line: 0>\n",
            "    result = 10 / 0\n",
            "             ~~~^~~\n",
            "ZeroDivisionError: division by zero\n"
          ]
        }
      ]
    },
    {
      "cell_type": "code",
      "source": [
        "# 15 = Write a Python program that prints the content of a file and handles the case when the file is empty ?\n",
        "import os\n",
        "\n",
        "file_path = 'example.txt'\n",
        "\n",
        "try:\n",
        "    # Check if the file exists and is not empty\n",
        "    if os.path.exists(file_path) and os.path.getsize(file_path) > 0:\n",
        "        with open(file_path, 'r') as file:\n",
        "            content = file.read()\n",
        "        print(\"File Content:\\n\", content)\n",
        "    else:\n",
        "        print(f\"Error: '{file_path}' is empty or does not exist.\")\n",
        "except OSError as e:\n",
        "    print(f\"Error: Unable to access the file '{file_path}'. {e}\")\n",
        "    #File Content (example.txt)\n",
        "    #Error: 'example.txt' is empty or does not exist.\n"
      ],
      "metadata": {
        "colab": {
          "base_uri": "https://localhost:8080/"
        },
        "id": "wSe8vhn2H3NZ",
        "outputId": "5c1ff953-c15e-4991-cb30-522c383b5370"
      },
      "execution_count": 25,
      "outputs": [
        {
          "output_type": "stream",
          "name": "stdout",
          "text": [
            "File Content:\n",
            " This is an appended line.\n",
            "This is an appended line.\n",
            "Line 1\n",
            "Line 2\n",
            "Line 3\n",
            "This is an appended line.\n",
            "Line 1\n",
            "Line 2\n",
            "Line 3\n",
            "Appending with error handling.\n",
            "\n"
          ]
        }
      ]
    },
    {
      "cell_type": "code",
      "source": [
        "# 16 = Demonstrate how to use memory profiling to check the memory usage of a small program?\n",
        "#from memory_profiler import profile\n",
        "\n",
        "#@profile\n",
        "def generate_large_list():\n",
        "    \"\"\"Function to generate a large list and calculate its sum.\"\"\"\n",
        "    large_list = [i for i in range(10**6)]  # List of 1 million integers\n",
        "    total = sum(large_list)\n",
        "    return total\n",
        "\n",
        "if __name__ == \"__main__\":\n",
        "    result = generate_large_list()\n",
        "    print(f\"Sum of the list: {result}\")"
      ],
      "metadata": {
        "colab": {
          "base_uri": "https://localhost:8080/"
        },
        "id": "GBbei_I5ICWx",
        "outputId": "8211d9f1-7b30-4cd2-cf5d-4797db7b0f9a"
      },
      "execution_count": 32,
      "outputs": [
        {
          "output_type": "stream",
          "name": "stdout",
          "text": [
            "Sum of the list: 499999500000\n"
          ]
        }
      ]
    },
    {
      "cell_type": "code",
      "source": [
        "#17 Write a Python program to create and write a list of numbers to a file, one number per line ?\n",
        "numbers = [1, 2, 3, 4, 5]\n",
        "\n",
        "# Open the file in write mode\n",
        "with open('numbers.txt', 'w') as file:\n",
        "    # Write each number followed by a newline character\n",
        "    for number in numbers:\n",
        "        file.write(f\"{number}\\n\")\n",
        "\n",
        "print(\"Numbers have been written to 'numbers.txt'.\")"
      ],
      "metadata": {
        "colab": {
          "base_uri": "https://localhost:8080/"
        },
        "id": "mGs-8v76I5jB",
        "outputId": "40dbedd4-7f2a-4057-b8a3-813ef4c1654c"
      },
      "execution_count": 33,
      "outputs": [
        {
          "output_type": "stream",
          "name": "stdout",
          "text": [
            "Numbers have been written to 'numbers.txt'.\n"
          ]
        }
      ]
    },
    {
      "cell_type": "code",
      "source": [
        "# 18 = How would you implement a basic logging setup that logs to a file with rotation after 1MB ?\n",
        "import logging\n",
        "from logging.handlers import RotatingFileHandler\n",
        "\n",
        "# Create a logger\n",
        "logger = logging.getLogger('my_logger')\n",
        "logger.setLevel(logging.DEBUG)\n",
        "\n",
        "# Create a rotating file handler\n",
        "handler = RotatingFileHandler('app.log', maxBytes=1024 * 1024, backupCount=3)\n",
        "handler.setLevel(logging.DEBUG)\n",
        "\n",
        "# Create a formatter and set it for the handler\n",
        "formatter = logging.Formatter('%(asctime)s - %(levelname)s - %(message)s')\n",
        "handler.setFormatter(formatter)\n",
        "\n",
        "# Add the handler to the logger\n",
        "logger.addHandler(handler)\n",
        "\n",
        "# Log some messages\n",
        "logger.debug('Debug message')\n",
        "logger.info('Informational message')\n",
        "logger.warning('Warning message')\n",
        "logger.error('Error message')\n",
        "logger.critical('Critical message')"
      ],
      "metadata": {
        "colab": {
          "base_uri": "https://localhost:8080/"
        },
        "id": "etNY_m13KSKJ",
        "outputId": "47e0303c-7395-403e-f888-596545e7ec56"
      },
      "execution_count": 35,
      "outputs": [
        {
          "output_type": "stream",
          "name": "stderr",
          "text": [
            "DEBUG:my_logger:Debug message\n",
            "INFO:my_logger:Informational message\n",
            "WARNING:my_logger:Warning message\n",
            "ERROR:my_logger:Error message\n",
            "CRITICAL:my_logger:Critical message\n"
          ]
        }
      ]
    },
    {
      "cell_type": "code",
      "source": [
        "#19 Write a program that handles both IndexError and KeyError using a try-except block ?\n",
        "# Sample data\n",
        "my_list = [10, 20, 30]\n",
        "my_dict = {\"name\": \"Alice\", \"age\": 25}\n",
        "\n",
        "# Function to access list and dictionary elements\n",
        "def access_elements():\n",
        "    try:\n",
        "        # Attempt to access an index in the list\n",
        "        print(\"Accessing list element at index 3:\", my_list[3])\n",
        "    except IndexError as e:\n",
        "        print(f\"IndexError: {e}\")\n",
        "\n",
        "    try:\n",
        "        # Attempt to access a key in the dictionary\n",
        "        print(\"Accessing dictionary element with key 'address':\", my_dict[\"address\"])\n",
        "    except KeyError as e:\n",
        "        print(f\"KeyError: {e}\")\n",
        "\n",
        "# Call the function\n",
        "access_elements()"
      ],
      "metadata": {
        "colab": {
          "base_uri": "https://localhost:8080/"
        },
        "id": "T0jhU8-oKc_Q",
        "outputId": "80f46fc9-c102-4c68-8729-ed9ee085deb9"
      },
      "execution_count": 36,
      "outputs": [
        {
          "output_type": "stream",
          "name": "stdout",
          "text": [
            "IndexError: list index out of range\n",
            "KeyError: 'address'\n"
          ]
        }
      ]
    },
    {
      "cell_type": "code",
      "source": [
        "#20 How would you open a file and read its contents using a context manager in Python ?\n",
        "# Specify the file path\n",
        "file_path = 'example.txt'\n",
        "\n",
        "# Open and read the file using a context manager\n",
        "with open(file_path, 'r', encoding='utf-8') as file:\n",
        "    content = file.read()\n",
        "\n",
        "# Print the content of the file\n",
        "print(content)\n"
      ],
      "metadata": {
        "colab": {
          "base_uri": "https://localhost:8080/"
        },
        "id": "Wx8spIGCKli4",
        "outputId": "0c6ca095-cf01-4dd2-953b-82fcf5e16658"
      },
      "execution_count": 37,
      "outputs": [
        {
          "output_type": "stream",
          "name": "stdout",
          "text": [
            "This is an appended line.\n",
            "This is an appended line.\n",
            "Line 1\n",
            "Line 2\n",
            "Line 3\n",
            "This is an appended line.\n",
            "Line 1\n",
            "Line 2\n",
            "Line 3\n",
            "Appending with error handling.\n",
            "\n"
          ]
        }
      ]
    },
    {
      "cell_type": "code",
      "source": [
        "#21 Write a Python program that reads a file and prints the number of occurrences of a specific word ?\n",
        "import re\n",
        "\n",
        "def count_word_in_file(file_path, target_word):\n",
        "    try:\n",
        "        with open(file_path, 'r', encoding='utf-8') as file:\n",
        "            content = file.read().lower()\n",
        "            word_pattern = fr'\\b{re.escape(target_word.lower())}\\b'\n",
        "            occurrences = len(re.findall(word_pattern, content))\n",
        "        return occurrences\n",
        "    except FileNotFoundError:\n",
        "        print(f\"Error: The file '{file_path}' was not found.\")\n",
        "        return 0\n",
        "\n",
        "# Example usage\n",
        "file_path = 'example.txt'  # Replace with your file path\n",
        "target_word = 'python'     # Replace with the word you want to count\n",
        "count = count_word_in_file(file_path, target_word)\n",
        "print(f\"The word '{target_word}' appears {count} times in the file.\")"
      ],
      "metadata": {
        "colab": {
          "base_uri": "https://localhost:8080/"
        },
        "id": "c0I7V8tUKvOo",
        "outputId": "4316a4d2-121c-457b-9bf4-c1b9c9953065"
      },
      "execution_count": 38,
      "outputs": [
        {
          "output_type": "stream",
          "name": "stdout",
          "text": [
            "The word 'python' appears 0 times in the file.\n"
          ]
        }
      ]
    },
    {
      "cell_type": "code",
      "source": [
        "#22 How can you check if a file is empty before attempting to read its contents ?\n",
        "import os\n",
        "\n",
        "file_path = 'example.txt'  # Replace with your file path\n",
        "\n",
        "# Check if the file exists and is empty\n",
        "if os.path.exists(file_path):\n",
        "    if os.path.getsize(file_path) == 0:\n",
        "        print(\"The file is empty.\")\n",
        "    else:\n",
        "        print(\"The file is not empty.\")\n",
        "else:\n",
        "    print(\"The file does not exist.\")"
      ],
      "metadata": {
        "colab": {
          "base_uri": "https://localhost:8080/"
        },
        "id": "Mac_T2T1K9oY",
        "outputId": "4d736167-5c6b-41f6-8657-9fae338e37a7"
      },
      "execution_count": 39,
      "outputs": [
        {
          "output_type": "stream",
          "name": "stdout",
          "text": [
            "The file is not empty.\n"
          ]
        }
      ]
    },
    {
      "cell_type": "code",
      "source": [
        "#23 Write a Python program that writes to a log file when an error occurs during file handling ?\n",
        "import logging\n",
        "\n",
        "# Set up logging configuration\n",
        "logging.basicConfig(\n",
        "    filename='file_operations.log',\n",
        "    level=logging.ERROR,\n",
        "    format='%(asctime)s - %(levelname)s - %(message)s'\n",
        ")\n",
        "\n",
        "def read_file(file_path):\n",
        "    try:\n",
        "        with open(file_path, 'r') as file:\n",
        "            content = file.read()\n",
        "            print(content)\n",
        "    except FileNotFoundError as e:\n",
        "        logging.error(f\"File not found: {file_path} - {e}\")\n",
        "        print(f\"Error: The file '{file_path}' was not found.\")\n",
        "    except PermissionError as e:\n",
        "        logging.error(f\"Permission denied: {file_path} - {e}\")\n",
        "        print(f\"Error: Permission denied to read '{file_path}'.\")\n",
        "    except Exception as e:\n",
        "        logging.error(f\"Unexpected error with file '{file_path}': {e}\")\n",
        "        print(f\"An unexpected error occurred while reading '{file_path}'.\")\n",
        "\n",
        "# Example usage\n",
        "file_path = 'example.txt'\n",
        "read_file(file_path)"
      ],
      "metadata": {
        "colab": {
          "base_uri": "https://localhost:8080/"
        },
        "id": "7unOZV60LrZY",
        "outputId": "0a553b3b-500a-4a8a-f695-ed6e1d4f413f"
      },
      "execution_count": 42,
      "outputs": [
        {
          "output_type": "stream",
          "name": "stdout",
          "text": [
            "This is an appended line.\n",
            "This is an appended line.\n",
            "Line 1\n",
            "Line 2\n",
            "Line 3\n",
            "This is an appended line.\n",
            "Line 1\n",
            "Line 2\n",
            "Line 3\n",
            "Appending with error handling.\n",
            "\n"
          ]
        }
      ]
    },
    {
      "cell_type": "code",
      "source": [],
      "metadata": {
        "id": "-r3rVQ8oL7nY"
      },
      "execution_count": null,
      "outputs": []
    }
  ]
}