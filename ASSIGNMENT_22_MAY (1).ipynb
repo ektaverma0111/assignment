{
  "nbformat": 4,
  "nbformat_minor": 0,
  "metadata": {
    "colab": {
      "provenance": []
    },
    "kernelspec": {
      "name": "python3",
      "display_name": "Python 3"
    },
    "language_info": {
      "name": "python"
    }
  },
  "cells": [
    {
      "cell_type": "markdown",
      "source": [
        "#1 What is the difference between a function and a method in Python?\n",
        "Ans = In Python, functions and methods are both blocks of reusable code that perform a specific task, but there's a key distinction between them based on how and where they are defined:\n",
        "Function = A function is a block of code that is defined using the def keyword and can exist independently (i.e., outside of a class). It is called by its name and can optionally take parameters and return values.\n",
        "Method = A method is a function that is associated with an object — more specifically, it is defined inside a class. It operates on instances of the class (i.e., objects), and typically takes self as its first parameter to access the instance's attributes and other methods."
      ],
      "metadata": {
        "id": "TP12_4j921Rr"
      }
    },
    {
      "cell_type": "markdown",
      "source": [
        "# 2 Explain the concept of function arguments and parameters in Python?\n",
        "Ans = In Python, function arguments and parameters refer to the values and variables involved in passing information into functions. Here's a breakdown of the concepts:\n",
        "Parameters = These are the variables listed in a function’s definition.They act as placeholders for the values you pass to the function.\n",
        "Arguments = These are the actual values you pass to a function when calling it.They are assigned to the corresponding parameters."
      ],
      "metadata": {
        "id": "K8J6nq6m5rI6"
      }
    },
    {
      "cell_type": "markdown",
      "source": [
        "# 3 What are the different ways to define and call a function in Python?\n",
        "Ans = In Python, functions are reusable blocks of code designed to perform a specific task. You can define and call functions in different ways based on your needs. Here's a clear breakdown of the different ways to define and call a function in Python:\n",
        "Standard Function\n",
        "Function with Default Arguments\n",
        "Function with Variable-Length Arguments\n",
        "Lambda Function (Anonymous Function)\n",
        "Nested Function\n",
        "Functions Inside Classes (Methods)\n",
        "\n",
        "Ways to Call a Function in Python:-\n",
        "Call with Positional Arguments\n",
        "Call with Keyword Arguments\n",
        "Call with Default Parameters\n",
        "Call with Argument Unpacking\n",
        "Call a Method from an Object\n",
        "Call via Higher-Order Functions"
      ],
      "metadata": {
        "id": "2h_o15YL6Tv6"
      }
    },
    {
      "cell_type": "markdown",
      "source": [
        "# 4 What is the purpose of the return statement in a Python function?\n",
        "Ans = The return statement is used to exit a function and send back a result to the caller. It can return a single value, multiple values (as a tuple), or no value at all (which results in None). It also immediately stops the function’s execution once reached. If no return is specified, Python functions return None by default.\n",
        "\n",
        "\n",
        "\n"
      ],
      "metadata": {
        "id": "mIZmZmDE7cvi"
      }
    },
    {
      "cell_type": "markdown",
      "source": [
        "# 5 What are iterators in Python and how do they differ from iterables?\n",
        "Ans = An iterable is any Python object that can return an iterator. It is an object that you can loop over (iterate through) using a for loop.An iterable must implement the __iter__() method or have a __getitem__() method to support iteration. Examples of iterables in Python include lists, tuples, strings, dictionaries, sets, etc.\n",
        "\n",
        "It can be looped over using a for loop.\n",
        "\n",
        "It provides an iterator when the iter() function is called on it.\n",
        "\n",
        "An iterator is an object that represents a stream of data. It knows how to fetch the next item in the sequence, and it keeps track of the current position in the sequence.\n",
        "\n",
        "It is an object that holds the state of iteration.\n",
        "\n",
        "It produces items one at a time when the next() function is called.\n",
        "\n",
        "It knows when to stop (raises a StopIteration exception when exhausted).\n"
      ],
      "metadata": {
        "id": "bORe3Mf-8HAB"
      }
    },
    {
      "cell_type": "markdown",
      "source": [
        "#6 Explain the concept of generators in Python and how they are defined ?\n",
        "Ans = Generators are a type of iterable in Python, but they are more memory-efficient than regular lists or other iterables. They allow you to create a sequence of values lazily—meaning that the values are generated one at a time as they are needed, rather than all at once.\n",
        "\n",
        "Generators are particularly useful when working with large datasets or streams of data where it might not be practical to load everything into memory at once.\n",
        "Key Characteristics of Generators:-\n",
        "Lazy Evaluation:\n",
        "Generators generate values on-the-fly when requested, rather than storing them all in memory. This is known as lazy evaluation.\n",
        "\n",
        "Stateful:\n",
        "Generators maintain their state between successive calls, so they don’t need to regenerate the entire sequence. After each yield, they remember where they left off.\n",
        "\n",
        "Memory Efficient:\n",
        "Since generators yield values one at a time, they do not store the entire sequence in memory, making them very memory-efficient for large datasets.\n",
        "\n",
        "Can be Iterated Once:\n",
        "Once a generator’s values have been exhausted (i.e., when all values have been yielded), it cannot be reused or restarted.\n",
        "\n",
        "There are two main ways to define a generator in Python:\n",
        "\n",
        "1. Using a Generator Function:-A generator function is a function that uses the yield keyword to return values. Each time the yield statement is encountered, the function suspends execution and returns the value. The function can be resumed later, continuing where it left off.\n",
        "\n",
        "2. Using a Generator Expression:- Similar to a list comprehension, a generator expression allows you to create a generator on the fly, without defining a separate function.\n",
        "\n"
      ],
      "metadata": {
        "id": "CdaQbvdg9ONx"
      }
    },
    {
      "cell_type": "markdown",
      "source": [
        "# 7 What are the advantages of using generators over regular functions?\n",
        "Ans = Advantages of Using Generators Over Regular Functions in Python\n",
        "\n",
        "Generators offer several key benefits compared to regular functions, especially when dealing with large datasets or requiring a memory-efficient approach. Below are the main advantages of using generators:\n",
        "\n",
        "1. Memory Efficiency =  Regular functions typically return the entire result (like a list or other collection), meaning the entire sequence is stored in memory at once.  Generators, on the other hand, generate values one at a time as they are requested, using lazy. evaluation. This means that only one item is stored in memory at any given time, making them far more memory-efficient.\n",
        "\n",
        "2. Lazy Evaluation = Generators are evaluated lazily, meaning values are generated only when needed. This is especially helpful when working with large data sets, where you may not need all the values at once. Regular functions with return statements or list comprehensions evaluate and generate all results at once, even if you may only need a portion of the result.\n",
        "\n",
        "3. Performance = Generators can provide better performance when working with large datasets because they produce values only when required, avoiding the overhead of constructing large data structures.\n",
        "Regular functions that return lists or other large collections may have additional overhead of creating and storing that collection in memory, even if you only need a small part of it.\n",
        "\n",
        "4. Support for Infinite Sequences = Generators can handle infinite sequences. Since they only generate one value at a time, they can produce an infinite number of values without running out of memory.\n",
        "Regular functions would be unable to return an infinite collection because they would try to generate and store the entire sequence.\n",
        "\n",
        "5. State Retention Between Calls\n",
        "Generators maintain their internal state between calls. Every time the yield statement is encountered, the function’s execution is paused, and it can be resumed later from where it left off. This allows for more flexible control flow and makes generators particularly useful in certain algorithms, such as traversal algorithms or pipelines.\n",
        "Regular functions do not retain state between calls. If you want to preserve the state, you’d typically need to pass data explicitly or use global variables.\n",
        "\n",
        "6. Cleaner and More Readable Code\n",
        "Generators provide a more concise way to write code that deals with large sequences or complex iteration patterns.\n",
        "Without the need to create and manage large intermediate collections (like lists), the code is simpler and more focused on the task of generating and processing values.\n",
        "\n",
        "7. Improved Control Over Iteration\n",
        "Generators give you more control over the iteration process, allowing you to decide when to stop the iteration, pause, or resume.\n",
        "This is beneficial for scenarios like processing large files or dealing with streams of data, where you might want to stop or pause the iteration based on conditions"
      ],
      "metadata": {
        "id": "tZ6F78Yk93Ex"
      }
    },
    {
      "cell_type": "markdown",
      "source": [
        "# 8 What is a lambda function in Python and when is it typically used?\n",
        "Ans = A lambda function in Python is a small, anonymous (nameless) function defined using the lambda keyword. It can take any number of arguments but must consist of a single expression, which is automatically returned.\n",
        "\n",
        "Lambda functions are most commonly used in situations where a simple function is needed temporarily, especially in combination with other functions like map(), filter(), and sorted().\n",
        "\n",
        "Common Use Cases:\n",
        "\n",
        "1. Used as an argument to higher-order functions:\n",
        "\n",
        "In functions like map(), filter(), and reduce(), where a simple transformation or condition is needed.\n",
        "\n",
        "Example (theoretical):\n",
        "\n",
        "map(lambda x: x * 2, iterable) applies the lambda to each item.\n",
        "2. Used for short, inline functions:\n",
        "\n",
        "When defining a full def function would be unnecessary or clutter the code.\n",
        "\n",
        "3. Used for sorting or key extraction:\n",
        "\n",
        "In functions like sorted() or max() where a key function is needed.\n",
        "\n",
        "Example:\n",
        "\n",
        "sorted(items, key=lambda x: x[1]) sorts items based on the second element.\n",
        "\n",
        "4. Used in GUI or event-driven programming:\n",
        "\n",
        "To pass a simple callback function that performs a quick action.\n",
        "\n",
        "5. Used in list comprehensions or generator expressions (rare but possible):\n",
        "\n",
        "For simple inline operations.\n"
      ],
      "metadata": {
        "id": "081BgHMz-5qB"
      }
    },
    {
      "cell_type": "markdown",
      "source": [
        "# 9 Explain the purpose and usage of the `map()` function in Python.?\n",
        "Ans = Purpose and Usage of the map() Function in Python\n",
        "The map() function in Python is a built-in function used to apply a function to every item in an iterable (like a list, tuple, or string) and return a new iterable (a map object) with the results.\n",
        "\n",
        "Purpose of map()\n",
        "\n",
        "The main purpose of map() is to:\n",
        "\n",
        "Transform or process elements in a collection without using an explicit loop.\n",
        "\n",
        "Apply a function to each element in one or more iterables.\n",
        "\n",
        "Produce a new iterable (lazy evaluation) containing the results.\n",
        "\n",
        "\n",
        "Usage of map() (Theory)\n",
        "1. Applies a function to each element in an iterable\n",
        "Instead of using a loop to process items in a list, map() lets you do it in a functional and cleaner way.\n",
        "\n",
        "It automatically handles the iteration and function application behind the scenes.\n",
        "\n",
        "2. Returns a lazy map object (iterator)\n",
        "map() does not return the final result directly as a list; it returns a map object.\n",
        "\n",
        "You can convert this map object into a list, tuple, or use it in a loop.\n",
        "\n",
        "3. Can be used with multiple iterables\n",
        "If the function takes multiple arguments, and you pass multiple iterables, map() will take one item from each iterable at a time.\n",
        "\n"
      ],
      "metadata": {
        "id": "x9MhK-RcAU6I"
      }
    },
    {
      "cell_type": "markdown",
      "source": [
        "#10 What is the difference between `map()`, `reduce()`, and `filter()` functions in Python?\n",
        "Ans = All three—map(), reduce(), and filter()—are functional programming tools in Python. They operate on iterables (like lists or tuples) and apply a function to the elements, but they serve different purposes.\n",
        "\n",
        " 1. map()\n",
        "Purpose:\n",
        "Applies a function to each item in an iterable.\n",
        "\n",
        "Returns a new iterable with transformed elements.\n",
        "\n",
        "Key Features:\n",
        "Takes a function and one or more iterables.\n",
        "\n",
        "Returns a map object (lazy iterable).\n",
        "\n",
        "Often used with lambda for short transformations.\n",
        "\n",
        "Example Use Case:\n",
        "Squaring all numbers in a list.\n",
        "\n",
        "Converting strings to uppercase.\n",
        "\n",
        "2. filter()\n",
        "\n",
        "Purpose:\n",
        "\n",
        "Applies a function that returns True or False to each item.\n",
        "\n",
        "Returns an iterable containing only the elements for which the function returns True.\n",
        "\n",
        "Key Features:\n",
        "\n",
        "Used to filter or remove elements from an iterable.\n",
        "\n",
        "Returns a filter object (lazy iterable).\n",
        "\n",
        "The function should return a boolean value.\n",
        "\n",
        "Example Use Case:\n",
        "\n",
        "Filtering even numbers from a list.\n",
        "\n",
        "Selecting strings that start with a specific letter.\n",
        "\n",
        "3. reduce()\n",
        "\n",
        "Purpose:\n",
        "\n",
        "Applies a function cumulatively to the items of an iterable, reducing the iterable to a single result.\n",
        "\n",
        "Key Features:\n",
        "\n",
        "Takes a function and an iterable.\n",
        "\n",
        "Requires importing from functools: from functools import reduce.\n",
        "\n",
        "The function takes two arguments and returns a single value.\n",
        "\n",
        "Example Use Case:\n",
        "\n",
        "Calculating the sum, product, or maximum of a list.\n",
        "\n",
        "Combining all elements into one (e.g., joining strings or accumulating results).\n",
        "\n",
        "\n"
      ],
      "metadata": {
        "id": "JfgKsQX0AzUw"
      }
    },
    {
      "cell_type": "markdown",
      "source": [
        "#11"
      ],
      "metadata": {
        "id": "lNLfkDViBjPY"
      }
    },
    {
      "cell_type": "code",
      "source": [
        "# PRACTICAL QUESTIONS"
      ],
      "metadata": {
        "id": "odJ7tRN4Bb4X"
      },
      "execution_count": null,
      "outputs": []
    },
    {
      "cell_type": "code",
      "source": [
        "# 1  Write a Python function that takes a list of numbers as input and returns the sum of all even numbers in the list.\n",
        "def sum_even_numbers(numbers):\n",
        "    total = 0\n",
        "    for num in numbers:\n",
        "        if num % 2 == 0:  # Check if the number is even\n",
        "            total += num  # Add it to the total\n",
        "    return total\n",
        "my_list = [1, 2, 3, 4, 5, 6]\n",
        "result = sum_even_numbers(my_list)\n",
        "print(\"Sum of even numbers:\", result)"
      ],
      "metadata": {
        "colab": {
          "base_uri": "https://localhost:8080/"
        },
        "id": "MIvUe4R1G9mu",
        "outputId": "ffebe4f8-6a67-4477-9a0e-70462417c1e6"
      },
      "execution_count": null,
      "outputs": [
        {
          "output_type": "stream",
          "name": "stdout",
          "text": [
            "Sum of even numbers: 12\n"
          ]
        }
      ]
    },
    {
      "cell_type": "code",
      "source": [
        "# 2 Create a Python function that accepts a string and returns the reverse of that string.\n",
        "def reverse_string(text):\n",
        "    return text[::-1]\n",
        "input_text = \"hello\"\n",
        "result = reverse_string(input_text)\n",
        "print(\"Reversed string:\", result)"
      ],
      "metadata": {
        "colab": {
          "base_uri": "https://localhost:8080/"
        },
        "id": "WNcZkqiSGt6W",
        "outputId": "b5551ce0-ec3b-43b4-b582-587a27230ff2"
      },
      "execution_count": null,
      "outputs": [
        {
          "output_type": "stream",
          "name": "stdout",
          "text": [
            "Reversed string: olleh\n"
          ]
        }
      ]
    },
    {
      "cell_type": "code",
      "source": [
        "#3  Implement a Python function that takes a list of integers and returns a new list containing the squares of each number.?\n",
        "def square_numbers(numbers):\n",
        "    squared_list = []\n",
        "    for num in numbers:\n",
        "        squared_list.append(num ** 2)  # Square the number and add to the list\n",
        "    return squared_list\n",
        "my_list = [1, 2, 3, 4, 5]\n",
        "result = square_numbers(my_list)\n",
        "print(\"Squared numbers:\", result)\n"
      ],
      "metadata": {
        "colab": {
          "base_uri": "https://localhost:8080/"
        },
        "id": "ALVQHNccGyIl",
        "outputId": "c8470329-aa2e-4f66-ca32-84d2f38b7023"
      },
      "execution_count": null,
      "outputs": [
        {
          "output_type": "stream",
          "name": "stdout",
          "text": [
            "Squared numbers: [1, 4, 9, 16, 25]\n"
          ]
        }
      ]
    },
    {
      "cell_type": "code",
      "source": [
        "#4 Write a Python function that checks if a given number is prime or not from 1 to 200 ?\n",
        "def is_prime(n):\n",
        "    # Check if the number is less than 2\n",
        "    if n < 2:\n",
        "        return False\n",
        "    # Check for factors from 2 to sqrt(n)\n",
        "    for i in range(2, int(n ** 0.5) + 1):\n",
        "        if n % i == 0:  # If divisible by any number, it's not prime\n",
        "            return False\n",
        "    return True\n",
        "\n",
        "for num in range(1, 20):  # Loop through numbers from 1 to 20\n",
        "    if is_prime(num):\n",
        "        print(num, \"is prime\")\n"
      ],
      "metadata": {
        "colab": {
          "base_uri": "https://localhost:8080/"
        },
        "id": "otuXkhzfIk57",
        "outputId": "aeb4c1a2-ff64-4d5f-a138-9fd039b1bec1"
      },
      "execution_count": null,
      "outputs": [
        {
          "output_type": "stream",
          "name": "stdout",
          "text": [
            "2 is prime\n",
            "3 is prime\n",
            "5 is prime\n",
            "7 is prime\n",
            "11 is prime\n",
            "13 is prime\n",
            "17 is prime\n",
            "19 is prime\n"
          ]
        }
      ]
    },
    {
      "cell_type": "code",
      "source": [
        "#5 Create an iterator class in Python that generates the Fibonacci sequence up to a specified number of terms.?\n",
        "class FibonacciIterator:\n",
        "    def __init__(self, n):\n",
        "        self.n = n            # Total number of terms\n",
        "        self.a, self.b = 0, 1  # First two terms of the Fibonacci sequence\n",
        "        self.count = 0         # Keeps track of the number of terms generated so far\n",
        "\n",
        "    def __iter__(self):\n",
        "        return self  # The iterator object itself\n",
        "\n",
        "    def __next__(self):\n",
        "        if self.count >= self.n:\n",
        "            raise StopIteration  # Stop iteration when the limit is reached\n",
        "\n",
        "        # Generate the next Fibonacci number\n",
        "        fib_number = self.a\n",
        "        self.a, self.b = self.b, self.a + self.b  # Update a and b for next iteration\n",
        "        self.count += 1\n",
        "        return fib_number\n",
        "\n",
        "n_terms = 10\n",
        "\n",
        "# Create an iterator object for the Fibonacci sequence\n",
        "fib_iter = FibonacciIterator(n_terms)\n",
        "\n",
        "# Use a for loop to iterate through the Fibonacci sequence\n",
        "for num in fib_iter:\n",
        "    print(num)"
      ],
      "metadata": {
        "colab": {
          "base_uri": "https://localhost:8080/"
        },
        "id": "fA5hNzleI0Ts",
        "outputId": "d309cd45-5599-402a-a0bd-776921e5c176"
      },
      "execution_count": null,
      "outputs": [
        {
          "output_type": "stream",
          "name": "stdout",
          "text": [
            "0\n",
            "1\n",
            "1\n",
            "2\n",
            "3\n",
            "5\n",
            "8\n",
            "13\n",
            "21\n",
            "34\n"
          ]
        }
      ]
    },
    {
      "cell_type": "code",
      "source": [
        "#6 Write a generator function in Python that yields the powers of 2 up to a given exponent?\n",
        "def powers_of_2(exponent):\n",
        "    for i in range(exponent + 1):  # Loop from 0 to exponent\n",
        "        yield 2 ** i  # Yield 2 raised to the power of i\n",
        "\n",
        "# Specify the exponent\n",
        "exponent = 5\n",
        "\n",
        "# Create a generator object\n",
        "power_gen = powers_of_2(exponent)\n",
        "\n",
        "# Iterate through the generator and print the values\n",
        "for power in power_gen:\n",
        "    print(power)\n"
      ],
      "metadata": {
        "colab": {
          "base_uri": "https://localhost:8080/"
        },
        "id": "x_8KqStjJoGU",
        "outputId": "d02181c4-7b85-441a-a34e-897747eba927"
      },
      "execution_count": null,
      "outputs": [
        {
          "output_type": "stream",
          "name": "stdout",
          "text": [
            "1\n",
            "2\n",
            "4\n",
            "8\n",
            "16\n",
            "32\n"
          ]
        }
      ]
    },
    {
      "cell_type": "code",
      "source": [
        "#7 Implement a generator function that reads a file line by line and yields each line as a string\n",
        "    #filename = 'example.txt'\n",
        "\n",
        "# Create a generator object to read the file\n",
        "#line_gen = read_file_line_by_line(filename)\n",
        "\n",
        "# Iterate through the generator and print each line\n",
        "#for line in line_gen:\n",
        "    #print(line)"
      ],
      "metadata": {
        "id": "5b_H3J9fJ250"
      },
      "execution_count": null,
      "outputs": []
    },
    {
      "cell_type": "code",
      "source": [
        "#8 Use a lambda function in Python to sort a list of tuples based on the second element of each tuple ?\n",
        "my_list = [(1, 3), (2, 1), (4, 2), (5, 5)]\n",
        "\n",
        "# Sort the list based on the second element of each tuple using a lambda function\n",
        "sorted_list = sorted(my_list, key=lambda x: x[1])\n",
        "\n",
        "print(sorted_list)\n"
      ],
      "metadata": {
        "colab": {
          "base_uri": "https://localhost:8080/"
        },
        "id": "r_qgwbJIKE_E",
        "outputId": "65fa0286-b8bf-4a16-93c5-608dd7aeb3ab"
      },
      "execution_count": null,
      "outputs": [
        {
          "output_type": "stream",
          "name": "stdout",
          "text": [
            "[(2, 1), (4, 2), (1, 3), (5, 5)]\n"
          ]
        }
      ]
    },
    {
      "cell_type": "code",
      "source": [
        "# 9 Write a Python program that uses `map()` to convert a list of temperatures from Celsius to Fahrenheit ?\n",
        "celsius_temperatures = [0, 20, 37, 100, -10]\n",
        "\n",
        "# Function to convert Celsius to Fahrenheit\n",
        "def celsius_to_fahrenheit(celsius):\n",
        "    return (celsius * 9/5) + 32\n",
        "\n",
        "# Use map() to apply the conversion function to each temperature in the list\n",
        "fahrenheit_temperatures = map(celsius_to_fahrenheit, celsius_temperatures)\n",
        "\n",
        "# Convert the result to a list and print it\n",
        "fahrenheit_temperatures_list = list(fahrenheit_temperatures)\n",
        "print(fahrenheit_temperatures_list)"
      ],
      "metadata": {
        "colab": {
          "base_uri": "https://localhost:8080/"
        },
        "id": "Z6pJ8mCaKunD",
        "outputId": "7599c8f9-9fd1-444b-92d0-9479179f173d"
      },
      "execution_count": null,
      "outputs": [
        {
          "output_type": "stream",
          "name": "stdout",
          "text": [
            "[32.0, 68.0, 98.6, 212.0, 14.0]\n"
          ]
        }
      ]
    },
    {
      "cell_type": "code",
      "source": [
        "# 10 Create a Python program that uses `filter()` to remove all the vowels from a given string. ?\n",
        "def is_not_vowel(char):\n",
        "    return char.lower() not in 'aeiou'\n",
        "\n",
        "# Input string\n",
        "input_string = \"Hello, World!\"\n",
        "\n",
        "# Use filter() to remove vowels from the string\n",
        "filtered_chars = filter(is_not_vowel, input_string)\n",
        "\n",
        "# Convert the result to a string and print it\n",
        "result_string = ''.join(filtered_chars)\n",
        "print(result_string)"
      ],
      "metadata": {
        "colab": {
          "base_uri": "https://localhost:8080/"
        },
        "id": "1TQzbui4LRYr",
        "outputId": "c2cff406-5990-4c38-e940-ac9c6aece35c"
      },
      "execution_count": null,
      "outputs": [
        {
          "output_type": "stream",
          "name": "stdout",
          "text": [
            "Hll, Wrld!\n"
          ]
        }
      ]
    }
  ]
}