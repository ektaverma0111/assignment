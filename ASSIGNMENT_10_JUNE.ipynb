{
  "nbformat": 4,
  "nbformat_minor": 0,
  "metadata": {
    "colab": {
      "provenance": []
    },
    "kernelspec": {
      "name": "python3",
      "display_name": "Python 3"
    },
    "language_info": {
      "name": "python"
    }
  },
  "cells": [
    {
      "cell_type": "markdown",
      "source": [
        "#THEORETICAL QUESTIONS"
      ],
      "metadata": {
        "id": "Bahjv_wJznyD"
      }
    },
    {
      "cell_type": "markdown",
      "source": [
        "#1 = What is NumPy, and why is it widely used in Python ?\n",
        "\n",
        "Ans = NumPy (short for Numerical Python) is a fundamental Python library used for numerical and scientific computing. It provides support for large, multi-dimensional arrays and matrices, along with a collection of high-level mathematical functions to operate on these data structures efficiently.\n",
        "\n",
        "NumPy Widely Used in Python:-\n",
        "\n",
        "1. Efficient Array Storage:\n",
        "NumPy provides a powerful n-dimensional array object that allows for efficient storage and manipulation of numerical data.\n",
        "\n",
        "2. Performance:\n",
        "NumPy is implemented in C and Fortran under the hood, making its operations much faster than standard Python sequences like lists.\n",
        "\n",
        "3. Mathematical Operations:\n",
        "It offers a wide range of mathematical functions, including algebra, statistics, trigonometry, and more, which can be applied directly to arrays.\n",
        "\n",
        "4. Broadcasting:\n",
        "This feature allows arithmetic operations to be performed on arrays of different shapes and sizes without writing explicit loops.\n",
        "\n",
        "5. Memory Efficiency:\n",
        "NumPy arrays consume less memory compared to traditional Python lists due to their homogeneous data type nature.\n",
        "\n",
        "6. Interoperability:\n",
        "NumPy integrates well with many other scientific libraries in Python, such as SciPy, Pandas, Matplotlib, TensorFlow, and Scikit-learn.\n",
        "\n",
        "7. Support for Advanced Operations:\n",
        "It supports advanced operations such as linear algebra, Fourier transforms, and random number generation.\n",
        "\n",
        "8. Standard for Data Exchange:\n",
        "Many scientific and machine learning libraries use NumPy arrays as their standard data exchange format, making it a core component of the scientific Python ecosystem."
      ],
      "metadata": {
        "id": "f32OiZYPz2ci"
      }
    },
    {
      "cell_type": "markdown",
      "source": [
        "#2 = How does broadcasting work in NumPy ?\n",
        "\n",
        "Ans = Broadcasting in NumPy is a method that allows arrays of different shapes to be used together in arithmetic operations without explicitly reshaping or copying data.\n",
        "\n",
        "When performing operations (like addition, subtraction, etc.) on two arrays of different shapes, NumPy automatically \"broadcasts\" the smaller array across the larger one so that their shapes become compatible.\n",
        "\n",
        "NumPy follows specific rules to make broadcasting possible:-\n",
        "\n",
        "1. Compare dimensions from right to left:\n",
        "\n",
        "The two arrays are compared element-wise starting from the last (rightmost) dimension.\n",
        "\n",
        "2. Dimensions are compatible if:\n",
        "\n",
        "They are equal, or\n",
        "\n",
        "One of them is 1.\n",
        "\n",
        "3. If the dimensions are not compatible, broadcasting will result in an error.\n",
        "\n",
        "4. The smaller array is \"stretched\" (not copied) virtually to match the shape of the larger array during the operation.\n",
        "\n",
        "Importance of Broadcasting:\n",
        "Memory efficiency: No actual replication of data takes place.\n",
        "Performance: Operations are vectorized and faster.\n",
        "Simplified code: Reduces the need for writing complex loops for array manipulation.\n",
        "\n",
        "Broadcasting in NumPy allows arrays of different shapes to participate in arithmetic operations by following specific compatibility rules. It avoids data duplication, enhances performance, and simplifies coding in numerical computations.\n"
      ],
      "metadata": {
        "id": "hQO9qTvt0fVy"
      }
    },
    {
      "cell_type": "markdown",
      "source": [
        "#3 = What is a Pandas DataFrame ?\n",
        "\n",
        "Ans = A Pandas DataFrame is a two-dimensional, labeled data structure provided by the Pandas library in Python. It is one of the most commonly used data structures for data analysis and data manipulation.\n",
        "\n",
        "Key Characteristics of a Pandas DataFrame:\n",
        "\n",
        "1. Tabular Format:\n",
        "It organizes data in rows and columns, similar to a table in a database or an Excel spreadsheet.\n",
        "\n",
        "2. Labeled Axes:\n",
        "\n",
        "Rows have an index.\n",
        "\n",
        "Columns have labels (column names).\n",
        "\n",
        "3. Heterogeneous Data:\n",
        "Unlike NumPy arrays, DataFrames can hold different data types in different columns (e.g., integers, strings, dates, etc.).\n",
        "\n",
        "4. Size-Mutable:\n",
        "You can add or delete rows and columns easily after the DataFrame is created.\n",
        "\n",
        "5. Integrated Handling of Missing Data:\n",
        "Pandas provides built-in support for identifying and handling missing or null values.\n",
        "\n",
        "6. Powerful Data Operations:\n",
        "\n",
        "Data filtering and selection.\n",
        "\n",
        "Sorting and grouping.\n",
        "\n",
        "Merging and joining datasets.\n",
        "\n",
        "Statistical and aggregate functions.\n",
        "\n",
        "7. Interoperability:\n",
        "Can read and write data to various formats such as CSV, Excel, SQL databases, and JSON.\n",
        "\n",
        "A Pandas DataFrame is a highly flexible and powerful data structure designed for data manipulation and analysis. It provides an intuitive way to work with structured data and is central to tasks in data science, machine learning, and data analytics.\n"
      ],
      "metadata": {
        "id": "buxp94c71Nky"
      }
    },
    {
      "cell_type": "markdown",
      "source": [
        "#4 = Explain the use of the groupby() method in Pandas ?\n",
        "\n",
        "Ans = The groupby() method in Pandas is used to group data based on the values in one or more columns. It enables splitting a dataset into groups, applying operations to each group independently, and then combining the results.\n",
        "\n",
        "This is often described as the \"split-apply-combine\" strategy.\n",
        "\n",
        "Key Purposes of groupby():\n",
        "\n",
        "1. Grouping:\n",
        "Divides the data into subsets based on one or more column values.\n",
        "\n",
        "2. Aggregation:\n",
        "Performs summary operations on each group, such as:\n",
        "\n",
        "Sum\n",
        "\n",
        "Mean\n",
        "\n",
        "Count\n",
        "\n",
        "Max / Min\n",
        "\n",
        "Median\n",
        "\n",
        "3. Transformation:\n",
        "Modifies data within groups while preserving the original structure.\n",
        "\n",
        "4. Filtering:\n",
        "Selects groups that satisfy certain conditions.\n",
        "\n",
        "Real-World Use Cases (Conceptually):\n",
        "\n",
        "Sales data: Grouping by region or salesperson to calculate total sales.\n",
        "\n",
        "Survey data: Grouping by age group to find average responses.\n",
        "\n",
        "School data: Grouping by class to find the highest-scoring student in each class.\n",
        "\n",
        "\n",
        "\n"
      ],
      "metadata": {
        "id": "bJ2qMGW21xJK"
      }
    },
    {
      "cell_type": "markdown",
      "source": [
        "#5 = Why is Seaborn preferred for statistical visualizations ?\n",
        "\n",
        "Ans = Seaborn is a powerful Python data visualization library built on top of Matplotlib. It is especially designed for statistical graphics, making it a preferred choice for data analysis and exploratory data visualization.\n",
        "\n",
        "Seaborn is preferred for statistical visualizations because it combines ease of use, built-in statistical functionality, and aesthetic graphics. Its close integration with Pandas and high-level commands make it especially useful for quick and insightful data exploration in analytical and scientific work.\n",
        "\n",
        "Why Seaborn is Preferred:-\n",
        "\n",
        "1. High-Level Interface:\n",
        "Seaborn provides a simpler and more intuitive API for creating complex visualizations, reducing the amount of code needed compared to Matplotlib.\n",
        "\n",
        "2. Built-in Statistical Plots:\n",
        "It includes many types of plots that are specifically designed for statistical analysis, such as:\n",
        "\n",
        "Distribution plots (histograms, KDE)\n",
        "\n",
        "Box plots\n",
        "\n",
        "Violin plots\n",
        "\n",
        "Regression plots\n",
        "\n",
        "Pair plots\n",
        "\n",
        "Heatmaps\n",
        "\n",
        "3. Automatic Handling of DataFrames:\n",
        "Seaborn works directly with Pandas DataFrames, allowing users to specify column names directly and making it easier to visualize tabular data.\n",
        "\n",
        "4. Aesthetically Pleasing Defaults:\n",
        "Seaborn applies attractive default styles and color palettes, producing visually appealing and publication-quality graphics without manual customization.\n",
        "\n",
        "5. Integration with Statistical Estimation:\n",
        "It supports statistical estimation and visualization in one step (e.g., plotting a regression line with confidence intervals).\n",
        "\n",
        "6. Multivariate Data Visualization:\n",
        "Seaborn makes it easy to visualize relationships between multiple variables simultaneously, which is critical in understanding complex datasets.\n",
        "\n",
        "7. Theme and Style Management:\n",
        "It offers convenient functions to control plot aesthetics (e.g., context, style, color palettes), enhancing the readability of statistical information.\n"
      ],
      "metadata": {
        "id": "UV9cWEOq2Tw6"
      }
    },
    {
      "cell_type": "markdown",
      "source": [
        "#6 = What are the differences between NumPy arrays and Python lists ?\n",
        "\n",
        "Ans = NumPy arrays and Python lists are both used to store collections of data, but they differ significantly in structure, functionality, and performance. Below are the key differences:\n",
        "\n",
        "1. Data Type Consistency\n",
        "\n",
        "NumPy Arrays:\n",
        "Elements must be of the same data type (homogeneous). This ensures faster and more efficient operations.\n",
        "\n",
        "Python Lists:\n",
        "Can hold mixed data types (heterogeneous), such as integers, strings, and floats in the same list.\n",
        "\n",
        "2. Performance and Speed\n",
        "\n",
        "NumPy Arrays:\n",
        "Operations are faster and more memory-efficient because they are implemented in C and support vectorized computations.\n",
        "\n",
        "Python Lists:\n",
        "Slower for numerical computations because operations involve Python-level loops and overhead.\n",
        "\n",
        "3. Functionality\n",
        "\n",
        "NumPy Arrays:\n",
        "Support a wide range of mathematical and scientific functions, including linear algebra, statistics, and broadcasting.\n",
        "\n",
        "Python Lists:\n",
        "Limited to basic data manipulation (append, remove, slice) and require loops for mathematical operations.\n",
        "\n",
        "4. Memory Efficiency\n",
        "\n",
        "NumPy Arrays:\n",
        "Use less memory due to fixed data types and contiguous memory allocation.\n",
        "\n",
        "Python Lists:\n",
        "Use more memory because each element is a separate Python object with additional overhead.\n",
        "\n",
        "5. Multidimensional Support\n",
        "\n",
        "NumPy Arrays:\n",
        "Naturally support multidimensional arrays (e.g., matrices, tensors).\n",
        "\n",
        "Python Lists:\n",
        "Can be nested to form multidimensional structures, but this is less efficient and more cumbersome to manipulate.\n",
        "\n",
        "6. Operations\n",
        "\n",
        "NumPy Arrays:\n",
        "Support element-wise operations (e.g., array1 + array2 adds corresponding elements directly).\n",
        "\n",
        "Python Lists:\n",
        "The + operator performs concatenation, not element-wise addition.\n",
        "\n",
        "7. Broadcasting\n",
        "\n",
        "NumPy Arrays:\n",
        "Allow operations between arrays of different shapes using broadcasting rules.\n",
        "\n",
        "Python Lists:\n",
        "Do not support broadcasting; dimensions must match exactly for operations to work.\n",
        "\n",
        "\n",
        "\n"
      ],
      "metadata": {
        "id": "Rtj4S2u324Ry"
      }
    },
    {
      "cell_type": "markdown",
      "source": [
        "#7 = What is a heatmap, and when should it be used ?\n",
        "\n",
        "Ans = A heatmap is a data visualization technique that uses color gradients to represent the magnitude or intensity of values in a matrix or tabular format. Each cell in the heatmap corresponds to a value, and the color of the cell reflects how large or small that value is relative to others.\n",
        "\n",
        "Characteristics of a Heatmap:\n",
        "\n",
        "1. Color-Coded Representation:\n",
        "\n",
        "Colors (often ranging from cool to warm) represent different ranges of data values.\n",
        "\n",
        "2. Two-Dimensional Structure:\n",
        "\n",
        "Typically used to display data with two categorical or indexable variables (rows and columns).\n",
        "\n",
        "3. Intensity Visualization:\n",
        "\n",
        "Helps in identifying patterns, correlations, and anomalies within datasets.\n",
        "\n",
        "=> A heatmap is most useful in the following scenarios:\n",
        "\n",
        "1. Correlation Analysis:\n",
        "\n",
        "To visualize the correlation matrix of variables in a dataset.\n",
        "\n",
        "Helps to identify which variables are positively or negatively correlated.\n",
        "\n",
        "2. Pattern Recognition:\n",
        "\n",
        "To detect trends, clusters, or outliers in data.\n",
        "\n",
        "Common in biological data (e.g., gene expression), sales trends, or web analytics.\n",
        "\n",
        "3. Comparison Across Categories:\n",
        "\n",
        "Useful for comparing values across multiple categories or groups.\n",
        "\n",
        "For example, comparing sales across different regions and months.\n",
        "\n",
        "4. Large Data Summarization:\n",
        "\n",
        "To condense and interpret large datasets by providing a visual summary.\n",
        "\n",
        "5. Matrix-Like Data Presentation:\n",
        "\n",
        "When data is inherently two-dimensional (e.g., confusion matrices in machine learning)."
      ],
      "metadata": {
        "id": "hGYg1B9n3lmh"
      }
    },
    {
      "cell_type": "markdown",
      "source": [
        "#8 = What does the term “vectorized operation” mean in NumPy ?\n",
        "\n",
        "Ans = The term “vectorized operation” in NumPy refers to the process of performing element-wise operations on entire arrays without using explicit loops in Python. These operations are executed internally in optimized, compiled code (typically C or Fortran), which makes them faster and more efficient than traditional looping.\n",
        "\n",
        "Key Characteristics of Vectorized Operations:\n",
        "1. Element-wise Execution:\n",
        "\n",
        "The operation is applied to each element of an array simultaneously, not one at a time using a loop.\n",
        "\n",
        "2. No Explicit Loops Required:\n",
        "\n",
        "Users do not need to write for or while loops for element-wise operations; NumPy handles this internally.\n",
        "\n",
        "3. High Performance:\n",
        "\n",
        "Since vectorized operations run in compiled code, they are significantly faster and use less memory than equivalent operations written in pure Python.\n",
        "\n",
        "4. Simplified Syntax:\n",
        "\n",
        "Vectorized expressions are more concise, readable, and less error-prone compared to loop-based code\n",
        "\n",
        "A vectorized operation in NumPy means applying operations to whole arrays without writing explicit loops, using optimized low-level implementations. It enhances both performance and code simplicity, making it a core advantage of using NumPy for numerical computations."
      ],
      "metadata": {
        "id": "yi_PS2P84Vjh"
      }
    },
    {
      "cell_type": "markdown",
      "source": [
        "#9 = How does Matplotlib differ from Plotly ?\n",
        "\n",
        "Ans= Matplotlib and Plotly are both popular Python libraries for data visualization, but they differ significantly in their features, capabilities, and use cases.\n",
        "\n",
        "1. Visualization Type\n",
        "Matplotlib:\n",
        "Designed primarily for static plots (non-interactive), such as line charts, bar plots, scatter plots, and histograms.\n",
        "Suitable for traditional, publication-quality graphics.\n",
        "\n",
        "Plotly:\n",
        "Built for interactive plots with features like tooltips, zooming, and panning.\n",
        "Ideal for web-based dashboards and data exploration.\n",
        "\n",
        "2. Interactivity\n",
        "Matplotlib:\n",
        "Limited interactivity; mostly used for generating static images (e.g., PNG, PDF).\n",
        "\n",
        "Plotly:\n",
        "Highly interactive; plots respond to mouse events, and are suitable for web apps or dynamic presentations.\n",
        "\n",
        "3. Ease of Use\n",
        "Matplotlib:\n",
        "More manual and customizable, but can be verbose and requires more code for complex plots.\n",
        "\n",
        "Plotly:\n",
        "Offers a more user-friendly API for creating complex and interactive plots with less code.\n",
        "\n",
        "4. Integration\n",
        "Matplotlib:\n",
        "Well-integrated with Jupyter Notebooks, LaTeX, and scientific computing environments.\n",
        "\n",
        "Plotly:\n",
        "Integrates smoothly with web frameworks (like Dash), Jupyter Notebooks, and Plotly Cloud for sharing online.\n",
        "\n",
        "5. Output Formats\n",
        "Matplotlib:\n",
        "Outputs static files (e.g., .png, .pdf, .svg) for print or offline use.\n",
        "\n",
        "Plotly:\n",
        "Outputs interactive HTML files or embeds for web applications and presentations.\n",
        "\n",
        "6. Learning Curve\n",
        "Matplotlib:\n",
        "Has a steeper learning curve, especially for advanced customization.\n",
        "\n",
        "Plotly:\n",
        "Generally easier to learn for creating interactive and visually appealing charts quickly.\n",
        "\n",
        "7. Customization\n",
        "Matplotlib:\n",
        "Highly customizable, but requires more detailed control over plot elements.\n",
        "\n",
        "Plotly:\n",
        "Customizable through structured configurations but may be less flexible for low-level graphic adjustments.\n",
        "\n"
      ],
      "metadata": {
        "id": "nc5M8z2649iZ"
      }
    },
    {
      "cell_type": "markdown",
      "source": [
        "#10 = What is the significance of hierarchical indexing in Pandas ?\n",
        "\n",
        "Ans = Hierarchical indexing, also known as MultiIndexing, is a powerful feature in Pandas that allows you to have multiple levels of indexes (row or column labels) on a DataFrame or Series.\n",
        "\n",
        "Hierarchical Indexing Significant:-\n",
        "\n",
        "1. Handling Multi-Dimensional Data in 2D Structures\n",
        "\n",
        "Hierarchical indexing lets you represent and manipulate higher-dimensional data (more than two dimensions) within a two-dimensional DataFrame or one-dimensional Series. This helps to organize complex datasets compactly.\n",
        "\n",
        "2. Enhanced Data Organization\n",
        "\n",
        "By having multiple index levels, you can group and categorize data at different granularities. For example, data can be indexed first by country, then by city, then by year — all within the same DataFrame.\n",
        "\n",
        "3. Facilitates Advanced Data Selection\n",
        "\n",
        "It allows more flexible and precise data slicing, filtering, and querying at various levels of the index hierarchy without flattening the data.\n",
        "\n",
        "4. Enables Grouping and Aggregation\n",
        "\n",
        "Hierarchical indexes integrate naturally with grouping and aggregation operations, simplifying multi-level summary statistics.\n",
        "\n",
        "5. Improves Readability and Data Relationships\n",
        "\n",
        "By explicitly showing relationships between different index levels, hierarchical indexing improves clarity, making data easier to interpret.\n",
        "\n",
        "6. Supports Reshaping Operations\n",
        "\n",
        "Functions like stack, unstack, and pivot rely on hierarchical indexing to reshape data between long and wide formats seamlessly."
      ],
      "metadata": {
        "id": "fghnKMDs5dlB"
      }
    },
    {
      "cell_type": "markdown",
      "source": [
        "#11 = What is the role of Seaborn’s pairplot() function ?\n",
        "\n",
        "Ans = The pairplot() function in Seaborn is used for exploratory data analysis by creating a matrix of scatter plots and histograms that visualize pairwise relationships between multiple variables in a dataset.\n",
        "\n",
        "Seaborn’s pairplot() is a convenient function for generating a grid of plots that reveal relationships and distributions across multiple variables at once. It’s widely used for initial data exploration and to gain insights into the structure of datasets before deeper analysis.\n",
        "\n",
        "Key Purposes of pairplot():\n",
        "\n",
        "1. Visualizing Pairwise Relationships:\n",
        "\n",
        "It plots scatter plots for every pair of numerical variables, showing how they relate to each other.\n",
        "\n",
        "2. Displaying Distributions:\n",
        "\n",
        "The diagonal of the plot matrix typically shows the distribution (histogram or KDE plot) of each variable individually.\n",
        "\n",
        "3. Detecting Correlations and Patterns:\n",
        "\n",
        "By examining all pairs, you can identify correlations, clusters, or outliers across variables.\n",
        "\n",
        "4. Comparing Multiple Variables Simultaneously:\n",
        "Allows for quick, comprehensive visualization of how all numerical variables interact in a dataset.\n",
        "\n",
        "5. Grouping by Categories:\n",
        "Optionally, you can specify a categorical variable to color points by group, helping to understand class-wise differences."
      ],
      "metadata": {
        "id": "wt3R43eh6Nbp"
      }
    },
    {
      "cell_type": "markdown",
      "source": [
        "#12 = What is the purpose of the describe() function in Pandas ?\n",
        "\n",
        "Ans = The describe() function in Pandas is used to generate summary statistics of a DataFrame or Series. It provides a quick overview of the distribution and central tendencies of numerical (and optionally categorical) data.\n",
        "\n",
        "The describe() function provides a concise statistical summary of data columns, serving as an essential tool for initial data analysis, quality checks, and understanding the dataset's characteristics before performing more complex operations.\n",
        "\n",
        "Key Purposes of describe():\n",
        "\n",
        "1. Statistical Summary:\n",
        "\n",
        "Computes common descriptive statistics such as:\n",
        "\n",
        "Count (number of non-missing values)\n",
        "\n",
        "Mean (average value)\n",
        "\n",
        "Standard Deviation (measure of spread)\n",
        "\n",
        "Minimum and Maximum values\n",
        "\n",
        "Quartiles (25%, 50% (median), 75%)\n",
        "\n",
        "2. Data Exploration:\n",
        "Helps in understanding the basic properties and distribution of the dataset quickly.\n",
        "\n",
        "3. Identifying Data Issues:\n",
        "Can reveal the presence of missing values, extreme values (outliers), or unexpected distributions.\n",
        "\n",
        "4. Applicable to Numerical and Categorical Data:\n",
        "By default, it summarizes numerical columns, but it can also provide statistics for categorical data such as counts, unique values, top (most frequent) values, and frequency."
      ],
      "metadata": {
        "id": "uNtspOGf6mqQ"
      }
    },
    {
      "cell_type": "markdown",
      "source": [
        "#13 = Why is handling missing data important in Pandas ?\n",
        "\n",
        "Ans = Handling missing data is a critical aspect of data analysis and preprocessing, especially when working with real-world datasets using libraries like Pandas. Missing values can arise due to various reasons, such as data entry errors, non-responses in surveys, or issues during data collection. If not addressed properly, these missing values can lead to inaccurate analyses and misleading conclusions.\n",
        "\n",
        "Importance of Handling Missing Data in Pandas:\n",
        "\n",
        "1. Ensures Data Integrity\n",
        "\n",
        "Missing data can distort statistical analyses and machine learning models. For instance, calculating averages or performing regression analysis on datasets with missing values can yield biased or incorrect results. By handling missing data appropriately, analysts can maintain the integrity and reliability of their analyses.\n",
        "\n",
        "\n",
        "2. Prevents Algorithmic Errors\n",
        "\n",
        "Many machine learning algorithms, especially those implemented in libraries like scikit-learn, do not accept datasets with missing values. Attempting to train models on incomplete data can lead to errors or suboptimal performance. Therefore, preprocessing steps to handle missing data are essential for successful model training.\n",
        "\n",
        "\n",
        "3. Reduces Bias\n",
        "\n",
        "If missing data is not handled properly, it can introduce bias into the analysis. For example, if data is missing systematically (e.g., certain groups are underrepresented), the results may not be generalizable. Identifying the nature of missing data—whether it's Missing Completely at Random (MCAR), Missing at Random (MAR), or Missing Not at Random (MNAR)—can guide the selection of appropriate handling techniques.\n",
        "\n",
        "\n",
        "\n",
        "4. Improves Model Accuracy\n",
        "\n",
        "Imputing missing values with appropriate techniques, such as using the mean, median, or mode, or employing more sophisticated methods like regression imputation, can lead to more accurate and robust machine learning models. Proper imputation ensures that the model has a complete dataset to learn from, improving its predictive performance.\n",
        "\n",
        "\n",
        "5. Enhances Data Usability\n",
        "\n",
        "Datasets with missing values are often less useful for analysis. By addressing missing data, either by imputing values or removing incomplete records, analysts can create cleaner datasets that are more suitable for analysis and decision-making."
      ],
      "metadata": {
        "id": "yxl7ZIzJLGyk"
      }
    },
    {
      "cell_type": "markdown",
      "source": [
        "# 14 =What are the benefits of using Plotly for data visualization ?\n",
        "\n",
        "Ans = Plotly is a powerful and versatile data visualization library that has gained widespread adoption among data scientists, analysts, and developers. Its unique combination of interactivity, customization, and integration capabilities makes it a preferred choice for creating dynamic and insightful visualizations.\n",
        "\n",
        "\n",
        "Key Benefits of Using Plotly for Data Visualization:-\n",
        "\n",
        "1. Interactive and Engaging Visualizations\n",
        "\n",
        "Plotly enables the creation of highly interactive charts that allow users to zoom, pan, and hover over data points to view additional information. This interactivity enhances data exploration and makes it easier to uncover insights and patterns.\n",
        "\n",
        "2. Wide Range of Chart Types\n",
        "\n",
        "With support for over 40 unique chart types, including 3D plots, geographic maps, and network graphs, Plotly provides the versatility to represent data in various formats to suit different analysis requirements.\n",
        "\n",
        "3. Seamless Integration with Python Ecosystem\n",
        "\n",
        "Plotly integrates smoothly with popular Python libraries such as Pandas, NumPy, and SciPy, enabling efficient data manipulation and analysis workflows. It also works well with Jupyter Notebooks, making it convenient for interactive data exploration and sharing visualizations in notebooks\n",
        "\n",
        "4. Customization and Aesthetic Appeal\n",
        "\n",
        "Plotly offers extensive customization options, allowing users to fine-tune every aspect of their visualizations, from colors and fonts to axes and annotations. This flexibility ensures that the visualizations align with specific needs and branding guidelines, resulting in professional-looking plots.\n",
        "\n",
        "5. Cross-Platform Compatibility\n",
        "\n",
        "Plotly generates visualizations in multiple formats, including HTML and static images, ensuring compatibility across different platforms and easy sharing online. This makes it accessible to a broader audience and fosters collaboration across teams.\n",
        "\n",
        "6. Integration with Dash for Web Applications\n",
        "\n",
        "Plotly integrates seamlessly with Dash, a Python framework for building web applications. This integration enables users to create interactive dashboards and web applications using Plotly visualizations, making it a powerful tool for data-driven web development.\n",
        "\n",
        "7. Open-Source and Community Support\n",
        "\n",
        "Plotly is open-source and has an active and supportive community of users, providing resources, tutorials, and examples to help users get started and troubleshoot any issues. The official Plotly documentation is comprehensive, well-maintained, and includes a wide range of examples, making it easier for users to learn and utilize the library effectively."
      ],
      "metadata": {
        "id": "EhNYHOQMLpvM"
      }
    },
    {
      "cell_type": "markdown",
      "source": [
        "# 15 = How does NumPy handle multidimensional arrays ?\n",
        "\n",
        "Ans = NumPy, a fundamental library for numerical computing in Python, offers robust support for handling multidimensional arrays through its core data structure, the ndarray. This structure enables efficient storage and manipulation of large datasets with multiple dimensions.\n",
        "\n",
        "NumPy Handles Multidimensional Arrays:-\n",
        "\n",
        "1. Memory Layout\n",
        "\n",
        "NumPy stores arrays in contiguous blocks of memory (row-major order by default, like C).\n",
        "\n",
        "A multidimensional array is essentially a 1D block of memory interpreted with shape and strides.\n",
        "\n",
        "2. Shape and Strides\n",
        "\n",
        "shape: Tuple indicating the size of each dimension.\n",
        "\n",
        "strides: Tuple that tells how many bytes to skip in memory to move to the next element along each axis.\n",
        "\n",
        "These two properties help NumPy perform fast indexing and slicing without copying data\n",
        "\n",
        "3. Indexing and Slicing\n",
        "\n",
        "You can access elements using multiple indices: a[i][j] or a[i, j].\n",
        "\n",
        "Supports slicing across dimensions: a[:, 1] (all rows, column 1).\n",
        "\n",
        "4. Broadcasting\n",
        "\n",
        "Allows operations between arrays of different shapes by automatically expanding dimensions when possible.\n",
        "\n",
        "5. Reshaping and Transposing\n",
        "\n",
        "Use reshape(), transpose(), and swapaxes() to reorganize dimensions without copying data (in most cases).\n"
      ],
      "metadata": {
        "id": "e08gx3bNMUor"
      }
    },
    {
      "cell_type": "markdown",
      "source": [
        "#16 = What is the role of Bokeh in data visualization?\n",
        "\n",
        "Ans = Bokeh is an interactive visualization library for Python that enables the creation of rich, browser-based visualizations. Its role is to bridge the gap between complex data and accessible, interactive graphics, particularly for modern web applications and dashboards.\n",
        "\n",
        "Key Roles of Bokeh:\n",
        "\n",
        "1. Interactive Visualizations\n",
        "\n",
        "Unlike static plots (e.g., in Matplotlib), Bokeh enables tools like:\n",
        "\n",
        "Zoom\n",
        "\n",
        "Pan\n",
        "\n",
        "Hover tooltips\n",
        "\n",
        "Range sliders\n",
        "\n",
        "Linked plots\n",
        "\n",
        "2. Web-Ready Output\n",
        "\n",
        "Renders output as HTML, JavaScript, and JSON, making it seamless to embed in:\n",
        "\n",
        "Web apps (via Flask, Django)\n",
        "\n",
        "Jupyter Notebooks\n",
        "\n",
        "Standalone HTML files\n",
        "\n",
        "3. Dashboard Creation\n",
        "\n",
        "Integrates with tools like Panel and Holoviews for building custom data apps or dashboards.\n",
        "\n",
        "Can use real-time data streams and callbacks via Bokeh Server.\n",
        "\n",
        "4. Large and Streaming Data\n",
        "\n",
        "Designed to handle large datasets by pushing data efficiently to the browser.\n",
        "\n",
        "Supports real-time streaming of data for live-updating plots.\n",
        "\n",
        "5. Custom JS Callbacks\n",
        "\n",
        "Allows embedding of JavaScript callbacks for advanced interactivity.\n",
        "\n",
        "Useful for triggering behaviors when users click, zoom, or update values.\n",
        "\n"
      ],
      "metadata": {
        "id": "2oZsCTmsNF3r"
      }
    },
    {
      "cell_type": "markdown",
      "source": [
        "#17 = Explain the difference between apply() and map() in Pandas ?\n",
        "\n",
        "Ans =  Difference:-\n",
        "1. map() in Pandas:\n",
        "\n",
        "The map() function is used only with Series (i.e., one-dimensional data).\n",
        "\n",
        "It performs an element-wise transformation, applying a function to each individual value in the Series.\n",
        "\n",
        "It is mainly used for:\n",
        "\n",
        "Data transformation (e.g., converting or formatting values),\n",
        "\n",
        "Value mapping (e.g., replacing values using a dictionary or another Series).\n",
        "\n",
        "2. apply() in Pandas:\n",
        "The apply() function is more versatile and works with both Series and DataFrames.\n",
        "\n",
        "When used with a Series, it behaves similarly to map()—applying a function to each element.\n",
        "\n",
        "When used with a DataFrame, it can apply a function:\n",
        "\n",
        "Across rows (with axis=1), or\n",
        "\n",
        "Across columns (with axis=0).\n",
        "\n",
        "It supports more complex operations, such as row-wise calculations, conditional logic, or aggregations.\n",
        "\n",
        "\n"
      ],
      "metadata": {
        "id": "_cY-1SSXNkP7"
      }
    },
    {
      "cell_type": "markdown",
      "source": [
        "# 18 = What are some advanced features of NumPy ?\n",
        "\n",
        "Ans = Advanced Features of NumPy:-\n",
        "\n",
        "1. Broadcasting\n",
        "\n",
        "Allows arithmetic operations on arrays of different shapes by automatically expanding dimensions to be compatible without copying data.\n",
        "\n",
        "Enables vectorized operations and eliminates the need for explicit loops.\n",
        "\n",
        "2. Fancy Indexing and Boolean Masking\n",
        "\n",
        "Supports indexing arrays with other arrays (integer arrays or boolean masks) to select or modify subsets of data efficiently.\n",
        "\n",
        "Useful for conditional filtering and complex data selection.\n",
        "\n",
        "3. Structured Arrays and Record Arrays\n",
        "\n",
        "Provide a way to store heterogeneous data (like columns of a table) within a single NumPy array, supporting named fields with different data types.\n",
        "\n",
        "4. Memory Mapping\n",
        "\n",
        "Enables accessing data stored in files on disk as if it were an array in memory, allowing efficient handling of large datasets that do not fit entirely in RAM.\n",
        "\n",
        "5. Universal Functions (ufuncs)\n",
        "\n",
        "Highly optimized element-wise functions implemented in C, allowing fast vectorized computation.\n",
        "\n",
        "Support broadcasting, type casting, and can be combined to create complex operations.\n",
        "\n",
        "6. Linear Algebra Module (numpy.linalg)\n",
        "\n",
        "Provides advanced matrix operations such as inversion, eigenvalues, singular value decomposition (SVD), solving linear systems, etc.\n",
        "\n",
        "7. FFT (Fast Fourier Transform)\n",
        "\n",
        "Efficient algorithms to compute Fourier transforms on arrays for signal processing tasks.\n",
        "\n",
        "8. Random Number Generation\n",
        "\n",
        "Advanced random sampling and distributions available through numpy.random with fine control and reproducibility.\n",
        "\n",
        "9. Masked Arrays\n",
        "\n",
        "Arrays that can have invalid or missing entries masked out for computations, useful in handling incomplete or corrupted data.\n",
        "\n",
        "10. Integration with C/Fortran (via ctypes and f2py)\n",
        "\n",
        "Enables high-performance extensions and calling compiled code from Python."
      ],
      "metadata": {
        "id": "5DQqSSmhODJi"
      }
    },
    {
      "cell_type": "markdown",
      "source": [
        "# 19 = How does Pandas simplify time series analysis ?\n",
        "\n",
        "Ans = Pandas Simplifies Time Series Analysis:-\n",
        "\n",
        "1. DateTime Indexing\n",
        "\n",
        "Pandas provides native support for datetime objects and allows you to use timestamps as indices (DatetimeIndex), making it easy to slice, filter, and align data by time.\n",
        "\n",
        "2. Resampling and Frequency Conversion\n",
        "\n",
        "Pandas makes it straightforward to resample time series data to different frequencies (e.g., from daily to monthly), using aggregation functions like sum, mean, or custom methods.\n",
        "\n",
        "3. Time Shifts and Lags\n",
        "\n",
        "It supports shifting data forward or backward in time (lags and leads), useful for creating features like rolling windows or calculating differences.\n",
        "\n",
        "4. Rolling and Expanding Windows\n",
        "\n",
        "Built-in functions for rolling window calculations (moving averages, sums, etc.) and expanding windows allow smoothing and trend detection over time.\n",
        "\n",
        "5. Handling Missing Data in Time Series\n",
        "\n",
        "Provides methods to fill, interpolate, or drop missing values with respect to time index, preserving temporal continuity.\n",
        "\n",
        "6. Date Range Generation\n",
        "\n",
        "Functions to generate regular date ranges or business day calendars (date_range(), bdate_range()), which help in creating time-indexed data.\n",
        "\n",
        "7. Time Zone Handling\n",
        "\n",
        "Supports timezone-aware timestamps and easy conversion between time zones.\n",
        "\n",
        "8. Powerful Time-Based Grouping\n",
        "\n",
        "Enables grouping by time intervals (e.g., grouping data by year, quarter, or custom periods) for summarization or analysis.\n",
        "\n",
        "9. Integration with NumPy’s datetime64 and timedelta64\n",
        "\n",
        "Efficient storage and computation with native NumPy date/time types under the hood.\n",
        "\n"
      ],
      "metadata": {
        "id": "91d2nDysOjlC"
      }
    },
    {
      "cell_type": "markdown",
      "source": [
        "# 20 = What is the role of a pivot table in Pandas ?\n",
        "\n",
        "Ans = A pivot table in Pandas is a powerful tool used for data summarization, aggregation, and reorganization. It helps transform and analyze data by reshaping a DataFrame, enabling easier comparison and insights.\n",
        "\n",
        "The pivot table in Pandas serves as a flexible, easy-to-use mechanism for summarizing large datasets, organizing data across multiple dimensions, and extracting meaningful patterns from categorical variables with aggregation functions — all without writing complex group-by code manually.\n",
        "\n",
        "Key Functions of a Pivot Table:-\n",
        "\n",
        "1. Summarizing Data\n",
        "\n",
        "Aggregates data by grouping based on one or more categorical variables (rows and columns).\n",
        "\n",
        "Applies aggregation functions (e.g., sum, mean, count) to summarize numerical data.\n",
        "\n",
        "2. Reshaping Data\n",
        "\n",
        "Converts long (stacked) data into a wide format, spreading values across columns grouped by unique categories.\n",
        "\n",
        "Helps view multi-dimensional data in a concise, tabular form.\n",
        "\n",
        "3. Multi-Level Indexing\n",
        "\n",
        "Supports hierarchical row and column indices, allowing complex grouping and drilling down into different levels of detail.\n",
        "\n",
        "4. Facilitating Comparison\n",
        "\n",
        "Makes it easier to compare aggregated values across categories and subcategories.\n",
        "\n",
        "5. Handling Missing Data\n",
        "\n",
        "Automatically fills missing combinations of groupings with NaN or a specified fill value."
      ],
      "metadata": {
        "id": "9P40jNS1O_GT"
      }
    },
    {
      "cell_type": "markdown",
      "source": [
        "# 21 = Why is NumPy’s array slicing faster than Python’s list slicing ?\n",
        "\n",
        "Ans = NumPy Array Slicing is Faster than Python List Slicing:-\n",
        "\n",
        "1. Contiguous Memory Storage\n",
        "\n",
        "NumPy arrays are stored in contiguous blocks of memory (similar to arrays in C), which allows efficient, low-level access and avoids pointer chasing.\n",
        "\n",
        "Python lists, on the other hand, are arrays of references (pointers) to objects scattered in memory, requiring extra indirection and more CPU cache misses.\n",
        "\n",
        "2. View vs. Copy\n",
        "\n",
        "When you slice a NumPy array, it typically returns a view of the original data (no data is copied), just a new array object referencing the same memory with different strides.\n",
        "\n",
        "Python list slicing creates a new list and copies the references to elements into it, which is a more expensive operation.\n",
        "\n",
        "3. Homogeneous Data Types\n",
        "\n",
        "NumPy arrays are homogeneous — all elements have the same type and size — enabling optimized, vectorized operations and fast memory access.\n",
        "\n",
        "Python lists are heterogeneous, so every element access involves dynamic type checks and indirections.\n",
        "\n",
        "4. Low-Level Optimizations\n",
        "\n",
        "NumPy operations are implemented in compiled C code, optimized for performance, whereas Python list operations are interpreted bytecode running at higher overhead.\n",
        "\n",
        "In short, NumPy’s array slicing is faster because it works on a compact, typed block of memory and returns views rather than copies, avoiding overhead inherent in Python’s more flexible but less efficient list data structure."
      ],
      "metadata": {
        "id": "PSYlZQJsPV5C"
      }
    },
    {
      "cell_type": "markdown",
      "source": [
        "# 22 = What are some common use cases for Seaborn ?\n",
        "\n",
        "Ans = Common Use Cases for Seaborn:-\n",
        "\n",
        "1. Statistical Data Visualization\n",
        "\n",
        "Seaborn is designed to make it easy to create statistically informed plots, such as distributions, categorical plots, and regression visualizations.\n",
        "\n",
        "2. Exploratory Data Analysis (EDA)\n",
        "\n",
        "Widely used for quickly visualizing and understanding data patterns, relationships, and distributions during the early stages of analysis.\n",
        "\n",
        "3. Visualizing Distributions\n",
        "\n",
        "Plotting histograms, KDE (kernel density estimates), rug plots, and ECDFs to understand the distribution of numerical data.\n",
        "\n",
        "4. Categorical Data Visualization\n",
        "\n",
        "Creating bar plots, box plots, violin plots, strip plots, and swarm plots to analyze data grouped by categories.\n",
        "\n",
        "5. Correlation and Relationship Analysis\n",
        "\n",
        "Scatter plots, regression plots, and pair plots to explore relationships between variables and detect correlations.\n",
        "\n",
        "6. Heatmaps and Cluster Maps\n",
        "\n",
        "Visualizing matrices, correlation heatmaps, and clustered data to identify patterns in tabular data.\n",
        "\n",
        "7. Multi-Variable Plotting\n",
        "\n",
        "Handling multi-dimensional data by using faceting (e.g., FacetGrid, pairplot) to visualize subsets or relationships across multiple variables.\n",
        "\n",
        "8. Enhancing Matplotlib Plots\n",
        "\n",
        "Seaborn integrates closely with Matplotlib, providing a high-level interface with attractive default styles and color palettes.\n",
        "\n",
        "Seaborn’s common use cases revolve around creating clear, informative, and aesthetically pleasing statistical visualizations that help data scientists and analysts explore and communicate complex datasets effectively."
      ],
      "metadata": {
        "id": "gu2M7Jo4PrX6"
      }
    },
    {
      "cell_type": "markdown",
      "source": [
        "# PRACTICAL QUESIONS"
      ],
      "metadata": {
        "id": "HDZ3uRZwQBCy"
      }
    },
    {
      "cell_type": "code",
      "execution_count": 1,
      "metadata": {
        "id": "4vMG2rihzK6H",
        "colab": {
          "base_uri": "https://localhost:8080/"
        },
        "outputId": "d38b275b-91b5-4f0a-a047-4acde2565aa6"
      },
      "outputs": [
        {
          "output_type": "stream",
          "name": "stdout",
          "text": [
            "Array:\n",
            "[[ 1  2  3  4]\n",
            " [ 5  6  7  8]\n",
            " [ 9 10 11 12]]\n",
            "\n",
            "Sum of each row:\n",
            "[10 26 42]\n"
          ]
        }
      ],
      "source": [
        "#1 = How do you create a 2D NumPy array and calculate the sum of each row ?\n",
        "import numpy as np\n",
        "\n",
        "# Create a 2D NumPy array (3 rows, 4 columns)\n",
        "arr = np.array([[1, 2, 3, 4],\n",
        "                [5, 6, 7, 8],\n",
        "                [9, 10, 11, 12]])\n",
        "\n",
        "# Calculate sum of each row (axis=1)\n",
        "row_sums = arr.sum(axis=1)\n",
        "\n",
        "print(\"Array:\")\n",
        "print(arr)\n",
        "print(\"\\nSum of each row:\")\n",
        "print(row_sums)"
      ]
    },
    {
      "cell_type": "code",
      "source": [
        "#2 = Write a Pandas script to find the mean of a specific column in a DataFrame ?\n",
        "import pandas as pd\n",
        "\n",
        "# Create a sample DataFrame\n",
        "data = {\n",
        "    'Name': ['Alice', 'Bob', 'Charlie', 'David'],\n",
        "    'Age': [25, 30, 35, 40],\n",
        "    'Salary': [50000, 60000, 70000, 80000]\n",
        "}\n",
        "\n",
        "df = pd.DataFrame(data)\n",
        "\n",
        "# Calculate mean of the 'Salary' column\n",
        "mean_salary = df['Salary'].mean()\n",
        "\n",
        "print(\"DataFrame:\")\n",
        "print(df)\n",
        "print(\"\\nMean of 'Salary' column:\", mean_salary)"
      ],
      "metadata": {
        "colab": {
          "base_uri": "https://localhost:8080/"
        },
        "id": "pyytvzgpQlZC",
        "outputId": "48951201-9864-4809-9462-7c12e960b563"
      },
      "execution_count": 2,
      "outputs": [
        {
          "output_type": "stream",
          "name": "stdout",
          "text": [
            "DataFrame:\n",
            "      Name  Age  Salary\n",
            "0    Alice   25   50000\n",
            "1      Bob   30   60000\n",
            "2  Charlie   35   70000\n",
            "3    David   40   80000\n",
            "\n",
            "Mean of 'Salary' column: 65000.0\n"
          ]
        }
      ]
    },
    {
      "cell_type": "code",
      "source": [
        "#3 = Create a scatter plot using Matplotlib ?\n",
        "import matplotlib.pyplot as plt\n",
        "\n",
        "# Sample data\n",
        "x = [5, 7, 8, 7, 2, 17, 2, 9, 4, 11]\n",
        "y = [99, 86, 87, 88, 100, 86, 103, 87, 94, 78]\n",
        "\n",
        "# Create scatter plot\n",
        "plt.scatter(x, y, color='blue', marker='o')\n",
        "\n",
        "# Add title and labels\n",
        "plt.title(\"Sample Scatter Plot\")\n",
        "plt.xlabel(\"X-axis values\")\n",
        "plt.ylabel(\"Y-axis values\")\n",
        "\n",
        "# Show plot\n",
        "plt.show()"
      ],
      "metadata": {
        "colab": {
          "base_uri": "https://localhost:8080/",
          "height": 472
        },
        "id": "wNZBjhf_XWyY",
        "outputId": "4d675ae8-9fba-4cf9-b9eb-2d783b4967f4"
      },
      "execution_count": 3,
      "outputs": [
        {
          "output_type": "display_data",
          "data": {
            "text/plain": [
              "<Figure size 640x480 with 1 Axes>"
            ],
            "image/png": "[encoded data removed]"
          },
          "metadata": {}
        }
      ]
    },
    {
      "cell_type": "code",
      "source": [
        "# 4 =How do you calculate the correlation matrix using Seaborn and visualize it with a heatmap ?\n",
        "import pandas as pd\n",
        "import seaborn as sns\n",
        "import matplotlib.pyplot as plt\n",
        "\n",
        "# Sample DataFrame\n",
        "data = {\n",
        "    'Age': [25, 30, 35, 40, 45],\n",
        "    'Salary': [50000, 60000, 70000, 80000, 90000],\n",
        "    'Experience': [2, 5, 7, 10, 12],\n",
        "    'Satisfaction': [3, 4, 4, 5, 5]\n",
        "}\n",
        "df = pd.DataFrame(data)\n",
        "\n",
        "# Calculate correlation matrix\n",
        "corr_matrix = df.corr()\n",
        "\n",
        "print(\"Correlation Matrix:\")\n",
        "print(corr_matrix)\n",
        "\n",
        "# Plot heatmap\n",
        "plt.figure(figsize=(6, 4))\n",
        "sns.heatmap(corr_matrix, annot=True, cmap='coolwarm', fmt=\".2f\")\n",
        "plt.title(\"Correlation Heatmap\")\n",
        "plt.show()"
      ],
      "metadata": {
        "colab": {
          "base_uri": "https://localhost:8080/",
          "height": 495
        },
        "id": "J4rx93gJXh3u",
        "outputId": "278e34e0-4eec-4f94-db08-7b124c892ada"
      },
      "execution_count": 4,
      "outputs": [
        {
          "output_type": "stream",
          "name": "stdout",
          "text": [
            "Correlation Matrix:\n",
            "                   Age    Salary  Experience  Satisfaction\n",
            "Age           1.000000  1.000000    0.997609      0.944911\n",
            "Salary        1.000000  1.000000    0.997609      0.944911\n",
            "Experience    0.997609  0.997609    1.000000      0.965275\n",
            "Satisfaction  0.944911  0.944911    0.965275      1.000000\n"
          ]
        },
        {
          "output_type": "display_data",
          "data": {
            "text/plain": [
              "<Figure size 600x400 with 2 Axes>"
            ],
            "image/png": "[encoded data removed]"
          },
          "metadata": {}
        }
      ]
    },
    {
      "cell_type": "code",
      "source": [
        "# 5 = Generate a bar plot using Plotly ?\n",
        "import plotly.express as px\n",
        "import pandas as pd\n",
        "\n",
        "# Sample data\n",
        "data = {\n",
        "    'Fruits': ['Apples', 'Oranges', 'Bananas', 'Grapes', 'Peaches'],\n",
        "    'Quantity': [10, 15, 7, 12, 9]\n",
        "}\n",
        "df = pd.DataFrame(data)\n",
        "\n",
        "# Create bar plot\n",
        "fig = px.bar(df, x='Fruits', y='Quantity', title='Fruit Quantity Bar Plot')\n",
        "\n",
        "# Show plot\n",
        "fig.show()"
      ],
      "metadata": {
        "colab": {
          "base_uri": "https://localhost:8080/",
          "height": 542
        },
        "id": "CdVLtvPRXqD-",
        "outputId": "c9e48c1e-1401-4c8c-eb3e-9b7b4d13a632"
      },
      "execution_count": 5,
      "outputs": [
        {
          "output_type": "display_data",
          "data": {
            "text/html": [
              "<html>\n",
              "<head><meta charset=\"utf-8\" /></head>\n",
              "<body>\n",
              "    <div>            <script src=\"https://cdnjs.cloudflare.com/ajax/libs/mathjax/2.7.5/MathJax.js?config=TeX-AMS-MML_SVG\"></script><script type=\"text/javascript\">if (window.MathJax && window.MathJax.Hub && window.MathJax.Hub.Config) {window.MathJax.Hub.Config({SVG: {font: \"STIX-Web\"}});}</script>                <script type=\"text/javascript\">window.PlotlyConfig = {MathJaxConfig: 'local'};</script>\n",
              "        <script charset=\"utf-8\" src=\"https://cdn.plot.ly/plotly-2.35.2.min.js\"></script>                <div id=\"837ff36d-ff54-4870-83a9-2845e61a7a21\" class=\"plotly-graph-div\" style=\"height:525px; width:100%;\"></div>            <script type=\"text/javascript\">                                    window.PLOTLYENV=window.PLOTLYENV || {};                                    if (document.getElementById(\"837ff36d-ff54-4870-83a9-2845e61a7a21\")) {                    Plotly.newPlot(                        \"837ff36d-ff54-4870-83a9-2845e61a7a21\",                        [{\"alignmentgroup\":\"True\",\"hovertemplate\":\"Fruits=%{x}\\u003cbr\\u003eQuantity=%{y}\\u003cextra\\u003e\\u003c\\u002fextra\\u003e\",\"legendgroup\":\"\",\"marker\":{\"color\":\"#636efa\",\"pattern\":{\"shape\":\"\"}},\"name\":\"\",\"offsetgroup\":\"\",\"orientation\":\"v\",\"showlegend\":false,\"textposition\":\"auto\",\"x\":[\"Apples\",\"Oranges\",\"Bananas\",\"Grapes\",\"Peaches\"],\"xaxis\":\"x\",\"y\":[10,15,7,12,9],\"yaxis\":\"y\",\"type\":\"bar\"}],                        {\"template\":{\"data\":{\"histogram2dcontour\":[{\"type\":\"histogram2dcontour\",\"colorbar\":{\"outlinewidth\":0,\"ticks\":\"\"},\"colorscale\":[[0.0,\"#0d0887\"],[0.1111111111111111,\"#46039f\"],[0.2222222222222222,\"#7201a8\"],[0.3333333333333333,\"#9c179e\"],[0.4444444444444444,\"#bd3786\"],[0.5555555555555556,\"#d8576b\"],[0.6666666666666666,\"#ed7953\"],[0.7777777777777778,\"#fb9f3a\"],[0.8888888888888888,\"#fdca26\"],[1.0,\"#f0f921\"]]}],\"choropleth\":[{\"type\":\"choropleth\",\"colorbar\":{\"outlinewidth\":0,\"ticks\":\"\"}}],\"histogram2d\":[{\"type\":\"histogram2d\",\"colorbar\":{\"outlinewidth\":0,\"ticks\":\"\"},\"colorscale\":[[0.0,\"#0d0887\"],[0.1111111111111111,\"#46039f\"],[0.2222222222222222,\"#7201a8\"],[0.3333333333333333,\"#9c179e\"],[0.4444444444444444,\"#bd3786\"],[0.5555555555555556,\"#d8576b\"],[0.6666666666666666,\"#ed7953\"],[0.7777777777777778,\"#fb9f3a\"],[0.8888888888888888,\"#fdca26\"],[1.0,\"#f0f921\"]]}],\"heatmap\":[{\"type\":\"heatmap\",\"colorbar\":{\"outlinewidth\":0,\"ticks\":\"\"},\"colorscale\":[[0.0,\"#0d0887\"],[0.1111111111111111,\"#46039f\"],[0.2222222222222222,\"#7201a8\"],[0.3333333333333333,\"#9c179e\"],[0.4444444444444444,\"#bd3786\"],[0.5555555555555556,\"#d8576b\"],[0.6666666666666666,\"#ed7953\"],[0.7777777777777778,\"#fb9f3a\"],[0.8888888888888888,\"#fdca26\"],[1.0,\"#f0f921\"]]}],\"heatmapgl\":[{\"type\":\"heatmapgl\",\"colorbar\":{\"outlinewidth\":0,\"ticks\":\"\"},\"colorscale\":[[0.0,\"#0d0887\"],[0.1111111111111111,\"#46039f\"],[0.2222222222222222,\"#7201a8\"],[0.3333333333333333,\"#9c179e\"],[0.4444444444444444,\"#bd3786\"],[0.5555555555555556,\"#d8576b\"],[0.6666666666666666,\"#ed7953\"],[0.7777777777777778,\"#fb9f3a\"],[0.8888888888888888,\"#fdca26\"],[1.0,\"#f0f921\"]]}],\"contourcarpet\":[{\"type\":\"contourcarpet\",\"colorbar\":{\"outlinewidth\":0,\"ticks\":\"\"}}],\"contour\":[{\"type\":\"contour\",\"colorbar\":{\"outlinewidth\":0,\"ticks\":\"\"},\"colorscale\":[[0.0,\"#0d0887\"],[0.1111111111111111,\"#46039f\"],[0.2222222222222222,\"#7201a8\"],[0.3333333333333333,\"#9c179e\"],[0.4444444444444444,\"#bd3786\"],[0.5555555555555556,\"#d8576b\"],[0.6666666666666666,\"#ed7953\"],[0.7777777777777778,\"#fb9f3a\"],[0.8888888888888888,\"#fdca26\"],[1.0,\"#f0f921\"]]}],\"surface\":[{\"type\":\"surface\",\"colorbar\":{\"outlinewidth\":0,\"ticks\":\"\"},\"colorscale\":[[0.0,\"#0d0887\"],[0.1111111111111111,\"#46039f\"],[0.2222222222222222,\"#7201a8\"],[0.3333333333333333,\"#9c179e\"],[0.4444444444444444,\"#bd3786\"],[0.5555555555555556,\"#d8576b\"],[0.6666666666666666,\"#ed7953\"],[0.7777777777777778,\"#fb9f3a\"],[0.8888888888888888,\"#fdca26\"],[1.0,\"#f0f921\"]]}],\"mesh3d\":[{\"type\":\"mesh3d\",\"colorbar\":{\"outlinewidth\":0,\"ticks\":\"\"}}],\"scatter\":[{\"fillpattern\":{\"fillmode\":\"overlay\",\"size\":10,\"solidity\":0.2},\"type\":\"scatter\"}],\"parcoords\":[{\"type\":\"parcoords\",\"line\":{\"colorbar\":{\"outlinewidth\":0,\"ticks\":\"\"}}}],\"scatterpolargl\":[{\"type\":\"scatterpolargl\",\"marker\":{\"colorbar\":{\"outlinewidth\":0,\"ticks\":\"\"}}}],\"bar\":[{\"error_x\":{\"color\":\"#2a3f5f\"},\"error_y\":{\"color\":\"#2a3f5f\"},\"marker\":{\"line\":{\"color\":\"#E5ECF6\",\"width\":0.5},\"pattern\":{\"fillmode\":\"overlay\",\"size\":10,\"solidity\":0.2}},\"type\":\"bar\"}],\"scattergeo\":[{\"type\":\"scattergeo\",\"marker\":{\"colorbar\":{\"outlinewidth\":0,\"ticks\":\"\"}}}],\"scatterpolar\":[{\"type\":\"scatterpolar\",\"marker\":{\"colorbar\":{\"outlinewidth\":0,\"ticks\":\"\"}}}],\"histogram\":[{\"marker\":{\"pattern\":{\"fillmode\":\"overlay\",\"size\":10,\"solidity\":0.2}},\"type\":\"histogram\"}],\"scattergl\":[{\"type\":\"scattergl\",\"marker\":{\"colorbar\":{\"outlinewidth\":0,\"ticks\":\"\"}}}],\"scatter3d\":[{\"type\":\"scatter3d\",\"line\":{\"colorbar\":{\"outlinewidth\":0,\"ticks\":\"\"}},\"marker\":{\"colorbar\":{\"outlinewidth\":0,\"ticks\":\"\"}}}],\"scattermapbox\":[{\"type\":\"scattermapbox\",\"marker\":{\"colorbar\":{\"outlinewidth\":0,\"ticks\":\"\"}}}],\"scatterternary\":[{\"type\":\"scatterternary\",\"marker\":{\"colorbar\":{\"outlinewidth\":0,\"ticks\":\"\"}}}],\"scattercarpet\":[{\"type\":\"scattercarpet\",\"marker\":{\"colorbar\":{\"outlinewidth\":0,\"ticks\":\"\"}}}],\"carpet\":[{\"aaxis\":{\"endlinecolor\":\"#2a3f5f\",\"gridcolor\":\"white\",\"linecolor\":\"white\",\"minorgridcolor\":\"white\",\"startlinecolor\":\"#2a3f5f\"},\"baxis\":{\"endlinecolor\":\"#2a3f5f\",\"gridcolor\":\"white\",\"linecolor\":\"white\",\"minorgridcolor\":\"white\",\"startlinecolor\":\"#2a3f5f\"},\"type\":\"carpet\"}],\"table\":[{\"cells\":{\"fill\":{\"color\":\"#EBF0F8\"},\"line\":{\"color\":\"white\"}},\"header\":{\"fill\":{\"color\":\"#C8D4E3\"},\"line\":{\"color\":\"white\"}},\"type\":\"table\"}],\"barpolar\":[{\"marker\":{\"line\":{\"color\":\"#E5ECF6\",\"width\":0.5},\"pattern\":{\"fillmode\":\"overlay\",\"size\":10,\"solidity\":0.2}},\"type\":\"barpolar\"}],\"pie\":[{\"automargin\":true,\"type\":\"pie\"}]},\"layout\":{\"autotypenumbers\":\"strict\",\"colorway\":[\"#636efa\",\"#EF553B\",\"#00cc96\",\"#ab63fa\",\"#FFA15A\",\"#19d3f3\",\"#FF6692\",\"#B6E880\",\"#FF97FF\",\"#FECB52\"],\"font\":{\"color\":\"#2a3f5f\"},\"hovermode\":\"closest\",\"hoverlabel\":{\"align\":\"left\"},\"paper_bgcolor\":\"white\",\"plot_bgcolor\":\"#E5ECF6\",\"polar\":{\"bgcolor\":\"#E5ECF6\",\"angularaxis\":{\"gridcolor\":\"white\",\"linecolor\":\"white\",\"ticks\":\"\"},\"radialaxis\":{\"gridcolor\":\"white\",\"linecolor\":\"white\",\"ticks\":\"\"}},\"ternary\":{\"bgcolor\":\"#E5ECF6\",\"aaxis\":{\"gridcolor\":\"white\",\"linecolor\":\"white\",\"ticks\":\"\"},\"baxis\":{\"gridcolor\":\"white\",\"linecolor\":\"white\",\"ticks\":\"\"},\"caxis\":{\"gridcolor\":\"white\",\"linecolor\":\"white\",\"ticks\":\"\"}},\"coloraxis\":{\"colorbar\":{\"outlinewidth\":0,\"ticks\":\"\"}},\"colorscale\":{\"sequential\":[[0.0,\"#0d0887\"],[0.1111111111111111,\"#46039f\"],[0.2222222222222222,\"#7201a8\"],[0.3333333333333333,\"#9c179e\"],[0.4444444444444444,\"#bd3786\"],[0.5555555555555556,\"#d8576b\"],[0.6666666666666666,\"#ed7953\"],[0.7777777777777778,\"#fb9f3a\"],[0.8888888888888888,\"#fdca26\"],[1.0,\"#f0f921\"]],\"sequentialminus\":[[0.0,\"#0d0887\"],[0.1111111111111111,\"#46039f\"],[0.2222222222222222,\"#7201a8\"],[0.3333333333333333,\"#9c179e\"],[0.4444444444444444,\"#bd3786\"],[0.5555555555555556,\"#d8576b\"],[0.6666666666666666,\"#ed7953\"],[0.7777777777777778,\"#fb9f3a\"],[0.8888888888888888,\"#fdca26\"],[1.0,\"#f0f921\"]],\"diverging\":[[0,\"#8e0152\"],[0.1,\"#c51b7d\"],[0.2,\"#de77ae\"],[0.3,\"#f1b6da\"],[0.4,\"#fde0ef\"],[0.5,\"#f7f7f7\"],[0.6,\"#e6f5d0\"],[0.7,\"#b8e186\"],[0.8,\"#7fbc41\"],[0.9,\"#4d9221\"],[1,\"#276419\"]]},\"xaxis\":{\"gridcolor\":\"white\",\"linecolor\":\"white\",\"ticks\":\"\",\"title\":{\"standoff\":15},\"zerolinecolor\":\"white\",\"automargin\":true,\"zerolinewidth\":2},\"yaxis\":{\"gridcolor\":\"white\",\"linecolor\":\"white\",\"ticks\":\"\",\"title\":{\"standoff\":15},\"zerolinecolor\":\"white\",\"automargin\":true,\"zerolinewidth\":2},\"scene\":{\"xaxis\":{\"backgroundcolor\":\"#E5ECF6\",\"gridcolor\":\"white\",\"linecolor\":\"white\",\"showbackground\":true,\"ticks\":\"\",\"zerolinecolor\":\"white\",\"gridwidth\":2},\"yaxis\":{\"backgroundcolor\":\"#E5ECF6\",\"gridcolor\":\"white\",\"linecolor\":\"white\",\"showbackground\":true,\"ticks\":\"\",\"zerolinecolor\":\"white\",\"gridwidth\":2},\"zaxis\":{\"backgroundcolor\":\"#E5ECF6\",\"gridcolor\":\"white\",\"linecolor\":\"white\",\"showbackground\":true,\"ticks\":\"\",\"zerolinecolor\":\"white\",\"gridwidth\":2}},\"shapedefaults\":{\"line\":{\"color\":\"#2a3f5f\"}},\"annotationdefaults\":{\"arrowcolor\":\"#2a3f5f\",\"arrowhead\":0,\"arrowwidth\":1},\"geo\":{\"bgcolor\":\"white\",\"landcolor\":\"#E5ECF6\",\"subunitcolor\":\"white\",\"showland\":true,\"showlakes\":true,\"lakecolor\":\"white\"},\"title\":{\"x\":0.05},\"mapbox\":{\"style\":\"light\"}}},\"xaxis\":{\"anchor\":\"y\",\"domain\":[0.0,1.0],\"title\":{\"text\":\"Fruits\"}},\"yaxis\":{\"anchor\":\"x\",\"domain\":[0.0,1.0],\"title\":{\"text\":\"Quantity\"}},\"legend\":{\"tracegroupgap\":0},\"title\":{\"text\":\"Fruit Quantity Bar Plot\"},\"barmode\":\"relative\"},                        {\"responsive\": true}                    ).then(function(){\n",
              "                            \n",
              "var gd = document.getElementById('837ff36d-ff54-4870-83a9-2845e61a7a21');\n",
              "var x = new MutationObserver(function (mutations, observer) {{\n",
              "        var display = window.getComputedStyle(gd).display;\n",
              "        if (!display || display === 'none') {{\n",
              "            console.log([gd, 'removed!']);\n",
              "            Plotly.purge(gd);\n",
              "            observer.disconnect();\n",
              "        }}\n",
              "}});\n",
              "\n",
              "// Listen for the removal of the full notebook cells\n",
              "var notebookContainer = gd.closest('#notebook-container');\n",
              "if (notebookContainer) {{\n",
              "    x.observe(notebookContainer, {childList: true});\n",
              "}}\n",
              "\n",
              "// Listen for the clearing of the current output cell\n",
              "var outputEl = gd.closest('.output');\n",
              "if (outputEl) {{\n",
              "    x.observe(outputEl, {childList: true});\n",
              "}}\n",
              "\n",
              "                        })                };                            </script>        </div>\n",
              "</body>\n",
              "</html>"
            ]
          },
          "metadata": {}
        }
      ]
    },
    {
      "cell_type": "code",
      "source": [
        "# 6 = Create a DataFrame and add a new column based on an existing column ?\n",
        "import pandas as pd\n",
        "\n",
        "# Create sample DataFrame\n",
        "data = {\n",
        "    'Name': ['Alice', 'Bob', 'Charlie', 'David'],\n",
        "    'Age': [25, 30, 35, 40]\n",
        "}\n",
        "df = pd.DataFrame(data)\n",
        "\n",
        "# Add new column 'Age_in_5_years' by adding 5 to 'Age' column\n",
        "df['Age_in_5_years'] = df['Age'] + 5\n",
        "\n",
        "print(df)"
      ],
      "metadata": {
        "colab": {
          "base_uri": "https://localhost:8080/"
        },
        "id": "NQ8Yfq0LXylO",
        "outputId": "490df7da-5f8f-4ca9-cf53-df1e4bdf143d"
      },
      "execution_count": 6,
      "outputs": [
        {
          "output_type": "stream",
          "name": "stdout",
          "text": [
            "      Name  Age  Age_in_5_years\n",
            "0    Alice   25              30\n",
            "1      Bob   30              35\n",
            "2  Charlie   35              40\n",
            "3    David   40              45\n"
          ]
        }
      ]
    },
    {
      "cell_type": "code",
      "source": [
        "# 7 = Write a program to perform element-wise multiplication of two NumPy arrays ?\n",
        "import numpy as np\n",
        "\n",
        "# Define two arrays\n",
        "arr1 = np.array([1, 2, 3, 4])\n",
        "arr2 = np.array([5, 6, 7, 8])\n",
        "\n",
        "# Element-wise multiplication\n",
        "result = arr1 * arr2\n",
        "\n",
        "print(\"Array 1:\", arr1)\n",
        "print(\"Array 2:\", arr2)\n",
        "print(\"Element-wise multiplication result:\", result)"
      ],
      "metadata": {
        "colab": {
          "base_uri": "https://localhost:8080/"
        },
        "id": "pNZrRJwlX7jm",
        "outputId": "dfbc20bf-043f-45ec-ee5e-5e1088314b61"
      },
      "execution_count": 7,
      "outputs": [
        {
          "output_type": "stream",
          "name": "stdout",
          "text": [
            "Array 1: [1 2 3 4]\n",
            "Array 2: [5 6 7 8]\n",
            "Element-wise multiplication result: [ 5 12 21 32]\n"
          ]
        }
      ]
    },
    {
      "cell_type": "code",
      "source": [
        "# 8 = Create a line plot with multiple lines using Matplotlib ?\n",
        "import matplotlib.pyplot as plt\n",
        "\n",
        "# Sample data for multiple lines\n",
        "x = [1, 2, 3, 4, 5]\n",
        "\n",
        "y1 = [2, 3, 5, 7, 11]\n",
        "y2 = [1, 4, 6, 8, 10]\n",
        "y3 = [3, 5, 2, 6, 9]\n",
        "\n",
        "# Create the plot\n",
        "plt.plot(x, y1, label='Line 1', marker='o')\n",
        "plt.plot(x, y2, label='Line 2', marker='s')\n",
        "plt.plot(x, y3, label='Line 3', marker='^')\n",
        "\n",
        "# Add title and labels\n",
        "plt.title('Multiple Lines Plot')\n",
        "plt.xlabel('X-axis')\n",
        "plt.ylabel('Y-axis')\n",
        "\n",
        "# Show legend\n",
        "plt.legend()\n",
        "\n",
        "# Show the plot\n",
        "plt.show()"
      ],
      "metadata": {
        "colab": {
          "base_uri": "https://localhost:8080/",
          "height": 472
        },
        "id": "kZa-yDVeYC3G",
        "outputId": "864cafcc-d187-4829-a96b-65f4c426ad18"
      },
      "execution_count": 8,
      "outputs": [
        {
          "output_type": "display_data",
          "data": {
            "text/plain": [
              "<Figure size 640x480 with 1 Axes>"
            ],
            "image/png": "[encoded data removed]"
          },
          "metadata": {}
        }
      ]
    },
    {
      "cell_type": "code",
      "source": [
        "# 9 = Generate a Pandas DataFrame and filter rows where a column value is greater than a threshold ?\n",
        "import pandas as pd\n",
        "\n",
        "# Create a sample DataFrame\n",
        "data = {\n",
        "    'Name': ['Alice', 'Bob', 'Charlie', 'David'],\n",
        "    'Age': [25, 30, 35, 40],\n",
        "    'Salary': [50000, 60000, 70000, 80000]\n",
        "}\n",
        "df = pd.DataFrame(data)\n",
        "\n",
        "# Filter rows where 'Salary' is greater than 60000\n",
        "filtered_df = df[df['Salary'] > 60000]\n",
        "\n",
        "print(\"Original DataFrame:\")\n",
        "print(df)\n",
        "\n",
        "print(\"\\nFiltered DataFrame (Salary > 60000):\")\n",
        "print(filtered_df)"
      ],
      "metadata": {
        "colab": {
          "base_uri": "https://localhost:8080/"
        },
        "id": "mHgpGgTLYJ7W",
        "outputId": "fb457093-fd42-4e20-d7bc-30c0e6ac287d"
      },
      "execution_count": 9,
      "outputs": [
        {
          "output_type": "stream",
          "name": "stdout",
          "text": [
            "Original DataFrame:\n",
            "      Name  Age  Salary\n",
            "0    Alice   25   50000\n",
            "1      Bob   30   60000\n",
            "2  Charlie   35   70000\n",
            "3    David   40   80000\n",
            "\n",
            "Filtered DataFrame (Salary > 60000):\n",
            "      Name  Age  Salary\n",
            "2  Charlie   35   70000\n",
            "3    David   40   80000\n"
          ]
        }
      ]
    },
    {
      "cell_type": "code",
      "source": [
        "# 10 = Create a histogram using Seaborn to visualize a distribution ?\n",
        "import seaborn as sns\n",
        "import matplotlib.pyplot as plt\n",
        "\n",
        "# Sample data: ages of people\n",
        "ages = [22, 25, 29, 35, 40, 42, 45, 47, 50, 52, 55, 58, 60, 62, 65, 70]\n",
        "\n",
        "# Create a histogram\n",
        "sns.histplot(ages, bins=8, kde=True, color='skyblue')\n",
        "\n",
        "# Add title and labels\n",
        "plt.title('Age Distribution Histogram')\n",
        "plt.xlabel('Age')\n",
        "plt.ylabel('Frequency')\n",
        "\n",
        "# Show plot\n",
        "plt.show()"
      ],
      "metadata": {
        "colab": {
          "base_uri": "https://localhost:8080/",
          "height": 472
        },
        "id": "AHQqj7mcYR7m",
        "outputId": "281ae38d-0291-4a2c-e770-7e2506206f13"
      },
      "execution_count": 10,
      "outputs": [
        {
          "output_type": "display_data",
          "data": {
            "text/plain": [
              "<Figure size 640x480 with 1 Axes>"
            ],
            "image/png": "[encoded data removed]"
          },
          "metadata": {}
        }
      ]
    },
    {
      "cell_type": "code",
      "source": [
        "# 11 = Perform matrix multiplication using NumPy ?\n",
        "import numpy as np\n",
        "\n",
        "# Define two matrices\n",
        "A = np.array([[1, 2, 3],\n",
        "              [4, 5, 6]])\n",
        "\n",
        "B = np.array([[7, 8],\n",
        "              [9, 10],\n",
        "              [11, 12]])\n",
        "\n",
        "# Perform matrix multiplication\n",
        "result = np.dot(A, B)\n",
        "\n",
        "print(\"Matrix A:\")\n",
        "print(A)\n",
        "\n",
        "print(\"\\nMatrix B:\")\n",
        "print(B)\n",
        "\n",
        "print(\"\\nResult of A x B:\")\n",
        "print(result)"
      ],
      "metadata": {
        "colab": {
          "base_uri": "https://localhost:8080/"
        },
        "id": "HCF9s-nUYZym",
        "outputId": "053b41d1-0dc9-46fe-fb3a-cab59fc55a79"
      },
      "execution_count": 11,
      "outputs": [
        {
          "output_type": "stream",
          "name": "stdout",
          "text": [
            "Matrix A:\n",
            "[[1 2 3]\n",
            " [4 5 6]]\n",
            "\n",
            "Matrix B:\n",
            "[[ 7  8]\n",
            " [ 9 10]\n",
            " [11 12]]\n",
            "\n",
            "Result of A x B:\n",
            "[[ 58  64]\n",
            " [139 154]]\n"
          ]
        }
      ]
    },
    {
      "cell_type": "code",
      "source": [
        "#12 = Use Pandas to load a CSV file and display its first 5 rows?\n",
        "import pandas as pd\n",
        "from io import StringIO\n",
        "\n",
        "# Simulate CSV content as a string\n",
        "csv_data = \"\"\"Name,Age,Salary\n",
        "Alice,25,50000\n",
        "Bob,30,60000\n",
        "Carol,27,52000\n",
        "Dave,35,58000\n",
        "Emma,29,62000\n",
        "Frank,33,55000\n",
        "Grace,28,63000\n",
        "\"\"\"\n",
        "\n",
        "# Use StringIO to simulate a file object from the string\n",
        "csv_file = StringIO(csv_data)\n",
        "\n",
        "# Load the CSV data into a DataFrame\n",
        "df = pd.read_csv(csv_file)\n",
        "\n",
        "# Display the first 5 rows\n",
        "print(df.head())"
      ],
      "metadata": {
        "colab": {
          "base_uri": "https://localhost:8080/"
        },
        "id": "me7GpUSfY1R2",
        "outputId": "4958234c-f1bb-4cfd-956a-43ea29cb5fdf"
      },
      "execution_count": 15,
      "outputs": [
        {
          "output_type": "stream",
          "name": "stdout",
          "text": [
            "    Name  Age  Salary\n",
            "0  Alice   25   50000\n",
            "1    Bob   30   60000\n",
            "2  Carol   27   52000\n",
            "3   Dave   35   58000\n",
            "4   Emma   29   62000\n"
          ]
        }
      ]
    },
    {
      "cell_type": "code",
      "source": [
        "# 13 = Create a 3D scatter plot using Plotly. ?\n",
        "import plotly.express as px\n",
        "import pandas as pd\n",
        "\n",
        "# Sample data for 3D scatter plot\n",
        "data = {\n",
        "    'X': [1, 2, 3, 4, 5],\n",
        "    'Y': [10, 11, 12, 13, 14],\n",
        "    'Z': [5, 4, 3, 2, 1],\n",
        "    'Category': ['A', 'B', 'A', 'B', 'A']\n",
        "}\n",
        "df = pd.DataFrame(data)\n",
        "\n",
        "# Create 3D scatter plot\n",
        "fig = px.scatter_3d(df, x='X', y='Y', z='Z', color='Category',\n",
        "                    title='3D Scatter Plot Example', size=[10, 20, 30, 20, 10])\n",
        "\n",
        "# Show plot\n",
        "fig.show()"
      ],
      "metadata": {
        "colab": {
          "base_uri": "https://localhost:8080/",
          "height": 542
        },
        "id": "1MYrznrdY8Tn",
        "outputId": "55649f00-b66b-4a21-c307-93f0184fb084"
      },
      "execution_count": 16,
      "outputs": [
        {
          "output_type": "display_data",
          "data": {
            "text/html": [
              "<html>\n",
              "<head><meta charset=\"utf-8\" /></head>\n",
              "<body>\n",
              "    <div>            <script src=\"https://cdnjs.cloudflare.com/ajax/libs/mathjax/2.7.5/MathJax.js?config=TeX-AMS-MML_SVG\"></script><script type=\"text/javascript\">if (window.MathJax && window.MathJax.Hub && window.MathJax.Hub.Config) {window.MathJax.Hub.Config({SVG: {font: \"STIX-Web\"}});}</script>                <script type=\"text/javascript\">window.PlotlyConfig = {MathJaxConfig: 'local'};</script>\n",
              "        <script charset=\"utf-8\" src=\"https://cdn.plot.ly/plotly-2.35.2.min.js\"></script>                <div id=\"f41ff856-d337-42eb-beab-2bcc414013aa\" class=\"plotly-graph-div\" style=\"height:525px; width:100%;\"></div>            <script type=\"text/javascript\">                                    window.PLOTLYENV=window.PLOTLYENV || {};                                    if (document.getElementById(\"f41ff856-d337-42eb-beab-2bcc414013aa\")) {                    Plotly.newPlot(                        \"f41ff856-d337-42eb-beab-2bcc414013aa\",                        [{\"hovertemplate\":\"Category=A\\u003cbr\\u003eX=%{x}\\u003cbr\\u003eY=%{y}\\u003cbr\\u003eZ=%{z}\\u003cbr\\u003esize=%{marker.size}\\u003cextra\\u003e\\u003c\\u002fextra\\u003e\",\"legendgroup\":\"A\",\"marker\":{\"color\":\"#636efa\",\"size\":[10,30,10],\"sizemode\":\"area\",\"sizeref\":0.075,\"symbol\":\"circle\"},\"mode\":\"markers\",\"name\":\"A\",\"scene\":\"scene\",\"showlegend\":true,\"x\":[1,3,5],\"y\":[10,12,14],\"z\":[5,3,1],\"type\":\"scatter3d\"},{\"hovertemplate\":\"Category=B\\u003cbr\\u003eX=%{x}\\u003cbr\\u003eY=%{y}\\u003cbr\\u003eZ=%{z}\\u003cbr\\u003esize=%{marker.size}\\u003cextra\\u003e\\u003c\\u002fextra\\u003e\",\"legendgroup\":\"B\",\"marker\":{\"color\":\"#EF553B\",\"size\":[20,20],\"sizemode\":\"area\",\"sizeref\":0.075,\"symbol\":\"circle\"},\"mode\":\"markers\",\"name\":\"B\",\"scene\":\"scene\",\"showlegend\":true,\"x\":[2,4],\"y\":[11,13],\"z\":[4,2],\"type\":\"scatter3d\"}],                        {\"template\":{\"data\":{\"histogram2dcontour\":[{\"type\":\"histogram2dcontour\",\"colorbar\":{\"outlinewidth\":0,\"ticks\":\"\"},\"colorscale\":[[0.0,\"#0d0887\"],[0.1111111111111111,\"#46039f\"],[0.2222222222222222,\"#7201a8\"],[0.3333333333333333,\"#9c179e\"],[0.4444444444444444,\"#bd3786\"],[0.5555555555555556,\"#d8576b\"],[0.6666666666666666,\"#ed7953\"],[0.7777777777777778,\"#fb9f3a\"],[0.8888888888888888,\"#fdca26\"],[1.0,\"#f0f921\"]]}],\"choropleth\":[{\"type\":\"choropleth\",\"colorbar\":{\"outlinewidth\":0,\"ticks\":\"\"}}],\"histogram2d\":[{\"type\":\"histogram2d\",\"colorbar\":{\"outlinewidth\":0,\"ticks\":\"\"},\"colorscale\":[[0.0,\"#0d0887\"],[0.1111111111111111,\"#46039f\"],[0.2222222222222222,\"#7201a8\"],[0.3333333333333333,\"#9c179e\"],[0.4444444444444444,\"#bd3786\"],[0.5555555555555556,\"#d8576b\"],[0.6666666666666666,\"#ed7953\"],[0.7777777777777778,\"#fb9f3a\"],[0.8888888888888888,\"#fdca26\"],[1.0,\"#f0f921\"]]}],\"heatmap\":[{\"type\":\"heatmap\",\"colorbar\":{\"outlinewidth\":0,\"ticks\":\"\"},\"colorscale\":[[0.0,\"#0d0887\"],[0.1111111111111111,\"#46039f\"],[0.2222222222222222,\"#7201a8\"],[0.3333333333333333,\"#9c179e\"],[0.4444444444444444,\"#bd3786\"],[0.5555555555555556,\"#d8576b\"],[0.6666666666666666,\"#ed7953\"],[0.7777777777777778,\"#fb9f3a\"],[0.8888888888888888,\"#fdca26\"],[1.0,\"#f0f921\"]]}],\"heatmapgl\":[{\"type\":\"heatmapgl\",\"colorbar\":{\"outlinewidth\":0,\"ticks\":\"\"},\"colorscale\":[[0.0,\"#0d0887\"],[0.1111111111111111,\"#46039f\"],[0.2222222222222222,\"#7201a8\"],[0.3333333333333333,\"#9c179e\"],[0.4444444444444444,\"#bd3786\"],[0.5555555555555556,\"#d8576b\"],[0.6666666666666666,\"#ed7953\"],[0.7777777777777778,\"#fb9f3a\"],[0.8888888888888888,\"#fdca26\"],[1.0,\"#f0f921\"]]}],\"contourcarpet\":[{\"type\":\"contourcarpet\",\"colorbar\":{\"outlinewidth\":0,\"ticks\":\"\"}}],\"contour\":[{\"type\":\"contour\",\"colorbar\":{\"outlinewidth\":0,\"ticks\":\"\"},\"colorscale\":[[0.0,\"#0d0887\"],[0.1111111111111111,\"#46039f\"],[0.2222222222222222,\"#7201a8\"],[0.3333333333333333,\"#9c179e\"],[0.4444444444444444,\"#bd3786\"],[0.5555555555555556,\"#d8576b\"],[0.6666666666666666,\"#ed7953\"],[0.7777777777777778,\"#fb9f3a\"],[0.8888888888888888,\"#fdca26\"],[1.0,\"#f0f921\"]]}],\"surface\":[{\"type\":\"surface\",\"colorbar\":{\"outlinewidth\":0,\"ticks\":\"\"},\"colorscale\":[[0.0,\"#0d0887\"],[0.1111111111111111,\"#46039f\"],[0.2222222222222222,\"#7201a8\"],[0.3333333333333333,\"#9c179e\"],[0.4444444444444444,\"#bd3786\"],[0.5555555555555556,\"#d8576b\"],[0.6666666666666666,\"#ed7953\"],[0.7777777777777778,\"#fb9f3a\"],[0.8888888888888888,\"#fdca26\"],[1.0,\"#f0f921\"]]}],\"mesh3d\":[{\"type\":\"mesh3d\",\"colorbar\":{\"outlinewidth\":0,\"ticks\":\"\"}}],\"scatter\":[{\"fillpattern\":{\"fillmode\":\"overlay\",\"size\":10,\"solidity\":0.2},\"type\":\"scatter\"}],\"parcoords\":[{\"type\":\"parcoords\",\"line\":{\"colorbar\":{\"outlinewidth\":0,\"ticks\":\"\"}}}],\"scatterpolargl\":[{\"type\":\"scatterpolargl\",\"marker\":{\"colorbar\":{\"outlinewidth\":0,\"ticks\":\"\"}}}],\"bar\":[{\"error_x\":{\"color\":\"#2a3f5f\"},\"error_y\":{\"color\":\"#2a3f5f\"},\"marker\":{\"line\":{\"color\":\"#E5ECF6\",\"width\":0.5},\"pattern\":{\"fillmode\":\"overlay\",\"size\":10,\"solidity\":0.2}},\"type\":\"bar\"}],\"scattergeo\":[{\"type\":\"scattergeo\",\"marker\":{\"colorbar\":{\"outlinewidth\":0,\"ticks\":\"\"}}}],\"scatterpolar\":[{\"type\":\"scatterpolar\",\"marker\":{\"colorbar\":{\"outlinewidth\":0,\"ticks\":\"\"}}}],\"histogram\":[{\"marker\":{\"pattern\":{\"fillmode\":\"overlay\",\"size\":10,\"solidity\":0.2}},\"type\":\"histogram\"}],\"scattergl\":[{\"type\":\"scattergl\",\"marker\":{\"colorbar\":{\"outlinewidth\":0,\"ticks\":\"\"}}}],\"scatter3d\":[{\"type\":\"scatter3d\",\"line\":{\"colorbar\":{\"outlinewidth\":0,\"ticks\":\"\"}},\"marker\":{\"colorbar\":{\"outlinewidth\":0,\"ticks\":\"\"}}}],\"scattermapbox\":[{\"type\":\"scattermapbox\",\"marker\":{\"colorbar\":{\"outlinewidth\":0,\"ticks\":\"\"}}}],\"scatterternary\":[{\"type\":\"scatterternary\",\"marker\":{\"colorbar\":{\"outlinewidth\":0,\"ticks\":\"\"}}}],\"scattercarpet\":[{\"type\":\"scattercarpet\",\"marker\":{\"colorbar\":{\"outlinewidth\":0,\"ticks\":\"\"}}}],\"carpet\":[{\"aaxis\":{\"endlinecolor\":\"#2a3f5f\",\"gridcolor\":\"white\",\"linecolor\":\"white\",\"minorgridcolor\":\"white\",\"startlinecolor\":\"#2a3f5f\"},\"baxis\":{\"endlinecolor\":\"#2a3f5f\",\"gridcolor\":\"white\",\"linecolor\":\"white\",\"minorgridcolor\":\"white\",\"startlinecolor\":\"#2a3f5f\"},\"type\":\"carpet\"}],\"table\":[{\"cells\":{\"fill\":{\"color\":\"#EBF0F8\"},\"line\":{\"color\":\"white\"}},\"header\":{\"fill\":{\"color\":\"#C8D4E3\"},\"line\":{\"color\":\"white\"}},\"type\":\"table\"}],\"barpolar\":[{\"marker\":{\"line\":{\"color\":\"#E5ECF6\",\"width\":0.5},\"pattern\":{\"fillmode\":\"overlay\",\"size\":10,\"solidity\":0.2}},\"type\":\"barpolar\"}],\"pie\":[{\"automargin\":true,\"type\":\"pie\"}]},\"layout\":{\"autotypenumbers\":\"strict\",\"colorway\":[\"#636efa\",\"#EF553B\",\"#00cc96\",\"#ab63fa\",\"#FFA15A\",\"#19d3f3\",\"#FF6692\",\"#B6E880\",\"#FF97FF\",\"#FECB52\"],\"font\":{\"color\":\"#2a3f5f\"},\"hovermode\":\"closest\",\"hoverlabel\":{\"align\":\"left\"},\"paper_bgcolor\":\"white\",\"plot_bgcolor\":\"#E5ECF6\",\"polar\":{\"bgcolor\":\"#E5ECF6\",\"angularaxis\":{\"gridcolor\":\"white\",\"linecolor\":\"white\",\"ticks\":\"\"},\"radialaxis\":{\"gridcolor\":\"white\",\"linecolor\":\"white\",\"ticks\":\"\"}},\"ternary\":{\"bgcolor\":\"#E5ECF6\",\"aaxis\":{\"gridcolor\":\"white\",\"linecolor\":\"white\",\"ticks\":\"\"},\"baxis\":{\"gridcolor\":\"white\",\"linecolor\":\"white\",\"ticks\":\"\"},\"caxis\":{\"gridcolor\":\"white\",\"linecolor\":\"white\",\"ticks\":\"\"}},\"coloraxis\":{\"colorbar\":{\"outlinewidth\":0,\"ticks\":\"\"}},\"colorscale\":{\"sequential\":[[0.0,\"#0d0887\"],[0.1111111111111111,\"#46039f\"],[0.2222222222222222,\"#7201a8\"],[0.3333333333333333,\"#9c179e\"],[0.4444444444444444,\"#bd3786\"],[0.5555555555555556,\"#d8576b\"],[0.6666666666666666,\"#ed7953\"],[0.7777777777777778,\"#fb9f3a\"],[0.8888888888888888,\"#fdca26\"],[1.0,\"#f0f921\"]],\"sequentialminus\":[[0.0,\"#0d0887\"],[0.1111111111111111,\"#46039f\"],[0.2222222222222222,\"#7201a8\"],[0.3333333333333333,\"#9c179e\"],[0.4444444444444444,\"#bd3786\"],[0.5555555555555556,\"#d8576b\"],[0.6666666666666666,\"#ed7953\"],[0.7777777777777778,\"#fb9f3a\"],[0.8888888888888888,\"#fdca26\"],[1.0,\"#f0f921\"]],\"diverging\":[[0,\"#8e0152\"],[0.1,\"#c51b7d\"],[0.2,\"#de77ae\"],[0.3,\"#f1b6da\"],[0.4,\"#fde0ef\"],[0.5,\"#f7f7f7\"],[0.6,\"#e6f5d0\"],[0.7,\"#b8e186\"],[0.8,\"#7fbc41\"],[0.9,\"#4d9221\"],[1,\"#276419\"]]},\"xaxis\":{\"gridcolor\":\"white\",\"linecolor\":\"white\",\"ticks\":\"\",\"title\":{\"standoff\":15},\"zerolinecolor\":\"white\",\"automargin\":true,\"zerolinewidth\":2},\"yaxis\":{\"gridcolor\":\"white\",\"linecolor\":\"white\",\"ticks\":\"\",\"title\":{\"standoff\":15},\"zerolinecolor\":\"white\",\"automargin\":true,\"zerolinewidth\":2},\"scene\":{\"xaxis\":{\"backgroundcolor\":\"#E5ECF6\",\"gridcolor\":\"white\",\"linecolor\":\"white\",\"showbackground\":true,\"ticks\":\"\",\"zerolinecolor\":\"white\",\"gridwidth\":2},\"yaxis\":{\"backgroundcolor\":\"#E5ECF6\",\"gridcolor\":\"white\",\"linecolor\":\"white\",\"showbackground\":true,\"ticks\":\"\",\"zerolinecolor\":\"white\",\"gridwidth\":2},\"zaxis\":{\"backgroundcolor\":\"#E5ECF6\",\"gridcolor\":\"white\",\"linecolor\":\"white\",\"showbackground\":true,\"ticks\":\"\",\"zerolinecolor\":\"white\",\"gridwidth\":2}},\"shapedefaults\":{\"line\":{\"color\":\"#2a3f5f\"}},\"annotationdefaults\":{\"arrowcolor\":\"#2a3f5f\",\"arrowhead\":0,\"arrowwidth\":1},\"geo\":{\"bgcolor\":\"white\",\"landcolor\":\"#E5ECF6\",\"subunitcolor\":\"white\",\"showland\":true,\"showlakes\":true,\"lakecolor\":\"white\"},\"title\":{\"x\":0.05},\"mapbox\":{\"style\":\"light\"}}},\"scene\":{\"domain\":{\"x\":[0.0,1.0],\"y\":[0.0,1.0]},\"xaxis\":{\"title\":{\"text\":\"X\"}},\"yaxis\":{\"title\":{\"text\":\"Y\"}},\"zaxis\":{\"title\":{\"text\":\"Z\"}}},\"legend\":{\"title\":{\"text\":\"Category\"},\"tracegroupgap\":0,\"itemsizing\":\"constant\"},\"title\":{\"text\":\"3D Scatter Plot Example\"}},                        {\"responsive\": true}                    ).then(function(){\n",
              "                            \n",
              "var gd = document.getElementById('f41ff856-d337-42eb-beab-2bcc414013aa');\n",
              "var x = new MutationObserver(function (mutations, observer) {{\n",
              "        var display = window.getComputedStyle(gd).display;\n",
              "        if (!display || display === 'none') {{\n",
              "            console.log([gd, 'removed!']);\n",
              "            Plotly.purge(gd);\n",
              "            observer.disconnect();\n",
              "        }}\n",
              "}});\n",
              "\n",
              "// Listen for the removal of the full notebook cells\n",
              "var notebookContainer = gd.closest('#notebook-container');\n",
              "if (notebookContainer) {{\n",
              "    x.observe(notebookContainer, {childList: true});\n",
              "}}\n",
              "\n",
              "// Listen for the clearing of the current output cell\n",
              "var outputEl = gd.closest('.output');\n",
              "if (outputEl) {{\n",
              "    x.observe(outputEl, {childList: true});\n",
              "}}\n",
              "\n",
              "                        })                };                            </script>        </div>\n",
              "</body>\n",
              "</html>"
            ]
          },
          "metadata": {}
        }
      ]
    },
    {
      "cell_type": "code",
      "source": [],
      "metadata": {
        "id": "vA8c_5FtZPYO"
      },
      "execution_count": null,
      "outputs": []
    }
  ]
}